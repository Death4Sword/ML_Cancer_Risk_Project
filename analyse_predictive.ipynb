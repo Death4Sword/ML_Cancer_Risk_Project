{
 "cells": [
  {
   "cell_type": "code",
   "execution_count": 48,
   "metadata": {},
   "outputs": [],
   "source": [
    "import pandas as pd\n",
    "from sklearn.cluster import KMeans\n",
    "from sklearn.neighbors import KNeighborsClassifier\n",
    "from sklearn.ensemble import RandomForestClassifier\n",
    "import xgboost as xgb\n",
    "import joblib\n",
    "import warnings\n",
    "from imblearn.over_sampling import SMOTE\n",
    "import lightgbm as lgb\n",
    "from sklearn.preprocessing import OrdinalEncoder, OneHotEncoder"
   ]
  },
  {
   "cell_type": "code",
   "execution_count": 49,
   "metadata": {},
   "outputs": [],
   "source": [
    "warnings.simplefilter('ignore')\n"
   ]
  },
  {
   "cell_type": "code",
   "execution_count": 50,
   "metadata": {},
   "outputs": [
    {
     "data": {
      "text/html": [
       "<div>\n",
       "<style scoped>\n",
       "    .dataframe tbody tr th:only-of-type {\n",
       "        vertical-align: middle;\n",
       "    }\n",
       "\n",
       "    .dataframe tbody tr th {\n",
       "        vertical-align: top;\n",
       "    }\n",
       "\n",
       "    .dataframe thead th {\n",
       "        text-align: right;\n",
       "    }\n",
       "</style>\n",
       "<table border=\"1\" class=\"dataframe\">\n",
       "  <thead>\n",
       "    <tr style=\"text-align: right;\">\n",
       "      <th></th>\n",
       "      <th>Gender</th>\n",
       "      <th>Family_History</th>\n",
       "      <th>Radiation_Exposure</th>\n",
       "      <th>Iodine_Deficiency</th>\n",
       "      <th>Smoking</th>\n",
       "      <th>Obesity</th>\n",
       "      <th>Diabetes</th>\n",
       "      <th>TSH_Level</th>\n",
       "      <th>T3_Level</th>\n",
       "      <th>T4_Level</th>\n",
       "      <th>Nodule_Size</th>\n",
       "      <th>Thyroid_Cancer_Risk</th>\n",
       "      <th>Diagnosis</th>\n",
       "    </tr>\n",
       "  </thead>\n",
       "  <tbody>\n",
       "    <tr>\n",
       "      <th>0</th>\n",
       "      <td>Male</td>\n",
       "      <td>No</td>\n",
       "      <td>Yes</td>\n",
       "      <td>No</td>\n",
       "      <td>No</td>\n",
       "      <td>No</td>\n",
       "      <td>No</td>\n",
       "      <td>9.37</td>\n",
       "      <td>1.67</td>\n",
       "      <td>6.16</td>\n",
       "      <td>1.08</td>\n",
       "      <td>Low</td>\n",
       "      <td>Benign</td>\n",
       "    </tr>\n",
       "    <tr>\n",
       "      <th>1</th>\n",
       "      <td>Male</td>\n",
       "      <td>No</td>\n",
       "      <td>Yes</td>\n",
       "      <td>No</td>\n",
       "      <td>No</td>\n",
       "      <td>No</td>\n",
       "      <td>No</td>\n",
       "      <td>1.83</td>\n",
       "      <td>1.73</td>\n",
       "      <td>10.54</td>\n",
       "      <td>4.05</td>\n",
       "      <td>Low</td>\n",
       "      <td>Benign</td>\n",
       "    </tr>\n",
       "    <tr>\n",
       "      <th>2</th>\n",
       "      <td>Male</td>\n",
       "      <td>No</td>\n",
       "      <td>No</td>\n",
       "      <td>No</td>\n",
       "      <td>No</td>\n",
       "      <td>No</td>\n",
       "      <td>No</td>\n",
       "      <td>6.26</td>\n",
       "      <td>2.59</td>\n",
       "      <td>10.57</td>\n",
       "      <td>4.61</td>\n",
       "      <td>Low</td>\n",
       "      <td>Benign</td>\n",
       "    </tr>\n",
       "    <tr>\n",
       "      <th>3</th>\n",
       "      <td>Female</td>\n",
       "      <td>No</td>\n",
       "      <td>No</td>\n",
       "      <td>No</td>\n",
       "      <td>No</td>\n",
       "      <td>No</td>\n",
       "      <td>No</td>\n",
       "      <td>4.10</td>\n",
       "      <td>2.62</td>\n",
       "      <td>11.04</td>\n",
       "      <td>2.46</td>\n",
       "      <td>Medium</td>\n",
       "      <td>Benign</td>\n",
       "    </tr>\n",
       "    <tr>\n",
       "      <th>4</th>\n",
       "      <td>Female</td>\n",
       "      <td>Yes</td>\n",
       "      <td>Yes</td>\n",
       "      <td>No</td>\n",
       "      <td>No</td>\n",
       "      <td>No</td>\n",
       "      <td>No</td>\n",
       "      <td>9.10</td>\n",
       "      <td>2.11</td>\n",
       "      <td>10.71</td>\n",
       "      <td>2.11</td>\n",
       "      <td>High</td>\n",
       "      <td>Benign</td>\n",
       "    </tr>\n",
       "  </tbody>\n",
       "</table>\n",
       "</div>"
      ],
      "text/plain": [
       "   Gender Family_History Radiation_Exposure Iodine_Deficiency Smoking Obesity  \\\n",
       "0    Male             No                Yes                No      No      No   \n",
       "1    Male             No                Yes                No      No      No   \n",
       "2    Male             No                 No                No      No      No   \n",
       "3  Female             No                 No                No      No      No   \n",
       "4  Female            Yes                Yes                No      No      No   \n",
       "\n",
       "  Diabetes  TSH_Level  T3_Level  T4_Level  Nodule_Size Thyroid_Cancer_Risk  \\\n",
       "0       No       9.37      1.67      6.16         1.08                 Low   \n",
       "1       No       1.83      1.73     10.54         4.05                 Low   \n",
       "2       No       6.26      2.59     10.57         4.61                 Low   \n",
       "3       No       4.10      2.62     11.04         2.46              Medium   \n",
       "4       No       9.10      2.11     10.71         2.11                High   \n",
       "\n",
       "  Diagnosis  \n",
       "0    Benign  \n",
       "1    Benign  \n",
       "2    Benign  \n",
       "3    Benign  \n",
       "4    Benign  "
      ]
     },
     "execution_count": 50,
     "metadata": {},
     "output_type": "execute_result"
    }
   ],
   "source": [
    "df = pd.read_csv('thyroid_cancer_risk_data.csv')\n",
    "df.drop(columns=['Patient_ID', 'Age', 'Country', 'Ethnicity'], axis=1, inplace=True)\n",
    "df.head()"
   ]
  },
  {
   "cell_type": "code",
   "execution_count": 51,
   "metadata": {},
   "outputs": [],
   "source": [
    "ohe_encoding = OneHotEncoder(sparse_output=False)\n",
    "encoded_cols = [\"Gender\"]\n",
    "df_ohe_encoding = pd.DataFrame(ohe_encoding.fit_transform(df[encoded_cols]), columns=ohe_encoding.get_feature_names_out(encoded_cols))"
   ]
  },
  {
   "cell_type": "code",
   "execution_count": 52,
   "metadata": {},
   "outputs": [],
   "source": [
    "ord_encoding = OrdinalEncoder(categories=[['Low', 'Medium', 'High']])\n",
    "df['Thyroid_Cancer_Risk'] = ord_encoding.fit_transform(df[['Thyroid_Cancer_Risk']])\n",
    "\n",
    "df = df.drop(columns=encoded_cols).join(df_ohe_encoding)\n",
    "\n",
    "df['Diagnosis'] = df['Diagnosis'].map({'Benign' : 0, 'Malignant' : 1})"
   ]
  },
  {
   "cell_type": "code",
   "execution_count": 53,
   "metadata": {},
   "outputs": [],
   "source": [
    "binary_cols = ['Family_History', 'Radiation_Exposure', 'Iodine_Deficiency', 'Smoking', 'Obesity', 'Diabetes']\n",
    "df[binary_cols] = df[binary_cols].replace({'Yes' : 1, 'No' : 0}).astype(int)"
   ]
  },
  {
   "cell_type": "code",
   "execution_count": 54,
   "metadata": {},
   "outputs": [
    {
     "data": {
      "text/html": [
       "<div>\n",
       "<style scoped>\n",
       "    .dataframe tbody tr th:only-of-type {\n",
       "        vertical-align: middle;\n",
       "    }\n",
       "\n",
       "    .dataframe tbody tr th {\n",
       "        vertical-align: top;\n",
       "    }\n",
       "\n",
       "    .dataframe thead th {\n",
       "        text-align: right;\n",
       "    }\n",
       "</style>\n",
       "<table border=\"1\" class=\"dataframe\">\n",
       "  <thead>\n",
       "    <tr style=\"text-align: right;\">\n",
       "      <th></th>\n",
       "      <th>Family_History</th>\n",
       "      <th>Radiation_Exposure</th>\n",
       "      <th>Iodine_Deficiency</th>\n",
       "      <th>Smoking</th>\n",
       "      <th>Obesity</th>\n",
       "      <th>Diabetes</th>\n",
       "      <th>TSH_Level</th>\n",
       "      <th>T3_Level</th>\n",
       "      <th>T4_Level</th>\n",
       "      <th>Nodule_Size</th>\n",
       "      <th>Thyroid_Cancer_Risk</th>\n",
       "      <th>Diagnosis</th>\n",
       "      <th>Gender_Female</th>\n",
       "      <th>Gender_Male</th>\n",
       "    </tr>\n",
       "  </thead>\n",
       "  <tbody>\n",
       "    <tr>\n",
       "      <th>0</th>\n",
       "      <td>0</td>\n",
       "      <td>1</td>\n",
       "      <td>0</td>\n",
       "      <td>0</td>\n",
       "      <td>0</td>\n",
       "      <td>0</td>\n",
       "      <td>9.37</td>\n",
       "      <td>1.67</td>\n",
       "      <td>6.16</td>\n",
       "      <td>1.08</td>\n",
       "      <td>0.0</td>\n",
       "      <td>0</td>\n",
       "      <td>0.0</td>\n",
       "      <td>1.0</td>\n",
       "    </tr>\n",
       "    <tr>\n",
       "      <th>1</th>\n",
       "      <td>0</td>\n",
       "      <td>1</td>\n",
       "      <td>0</td>\n",
       "      <td>0</td>\n",
       "      <td>0</td>\n",
       "      <td>0</td>\n",
       "      <td>1.83</td>\n",
       "      <td>1.73</td>\n",
       "      <td>10.54</td>\n",
       "      <td>4.05</td>\n",
       "      <td>0.0</td>\n",
       "      <td>0</td>\n",
       "      <td>0.0</td>\n",
       "      <td>1.0</td>\n",
       "    </tr>\n",
       "    <tr>\n",
       "      <th>2</th>\n",
       "      <td>0</td>\n",
       "      <td>0</td>\n",
       "      <td>0</td>\n",
       "      <td>0</td>\n",
       "      <td>0</td>\n",
       "      <td>0</td>\n",
       "      <td>6.26</td>\n",
       "      <td>2.59</td>\n",
       "      <td>10.57</td>\n",
       "      <td>4.61</td>\n",
       "      <td>0.0</td>\n",
       "      <td>0</td>\n",
       "      <td>0.0</td>\n",
       "      <td>1.0</td>\n",
       "    </tr>\n",
       "    <tr>\n",
       "      <th>3</th>\n",
       "      <td>0</td>\n",
       "      <td>0</td>\n",
       "      <td>0</td>\n",
       "      <td>0</td>\n",
       "      <td>0</td>\n",
       "      <td>0</td>\n",
       "      <td>4.10</td>\n",
       "      <td>2.62</td>\n",
       "      <td>11.04</td>\n",
       "      <td>2.46</td>\n",
       "      <td>1.0</td>\n",
       "      <td>0</td>\n",
       "      <td>1.0</td>\n",
       "      <td>0.0</td>\n",
       "    </tr>\n",
       "    <tr>\n",
       "      <th>4</th>\n",
       "      <td>1</td>\n",
       "      <td>1</td>\n",
       "      <td>0</td>\n",
       "      <td>0</td>\n",
       "      <td>0</td>\n",
       "      <td>0</td>\n",
       "      <td>9.10</td>\n",
       "      <td>2.11</td>\n",
       "      <td>10.71</td>\n",
       "      <td>2.11</td>\n",
       "      <td>2.0</td>\n",
       "      <td>0</td>\n",
       "      <td>1.0</td>\n",
       "      <td>0.0</td>\n",
       "    </tr>\n",
       "    <tr>\n",
       "      <th>...</th>\n",
       "      <td>...</td>\n",
       "      <td>...</td>\n",
       "      <td>...</td>\n",
       "      <td>...</td>\n",
       "      <td>...</td>\n",
       "      <td>...</td>\n",
       "      <td>...</td>\n",
       "      <td>...</td>\n",
       "      <td>...</td>\n",
       "      <td>...</td>\n",
       "      <td>...</td>\n",
       "      <td>...</td>\n",
       "      <td>...</td>\n",
       "      <td>...</td>\n",
       "    </tr>\n",
       "    <tr>\n",
       "      <th>212686</th>\n",
       "      <td>0</td>\n",
       "      <td>0</td>\n",
       "      <td>0</td>\n",
       "      <td>0</td>\n",
       "      <td>1</td>\n",
       "      <td>0</td>\n",
       "      <td>2.00</td>\n",
       "      <td>0.64</td>\n",
       "      <td>11.92</td>\n",
       "      <td>1.48</td>\n",
       "      <td>0.0</td>\n",
       "      <td>0</td>\n",
       "      <td>1.0</td>\n",
       "      <td>0.0</td>\n",
       "    </tr>\n",
       "    <tr>\n",
       "      <th>212687</th>\n",
       "      <td>0</td>\n",
       "      <td>0</td>\n",
       "      <td>0</td>\n",
       "      <td>0</td>\n",
       "      <td>1</td>\n",
       "      <td>0</td>\n",
       "      <td>9.77</td>\n",
       "      <td>3.25</td>\n",
       "      <td>7.30</td>\n",
       "      <td>4.46</td>\n",
       "      <td>1.0</td>\n",
       "      <td>0</td>\n",
       "      <td>0.0</td>\n",
       "      <td>1.0</td>\n",
       "    </tr>\n",
       "    <tr>\n",
       "      <th>212688</th>\n",
       "      <td>0</td>\n",
       "      <td>0</td>\n",
       "      <td>0</td>\n",
       "      <td>0</td>\n",
       "      <td>0</td>\n",
       "      <td>1</td>\n",
       "      <td>7.72</td>\n",
       "      <td>2.44</td>\n",
       "      <td>8.71</td>\n",
       "      <td>2.36</td>\n",
       "      <td>1.0</td>\n",
       "      <td>0</td>\n",
       "      <td>1.0</td>\n",
       "      <td>0.0</td>\n",
       "    </tr>\n",
       "    <tr>\n",
       "      <th>212689</th>\n",
       "      <td>0</td>\n",
       "      <td>0</td>\n",
       "      <td>0</td>\n",
       "      <td>0</td>\n",
       "      <td>0</td>\n",
       "      <td>1</td>\n",
       "      <td>5.62</td>\n",
       "      <td>2.53</td>\n",
       "      <td>9.62</td>\n",
       "      <td>1.54</td>\n",
       "      <td>1.0</td>\n",
       "      <td>0</td>\n",
       "      <td>1.0</td>\n",
       "      <td>0.0</td>\n",
       "    </tr>\n",
       "    <tr>\n",
       "      <th>212690</th>\n",
       "      <td>0</td>\n",
       "      <td>0</td>\n",
       "      <td>0</td>\n",
       "      <td>1</td>\n",
       "      <td>0</td>\n",
       "      <td>0</td>\n",
       "      <td>5.60</td>\n",
       "      <td>2.73</td>\n",
       "      <td>10.59</td>\n",
       "      <td>2.53</td>\n",
       "      <td>0.0</td>\n",
       "      <td>1</td>\n",
       "      <td>1.0</td>\n",
       "      <td>0.0</td>\n",
       "    </tr>\n",
       "  </tbody>\n",
       "</table>\n",
       "<p>212691 rows × 14 columns</p>\n",
       "</div>"
      ],
      "text/plain": [
       "        Family_History  Radiation_Exposure  Iodine_Deficiency  Smoking  \\\n",
       "0                    0                   1                  0        0   \n",
       "1                    0                   1                  0        0   \n",
       "2                    0                   0                  0        0   \n",
       "3                    0                   0                  0        0   \n",
       "4                    1                   1                  0        0   \n",
       "...                ...                 ...                ...      ...   \n",
       "212686               0                   0                  0        0   \n",
       "212687               0                   0                  0        0   \n",
       "212688               0                   0                  0        0   \n",
       "212689               0                   0                  0        0   \n",
       "212690               0                   0                  0        1   \n",
       "\n",
       "        Obesity  Diabetes  TSH_Level  T3_Level  T4_Level  Nodule_Size  \\\n",
       "0             0         0       9.37      1.67      6.16         1.08   \n",
       "1             0         0       1.83      1.73     10.54         4.05   \n",
       "2             0         0       6.26      2.59     10.57         4.61   \n",
       "3             0         0       4.10      2.62     11.04         2.46   \n",
       "4             0         0       9.10      2.11     10.71         2.11   \n",
       "...         ...       ...        ...       ...       ...          ...   \n",
       "212686        1         0       2.00      0.64     11.92         1.48   \n",
       "212687        1         0       9.77      3.25      7.30         4.46   \n",
       "212688        0         1       7.72      2.44      8.71         2.36   \n",
       "212689        0         1       5.62      2.53      9.62         1.54   \n",
       "212690        0         0       5.60      2.73     10.59         2.53   \n",
       "\n",
       "        Thyroid_Cancer_Risk  Diagnosis  Gender_Female  Gender_Male  \n",
       "0                       0.0          0            0.0          1.0  \n",
       "1                       0.0          0            0.0          1.0  \n",
       "2                       0.0          0            0.0          1.0  \n",
       "3                       1.0          0            1.0          0.0  \n",
       "4                       2.0          0            1.0          0.0  \n",
       "...                     ...        ...            ...          ...  \n",
       "212686                  0.0          0            1.0          0.0  \n",
       "212687                  1.0          0            0.0          1.0  \n",
       "212688                  1.0          0            1.0          0.0  \n",
       "212689                  1.0          0            1.0          0.0  \n",
       "212690                  0.0          1            1.0          0.0  \n",
       "\n",
       "[212691 rows x 14 columns]"
      ]
     },
     "execution_count": 54,
     "metadata": {},
     "output_type": "execute_result"
    }
   ],
   "source": [
    "df"
   ]
  },
  {
   "cell_type": "markdown",
   "metadata": {},
   "source": [
    "## Train test & split"
   ]
  },
  {
   "cell_type": "code",
   "execution_count": 81,
   "metadata": {},
   "outputs": [],
   "source": [
    "from sklearn.model_selection import train_test_split\n",
    "from sklearn.model_selection import cross_val_score\n",
    "from sklearn.model_selection import GridSearchCV\n",
    "from sklearn.metrics import accuracy_score, roc_auc_score, classification_report, confusion_matrix, roc_curve\n",
    "import seaborn as sns\n",
    "import matplotlib.pyplot as plt\n",
    "\n",
    "df_resultats = pd.DataFrame()\n",
    "df_comparaison_results = pd.DataFrame()\n",
    "\n",
    "X = df.drop(columns='Diagnosis')\n",
    "y = df['Diagnosis']\n",
    "\n",
    "X_train, X_test, y_train, y_test = train_test_split(X, y, test_size=0.33, random_state=42)"
   ]
  },
  {
   "cell_type": "code",
   "execution_count": null,
   "metadata": {},
   "outputs": [],
   "source": [
    "# print(f'Len x_train = {len(X_train)}')\n",
    "# print(f'Len x_test = {len(X_test)}')\n",
    "# print(f'Len y_train = {len(y_train)}')\n",
    "# print(f'Len y_test = {len(y_test)}')"
   ]
  },
  {
   "cell_type": "markdown",
   "metadata": {},
   "source": [
    "## Logistic regression"
   ]
  },
  {
   "cell_type": "code",
   "execution_count": 57,
   "metadata": {},
   "outputs": [
    {
     "name": "stdout",
     "output_type": "stream",
     "text": [
      "Score des validations croisées [0.826089   0.82824768 0.82709577 0.82850628 0.82683718]\n",
      "Score moyen : 0.8273551831820928\n"
     ]
    }
   ],
   "source": [
    "from sklearn.linear_model import LogisticRegression\n",
    "\n",
    "model_lr = LogisticRegression(random_state=42, n_jobs=-1)\n",
    "\n",
    "score = cross_val_score(model_lr, X, y, cv=5)\n",
    "print(f'Score des validations croisées {score}')\n",
    "print(f'Score moyen : {score.mean()}')\n",
    "\n",
    "df_resultats['lr_score'] = score"
   ]
  },
  {
   "cell_type": "code",
   "execution_count": 58,
   "metadata": {},
   "outputs": [
    {
     "name": "stdout",
     "output_type": "stream",
     "text": [
      "Fitting 5 folds for each of 15 candidates, totalling 75 fits\n",
      "Meilleurs paramètres : {'C': 100, 'max_iter': 100}\n",
      "Meilleur score AUC : 0.6973052132690352\n",
      "Meilleur estimateur : LogisticRegression(C=100)\n"
     ]
    }
   ],
   "source": [
    "clf_lr = GridSearchCV(estimator=LogisticRegression(), cv=5, param_grid={'max_iter' :[100,200,500], 'C' : [0.01, 0.1, 1, 10, 100]},scoring='roc_auc', verbose=1, n_jobs=-1)\n",
    "\n",
    "clf_lr.fit(X_train, y_train)\n",
    "\n",
    "print(f'Meilleurs paramètres : {clf_lr.best_params_}')\n",
    "print(f'Meilleur score AUC : {clf_lr.best_score_}')\n",
    "print(f'Meilleur estimateur : {clf_lr.best_estimator_}')"
   ]
  },
  {
   "cell_type": "code",
   "execution_count": 102,
   "metadata": {},
   "outputs": [
    {
     "name": "stdout",
     "output_type": "stream",
     "text": [
      "Model save sous 'pred_cancer_logistic_regression.pkl'\n"
     ]
    }
   ],
   "source": [
    "joblib.dump(clf_lr.best_estimator_, 'pred_cancer_logistic_regression.joblib')\n",
    "print(\"Model save sous 'pred_cancer_logistic_regression.pkl'\")"
   ]
  },
  {
   "cell_type": "code",
   "execution_count": 82,
   "metadata": {},
   "outputs": [
    {
     "name": "stdout",
     "output_type": "stream",
     "text": [
      "Accuracy : 0.8260838592941914\n",
      "AUC : 0.6956947037876624\n",
      "\n",
      "\n",
      "Classification report : \n",
      "              precision    recall  f1-score   support\n",
      "\n",
      "           0       0.85      0.94      0.89     53887\n",
      "           1       0.69      0.45      0.55     16302\n",
      "\n",
      "    accuracy                           0.83     70189\n",
      "   macro avg       0.77      0.69      0.72     70189\n",
      "weighted avg       0.81      0.83      0.81     70189\n",
      "\n",
      "Matrice de confusion\n"
     ]
    },
    {
     "data": {
      "image/png": "[encoded data removed]",
      "text/plain": [
       "<Figure size 640x480 with 2 Axes>"
      ]
     },
     "metadata": {},
     "output_type": "display_data"
    },
    {
     "name": "stdout",
     "output_type": "stream",
     "text": [
      "Matrice de confusion : \n",
      "[[50654  3233]\n",
      " [ 8974  7328]]\n"
     ]
    }
   ],
   "source": [
    "best_lr_model = clf_lr.best_estimator_\n",
    "y_pred = best_lr_model.predict(X_test)\n",
    "y_proba = best_lr_model.predict_proba(X_test)[:,1]\n",
    "\n",
    "\n",
    "print(f'Accuracy : {accuracy_score(y_test, y_pred)}')\n",
    "\n",
    "print(f'AUC : {roc_auc_score(y_test, y_proba)}')\n",
    "\n",
    "print(f'\\n\\nClassification report : \\n{classification_report(y_test, y_pred)}')\n",
    "\n",
    "\n",
    "accuracy_lr = accuracy_score(y_test, y_pred)\n",
    "auc_lr = roc_auc_score(y_test, y_proba)\n",
    "\n",
    "nouvelle_entree = pd.DataFrame({\n",
    "    'Model': ['LogisticRegression'],\n",
    "    'Accuracy': [accuracy_lr],\n",
    "    'AUC': [auc_lr]\n",
    "})\n",
    "\n",
    "df_comparaison_results = pd.concat([df_comparaison_results, nouvelle_entree], ignore_index=True)\n",
    "\n",
    "\n",
    "print(f'Matrice de confusion')\n",
    "confusion_matrix_graph = confusion_matrix(y_test, y_pred)\n",
    "sns.heatmap(confusion_matrix_graph, annot=True, fmt='d', cmap=\"Blues\")\n",
    "plt.xlabel(\"Prédictions\")\n",
    "plt.ylabel(\"Vraies valeurs\")\n",
    "plt.title(\"Matrice de confusion\")\n",
    "plt.show()\n",
    "print(f'Matrice de confusion : \\n{confusion_matrix(y_test, y_pred)}')"
   ]
  },
  {
   "cell_type": "markdown",
   "metadata": {},
   "source": [
    "## Decision Tree"
   ]
  },
  {
   "cell_type": "code",
   "execution_count": 60,
   "metadata": {},
   "outputs": [
    {
     "name": "stdout",
     "output_type": "stream",
     "text": [
      "Score des validations croisées [0.70321352 0.70797875 0.70506371 0.70713245 0.70506371]\n",
      "Score moyen : 0.7056904263786652\n"
     ]
    }
   ],
   "source": [
    "from sklearn.tree import DecisionTreeClassifier\n",
    "\n",
    "model_decision_tree = DecisionTreeClassifier(random_state=42)\n",
    "\n",
    "score = cross_val_score(model_decision_tree, X, y, cv=5)\n",
    "print(f'Score des validations croisées {score}')\n",
    "print(f'Score moyen : {score.mean()}')\n",
    "\n",
    "df_resultats['decision_tree'] = score"
   ]
  },
  {
   "cell_type": "code",
   "execution_count": 61,
   "metadata": {},
   "outputs": [
    {
     "name": "stdout",
     "output_type": "stream",
     "text": [
      "Fitting 5 folds for each of 20 candidates, totalling 100 fits\n",
      "Meilleurs paramètres : {'criterion': 'entropy', 'max_depth': 2}\n",
      "Meilleur score AUC : 0.6992229762040398\n",
      "Meilleur estimateur : DecisionTreeClassifier(criterion='entropy', max_depth=2)\n"
     ]
    }
   ],
   "source": [
    "clf_decision_tree = GridSearchCV(cv=5, estimator=DecisionTreeClassifier(), param_grid={'max_depth' :[1,2,3,4,5,6,7,8,9,10], 'criterion' : ['gini', 'entropy']},scoring='roc_auc', verbose=1, n_jobs=-1)\n",
    "clf_decision_tree.fit(X_train, y_train)\n",
    "\n",
    "print(f'Meilleurs paramètres : {clf_decision_tree.best_params_}')\n",
    "print(f'Meilleur score AUC : {clf_decision_tree.best_score_}')\n",
    "print(f'Meilleur estimateur : {clf_decision_tree.best_estimator_}')"
   ]
  },
  {
   "cell_type": "code",
   "execution_count": 99,
   "metadata": {},
   "outputs": [],
   "source": [
    "# joblib.dump(clf_decision_tree.best_estimator_, 'pred_cancer_decision_tree.joblib')\n",
    "# print(\"Model save sous 'pred_cancer_decision_tree.pkl'\")"
   ]
  },
  {
   "cell_type": "code",
   "execution_count": 83,
   "metadata": {},
   "outputs": [
    {
     "name": "stdout",
     "output_type": "stream",
     "text": [
      "Accuracy : 0.8260838592941914\n",
      "AUC : 0.6947597397505734\n",
      "\n",
      "\n",
      "Classification report : \n",
      "              precision    recall  f1-score   support\n",
      "\n",
      "           0       0.85      0.94      0.89     53887\n",
      "           1       0.69      0.45      0.55     16302\n",
      "\n",
      "    accuracy                           0.83     70189\n",
      "   macro avg       0.77      0.69      0.72     70189\n",
      "weighted avg       0.81      0.83      0.81     70189\n",
      "\n",
      "Matrice de confusion : \n",
      "[[50654  3233]\n",
      " [ 8974  7328]]\n",
      "Matrice de confusion\n"
     ]
    },
    {
     "data": {
      "image/png": "[encoded data removed]",
      "text/plain": [
       "<Figure size 640x480 with 2 Axes>"
      ]
     },
     "metadata": {},
     "output_type": "display_data"
    }
   ],
   "source": [
    "model_decision_tree = clf_decision_tree.best_estimator_\n",
    "\n",
    "y_pred_decision_tree = model_decision_tree.predict(X_test)\n",
    "\n",
    "print(f'Accuracy : {accuracy_score(y_test, y_pred_decision_tree)}')\n",
    "print(f'AUC : {roc_auc_score(y_test, y_pred_decision_tree)}')\n",
    "print(f'\\n\\nClassification report : \\n{classification_report(y_test, y_pred_decision_tree)}')\n",
    "print(f'Matrice de confusion : \\n{confusion_matrix(y_test, y_pred_decision_tree)}')\n",
    "\n",
    "\n",
    "accuracy_dt = accuracy_score(y_test, y_pred_decision_tree)\n",
    "auc_dt = roc_auc_score(y_test, y_pred_decision_tree)\n",
    "\n",
    "nouvelle_entree = pd.DataFrame({\n",
    "    'Model': ['Decision Tree'],\n",
    "    'Accuracy': [accuracy_dt],\n",
    "    'AUC': [auc_dt]\n",
    "})\n",
    "\n",
    "df_comparaison_results = pd.concat([df_comparaison_results, nouvelle_entree], ignore_index=True)\n",
    "\n",
    "\n",
    "print(f'Matrice de confusion')\n",
    "confusion_matrix_graph = confusion_matrix(y_test, y_pred_decision_tree)\n",
    "sns.heatmap(confusion_matrix_graph, annot=True, fmt='d', cmap=\"Blues\")\n",
    "plt.xlabel(\"Prédictions\")\n",
    "plt.ylabel(\"Vraies valeurs\")\n",
    "plt.title(\"Matrice de confusion\")\n",
    "plt.show()"
   ]
  },
  {
   "cell_type": "markdown",
   "metadata": {},
   "source": [
    "# Avec smote"
   ]
  },
  {
   "cell_type": "markdown",
   "metadata": {},
   "source": [
    "## train test split "
   ]
  },
  {
   "cell_type": "code",
   "execution_count": 20,
   "metadata": {},
   "outputs": [],
   "source": [
    "smote = SMOTE(sampling_strategy=\"auto\", random_state=42)\n",
    "\n",
    "X_train, X_test, y_train, y_test = train_test_split(X, y, test_size=0.33, random_state=42)\n",
    "X_resampled, y_resampled = smote.fit_resample(X_train, y_train)"
   ]
  },
  {
   "cell_type": "markdown",
   "metadata": {},
   "source": [
    "## Decison tree"
   ]
  },
  {
   "cell_type": "code",
   "execution_count": 63,
   "metadata": {},
   "outputs": [
    {
     "name": "stdout",
     "output_type": "stream",
     "text": [
      "Score des validations croisées [0.69183972 0.71949044 0.75441405 0.74907943 0.75184685]\n",
      "Score moyen : 0.7333340999281217\n"
     ]
    }
   ],
   "source": [
    "from sklearn.tree import DecisionTreeClassifier\n",
    "\n",
    "model_decision_tree_smote = DecisionTreeClassifier(random_state=42)\n",
    "\n",
    "score = cross_val_score(model_decision_tree_smote, X_resampled, y_resampled, cv=5)\n",
    "print(f'Score des validations croisées {score}')\n",
    "print(f'Score moyen : {score.mean()}')\n",
    "\n",
    "df_resultats['decision_tree_smote'] = score"
   ]
  },
  {
   "cell_type": "code",
   "execution_count": 64,
   "metadata": {},
   "outputs": [
    {
     "name": "stdout",
     "output_type": "stream",
     "text": [
      "Fitting 5 folds for each of 20 candidates, totalling 100 fits\n",
      "Meilleurs paramètres : {'criterion': 'gini', 'max_depth': 10}\n",
      "Meilleur score AUC : 0.7640354942193589\n",
      "Meilleur estimateur : DecisionTreeClassifier(max_depth=10)\n"
     ]
    }
   ],
   "source": [
    "clf_decision_tree_smote = GridSearchCV(cv=5, estimator=DecisionTreeClassifier(), param_grid={'max_depth' :[1,2,3,4,5,6,7,8,9,10], 'criterion' : ['gini', 'entropy']},scoring='roc_auc', verbose=1, n_jobs=-1)\n",
    "clf_decision_tree_smote.fit(X_resampled, y_resampled)\n",
    "\n",
    "print(f'Meilleurs paramètres : {clf_decision_tree_smote.best_params_}')\n",
    "print(f'Meilleur score AUC : {clf_decision_tree_smote.best_score_}')\n",
    "print(f'Meilleur estimateur : {clf_decision_tree_smote.best_estimator_}')"
   ]
  },
  {
   "cell_type": "code",
   "execution_count": 84,
   "metadata": {},
   "outputs": [
    {
     "name": "stdout",
     "output_type": "stream",
     "text": [
      "Accuracy : 0.8220233939791135\n",
      "AUC : 0.6907889878941387\n",
      "\n",
      "\n",
      "Classification report : \n",
      "              precision    recall  f1-score   support\n",
      "\n",
      "           0       0.85      0.94      0.89     53887\n",
      "           1       0.68      0.45      0.54     16302\n",
      "\n",
      "    accuracy                           0.82     70189\n",
      "   macro avg       0.76      0.69      0.71     70189\n",
      "weighted avg       0.81      0.82      0.81     70189\n",
      "\n",
      "Matrice de confusion : \n",
      "[[50431  3456]\n",
      " [ 9036  7266]]\n",
      "Matrice de confusion\n"
     ]
    },
    {
     "data": {
      "image/png": "[encoded data removed]",
      "text/plain": [
       "<Figure size 640x480 with 2 Axes>"
      ]
     },
     "metadata": {},
     "output_type": "display_data"
    }
   ],
   "source": [
    "model_decision_tree_smote = clf_decision_tree_smote.best_estimator_\n",
    "y_pred_decision_tree_smote = model_decision_tree_smote.predict(X_test)\n",
    "\n",
    "print(f'Accuracy : {accuracy_score(y_test, y_pred_decision_tree_smote)}')\n",
    "print(f'AUC : {roc_auc_score(y_test, y_pred_decision_tree_smote)}')\n",
    "print(f'\\n\\nClassification report : \\n{classification_report(y_test, y_pred_decision_tree_smote)}')\n",
    "print(f'Matrice de confusion : \\n{confusion_matrix(y_test, y_pred_decision_tree_smote)}')\n",
    "\n",
    "\n",
    "accuracy_dt_smote = accuracy_score(y_test, y_pred_decision_tree_smote)\n",
    "auc_dt_smote = roc_auc_score(y_test, y_pred_decision_tree_smote)\n",
    "\n",
    "nouvelle_entree = pd.DataFrame({\n",
    "    'Model': ['Decision Tree SMOTE'],\n",
    "    'Accuracy': [accuracy_dt_smote],\n",
    "    'AUC': [auc_dt_smote]\n",
    "})\n",
    "\n",
    "df_comparaison_results = pd.concat([df_comparaison_results, nouvelle_entree], ignore_index=True)\n",
    "\n",
    "\n",
    "print(f'Matrice de confusion')\n",
    "confusion_matrix_graph = confusion_matrix(y_test, y_pred_decision_tree_smote)\n",
    "sns.heatmap(confusion_matrix_graph, annot=True, fmt='d', cmap=\"Blues\")\n",
    "plt.xlabel(\"Prédictions\")\n",
    "plt.ylabel(\"Vraies valeurs\")\n",
    "plt.title(\"Matrice de confusion\")\n",
    "plt.show()\n"
   ]
  },
  {
   "cell_type": "markdown",
   "metadata": {},
   "source": [
    "## LightGBM"
   ]
  },
  {
   "cell_type": "code",
   "execution_count": 66,
   "metadata": {},
   "outputs": [
    {
     "name": "stdout",
     "output_type": "stream",
     "text": [
      "[LightGBM] [Info] Number of positive: 87447, number of negative: 87447\n",
      "[LightGBM] [Info] Auto-choosing row-wise multi-threading, the overhead of testing was 0.004432 seconds.\n",
      "You can set `force_row_wise=true` to remove the overhead.\n",
      "And if memory is not enough, you can set `force_col_wise=true`.\n",
      "[LightGBM] [Info] Total Bins 1417\n",
      "[LightGBM] [Info] Number of data points in the train set: 174894, number of used features: 13\n",
      "[LightGBM] [Info] [binary:BoostFromScore]: pavg=0.500000 -> initscore=0.000000\n",
      "[LightGBM] [Info] Number of positive: 87447, number of negative: 87447\n",
      "[LightGBM] [Info] Auto-choosing row-wise multi-threading, the overhead of testing was 0.004251 seconds.\n",
      "You can set `force_row_wise=true` to remove the overhead.\n",
      "And if memory is not enough, you can set `force_col_wise=true`.\n",
      "[LightGBM] [Info] Total Bins 1399\n",
      "[LightGBM] [Info] Number of data points in the train set: 174894, number of used features: 13\n",
      "[LightGBM] [Info] [binary:BoostFromScore]: pavg=0.500000 -> initscore=0.000000\n",
      "[LightGBM] [Info] Number of positive: 87447, number of negative: 87447\n",
      "[LightGBM] [Info] Auto-choosing row-wise multi-threading, the overhead of testing was 0.004902 seconds.\n",
      "You can set `force_row_wise=true` to remove the overhead.\n",
      "And if memory is not enough, you can set `force_col_wise=true`.\n",
      "[LightGBM] [Info] Total Bins 1379\n",
      "[LightGBM] [Info] Number of data points in the train set: 174894, number of used features: 13\n",
      "[LightGBM] [Info] [binary:BoostFromScore]: pavg=0.500000 -> initscore=0.000000\n",
      "[LightGBM] [Info] Number of positive: 87448, number of negative: 87447\n",
      "[LightGBM] [Info] Auto-choosing row-wise multi-threading, the overhead of testing was 0.003825 seconds.\n",
      "You can set `force_row_wise=true` to remove the overhead.\n",
      "And if memory is not enough, you can set `force_col_wise=true`.\n",
      "[LightGBM] [Info] Total Bins 1377\n",
      "[LightGBM] [Info] Number of data points in the train set: 174895, number of used features: 13\n",
      "[LightGBM] [Info] [binary:BoostFromScore]: pavg=0.500000 -> initscore=-0.000000\n",
      "[LightGBM] [Info] Start training from score -0.000000\n",
      "[LightGBM] [Info] Number of positive: 87447, number of negative: 87448\n",
      "[LightGBM] [Info] Auto-choosing row-wise multi-threading, the overhead of testing was 0.004168 seconds.\n",
      "You can set `force_row_wise=true` to remove the overhead.\n",
      "And if memory is not enough, you can set `force_col_wise=true`.\n",
      "[LightGBM] [Info] Total Bins 1385\n",
      "[LightGBM] [Info] Number of data points in the train set: 174895, number of used features: 13\n",
      "[LightGBM] [Info] [binary:BoostFromScore]: pavg=0.500000 -> initscore=0.000000\n",
      "[LightGBM] [Info] Start training from score 0.000000\n",
      "Score des validations croisées [0.69234288 0.71638002 0.73431068 0.73272648 0.73336688]\n",
      "Score moyen : 0.7218253869424593\n"
     ]
    }
   ],
   "source": [
    "model_lgbm = lgb.LGBMClassifier(random_state=42, class_weight='balanced', n_jobs=-1)\n",
    "\n",
    "score = cross_val_score(model_lgbm, X_resampled, y_resampled, cv=5)\n",
    "print(f'Score des validations croisées {score}')\n",
    "print(f'Score moyen : {score.mean()}')\n",
    "df_resultats['lightgbm_smote'] = score"
   ]
  },
  {
   "cell_type": "code",
   "execution_count": 67,
   "metadata": {},
   "outputs": [
    {
     "name": "stdout",
     "output_type": "stream",
     "text": [
      "Fitting 5 folds for each of 20 candidates, totalling 100 fits\n",
      "[LightGBM] [Info] Number of positive: 109309, number of negative: 109309\n",
      "[LightGBM] [Info] Auto-choosing row-wise multi-threading, the overhead of testing was 0.007692 seconds.\n",
      "You can set `force_row_wise=true` to remove the overhead.\n",
      "And if memory is not enough, you can set `force_col_wise=true`.\n",
      "[LightGBM] [Info] Total Bins 1405\n",
      "[LightGBM] [Info] Number of data points in the train set: 218618, number of used features: 13\n",
      "[LightGBM] [Info] [binary:BoostFromScore]: pavg=0.500000 -> initscore=0.000000\n",
      "[LightGBM] [Warning] No further splits with positive gain, best gain: -inf\n",
      "[LightGBM] [Warning] No further splits with positive gain, best gain: -inf\n",
      "[LightGBM] [Warning] No further splits with positive gain, best gain: -inf\n",
      "[LightGBM] [Warning] No further splits with positive gain, best gain: -inf\n",
      "[LightGBM] [Warning] No further splits with positive gain, best gain: -inf\n",
      "Meilleurs paramètres : {'colsample_bytree': np.float64(0.8416317594127292), 'learning_rate': np.float64(0.1929989973347863), 'max_depth': 10, 'min_child_samples': 39, 'n_estimators': 255, 'num_leaves': 100, 'reg_alpha': np.float64(2.587799816000169), 'reg_lambda': np.float64(6.62522284353982), 'subsample': np.float64(0.6558555380447055)}\n",
      "Meilleur score AUC : 0.8144736476842626\n",
      "Meilleur estimateur : LGBMClassifier(colsample_bytree=np.float64(0.8416317594127292),\n",
      "               learning_rate=np.float64(0.1929989973347863), max_depth=10,\n",
      "               min_child_samples=39, n_estimators=255, num_leaves=100,\n",
      "               reg_alpha=np.float64(2.587799816000169),\n",
      "               reg_lambda=np.float64(6.62522284353982),\n",
      "               subsample=np.float64(0.6558555380447055))\n"
     ]
    }
   ],
   "source": [
    "from scipy.stats import randint, uniform\n",
    "from sklearn.model_selection import RandomizedSearchCV\n",
    "\n",
    "param_dist = {\n",
    "    'num_leaves': randint(20, 150),\n",
    "    'max_depth': randint(3, 15),\n",
    "    'learning_rate': uniform(0.01, 0.3),\n",
    "    'n_estimators': randint(50, 500),\n",
    "    'min_child_samples': randint(5, 50),\n",
    "    'subsample': uniform(0.5, 0.5),\n",
    "    'colsample_bytree': uniform(0.5, 0.5),\n",
    "    'reg_lambda': uniform(0, 10),\n",
    "    'reg_alpha': uniform(0, 10)\n",
    "}\n",
    "\n",
    "clf_lgb = RandomizedSearchCV(\n",
    "    lgb.LGBMClassifier(),\n",
    "    param_distributions=param_dist,\n",
    "    n_iter=20, \n",
    "    cv=5, \n",
    "    scoring='roc_auc',\n",
    "    verbose=1,\n",
    "    n_jobs=-1,\n",
    "    random_state=42\n",
    ")\n",
    "\n",
    "clf_lgb.fit(X_resampled, y_resampled)\n",
    "\n",
    "print(f'Meilleurs paramètres : {clf_lgb.best_params_}')\n",
    "print(f'Meilleur score AUC : {clf_lgb.best_score_}')\n",
    "print(f'Meilleur estimateur : {clf_lgb.best_estimator_}')"
   ]
  },
  {
   "cell_type": "code",
   "execution_count": 85,
   "metadata": {},
   "outputs": [
    {
     "name": "stdout",
     "output_type": "stream",
     "text": [
      "Accuracy : 0.7827864765134138\n",
      "AUC : 0.6808519724011498\n",
      "\n",
      "\n",
      "Classification report : \n",
      "              precision    recall  f1-score   support\n",
      "\n",
      "           0       0.85      0.87      0.86     53887\n",
      "           1       0.54      0.49      0.51     16302\n",
      "\n",
      "    accuracy                           0.78     70189\n",
      "   macro avg       0.69      0.68      0.69     70189\n",
      "weighted avg       0.78      0.78      0.78     70189\n",
      "\n",
      "Matrice de confusion : \n",
      "[[46947  6940]\n",
      " [ 8306  7996]]\n",
      "Matrice de confusion\n"
     ]
    },
    {
     "data": {
      "image/png": "[encoded data removed]",
      "text/plain": [
       "<Figure size 640x480 with 2 Axes>"
      ]
     },
     "metadata": {},
     "output_type": "display_data"
    }
   ],
   "source": [
    "model_lgbm = clf_lgb.best_estimator_\n",
    "y_pred_lgbm = model_lgbm.predict(X_test)\n",
    "\n",
    "print(f'Accuracy : {accuracy_score(y_test, y_pred_lgbm)}')\n",
    "print(f'AUC : {roc_auc_score(y_test, y_pred_lgbm)}')\n",
    "print(f'\\n\\nClassification report : \\n{classification_report(y_test, y_pred_lgbm)}')\n",
    "print(f'Matrice de confusion : \\n{confusion_matrix(y_test, y_pred_lgbm)}')\n",
    "\n",
    "accuracy_lgb_smote = accuracy_score(y_test, y_pred_lgbm)\n",
    "auc_lgb_smote = roc_auc_score(y_test, y_pred_lgbm)\n",
    "\n",
    "nouvelle_entree = pd.DataFrame({\n",
    "    'Model': ['LGBM SMOTE'],\n",
    "    'Accuracy': [accuracy_lgb_smote],\n",
    "    'AUC': [auc_lgb_smote]\n",
    "})\n",
    "\n",
    "df_comparaison_results = pd.concat([df_comparaison_results, nouvelle_entree], ignore_index=True)\n",
    "\n",
    "\n",
    "\n",
    "print(f'Matrice de confusion')\n",
    "confusion_matrix_graph = confusion_matrix(y_test, y_pred_lgbm)\n",
    "sns.heatmap(confusion_matrix_graph, annot=True, fmt='d', cmap=\"Blues\")\n",
    "plt.xlabel(\"Prédictions\")\n",
    "plt.ylabel(\"Vraies valeurs\")\n",
    "plt.title(\"Matrice de confusion\")\n",
    "plt.show()"
   ]
  },
  {
   "cell_type": "code",
   "execution_count": null,
   "metadata": {},
   "outputs": [
    {
     "name": "stdout",
     "output_type": "stream",
     "text": [
      "Model save sous 'pred_cancer_light_gbm.pkl'\n"
     ]
    }
   ],
   "source": [
    "# joblib.dump(clf_lgb.best_estimator_, 'pred_cancer_light_gbm.joblib')\n",
    "# print(\"Model save sous 'pred_cancer_light_gbm.pkl'\")"
   ]
  },
  {
   "cell_type": "markdown",
   "metadata": {},
   "source": [
    "## random forest smote"
   ]
  },
  {
   "cell_type": "code",
   "execution_count": 32,
   "metadata": {},
   "outputs": [
    {
     "name": "stdout",
     "output_type": "stream",
     "text": [
      "Score des validations croisées [0.75637265 0.80083018 0.85732923 0.85789181 0.85889542]\n",
      "Score moyen : 0.8262638573383508\n"
     ]
    }
   ],
   "source": [
    "model_rf_smote = RandomForestClassifier(random_state=42, class_weight={0:1, 1:2}, n_jobs=-1)\n",
    "score = cross_val_score(model_rf_smote, X_resampled, y_resampled, cv=5, scoring='f1')\n",
    "print(f'Score des validations croisées {score}')\n",
    "print(f'Score moyen : {score.mean()}')\n",
    "df_resultats['random_forest_smote'] = score"
   ]
  },
  {
   "cell_type": "code",
   "execution_count": 34,
   "metadata": {},
   "outputs": [
    {
     "name": "stdout",
     "output_type": "stream",
     "text": [
      "Fitting 5 folds for each of 30 candidates, totalling 150 fits\n",
      "Meilleurs paramètres : {'bootstrap': False, 'class_weight': {0: 1, 1: 2}, 'max_depth': 20, 'max_features': 'sqrt', 'min_samples_leaf': 7, 'min_samples_split': 8, 'n_estimators': 286}\n",
      "Meilleur score AUC : 0.5505265249391891\n",
      "Meilleur estimateur : RandomForestClassifier(bootstrap=False, class_weight={0: 1, 1: 2}, max_depth=20,\n",
      "                       min_samples_leaf=7, min_samples_split=8,\n",
      "                       n_estimators=286, random_state=42)\n"
     ]
    }
   ],
   "source": [
    "from sklearn.model_selection import RandomizedSearchCV\n",
    "from scipy.stats import randint\n",
    "\n",
    "param_dist = {\n",
    "    'n_estimators': randint(50, 500),\n",
    "    'max_depth': [10, 20, None],\n",
    "    'min_samples_split': randint(2, 20),\n",
    "    'min_samples_leaf': randint(1, 10),\n",
    "    'max_features': ['sqrt', 'log2', None],\n",
    "    'bootstrap': [True, False],\n",
    "    'class_weight': [{0:1, 1:2}, {0:1, 1:3}, 'balanced_subsample']\n",
    "}\n",
    "\n",
    "clf_rf_smote = RandomizedSearchCV(\n",
    "    RandomForestClassifier(random_state=42),\n",
    "    param_distributions=param_dist,\n",
    "    n_iter=30, \n",
    "    cv=5, \n",
    "    scoring='f1',\n",
    "    verbose=1,\n",
    "    n_jobs=-1,\n",
    "    random_state=42\n",
    ")\n",
    "\n",
    "clf_rf_smote.fit(X_train, y_train)\n",
    "print(f'Meilleurs paramètres : {clf_rf_smote.best_params_}')\n",
    "print(f'Meilleur score AUC : {clf_rf_smote.best_score_}')\n",
    "print(f'Meilleur estimateur : {clf_rf_smote.best_estimator_}')"
   ]
  },
  {
   "cell_type": "code",
   "execution_count": 86,
   "metadata": {},
   "outputs": [
    {
     "name": "stdout",
     "output_type": "stream",
     "text": [
      "Accuracy : 0.8260696120474719\n",
      "AUC : 0.694750461074826\n",
      "\n",
      "\n",
      "Classification report : \n",
      "              precision    recall  f1-score   support\n",
      "\n",
      "           0       0.85      0.94      0.89     53887\n",
      "           1       0.69      0.45      0.55     16302\n",
      "\n",
      "    accuracy                           0.83     70189\n",
      "   macro avg       0.77      0.69      0.72     70189\n",
      "weighted avg       0.81      0.83      0.81     70189\n",
      "\n",
      "Matrice de confusion : \n",
      "[[50653  3234]\n",
      " [ 8974  7328]]\n",
      "Matrice de confusion\n"
     ]
    },
    {
     "data": {
      "image/png": "[encoded data removed]",
      "text/plain": [
       "<Figure size 640x480 with 2 Axes>"
      ]
     },
     "metadata": {},
     "output_type": "display_data"
    }
   ],
   "source": [
    "model_rf_smote = clf_rf_smote.best_estimator_\n",
    "\n",
    "y_pred_rf_smote = model_rf_smote.predict(X_test)\n",
    "\n",
    "print(f'Accuracy : {accuracy_score(y_test, y_pred_rf_smote)}')\n",
    "print(f'AUC : {roc_auc_score(y_test, y_pred_rf_smote)}')\n",
    "print(f'\\n\\nClassification report : \\n{classification_report(y_test, y_pred_rf_smote)}')\n",
    "print(f'Matrice de confusion : \\n{confusion_matrix(y_test, y_pred_rf_smote)}')\n",
    "\n",
    "\n",
    "accuracy_rf_smote = accuracy_score(y_test, y_pred_rf_smote)\n",
    "auc_rf_smote = roc_auc_score(y_test, y_pred_rf_smote)\n",
    "\n",
    "nouvelle_entree = pd.DataFrame({\n",
    "    'Model': ['Random Forest SMOTE'],\n",
    "    'Accuracy': [accuracy_rf_smote],\n",
    "    'AUC': [auc_rf_smote]\n",
    "})\n",
    "\n",
    "df_comparaison_results = pd.concat([df_comparaison_results, nouvelle_entree], ignore_index=True)\n",
    "\n",
    "\n",
    "print(f'Matrice de confusion')\n",
    "confusion_matrix_graph = confusion_matrix(y_test, y_pred_rf_smote)\n",
    "sns.heatmap(confusion_matrix_graph, annot=True, fmt='d', cmap=\"Blues\")\n",
    "plt.xlabel(\"Prédictions\")\n",
    "plt.ylabel(\"Vraies valeurs\")\n",
    "plt.title(\"Matrice de confusion\")\n",
    "plt.show()"
   ]
  },
  {
   "cell_type": "markdown",
   "metadata": {},
   "source": [
    "# Print des différents test sous forme de graph"
   ]
  },
  {
   "cell_type": "code",
   "execution_count": 87,
   "metadata": {},
   "outputs": [
    {
     "data": {
      "text/html": [
       "<div>\n",
       "<style scoped>\n",
       "    .dataframe tbody tr th:only-of-type {\n",
       "        vertical-align: middle;\n",
       "    }\n",
       "\n",
       "    .dataframe tbody tr th {\n",
       "        vertical-align: top;\n",
       "    }\n",
       "\n",
       "    .dataframe thead th {\n",
       "        text-align: right;\n",
       "    }\n",
       "</style>\n",
       "<table border=\"1\" class=\"dataframe\">\n",
       "  <thead>\n",
       "    <tr style=\"text-align: right;\">\n",
       "      <th></th>\n",
       "      <th>Model</th>\n",
       "      <th>Accuracy</th>\n",
       "      <th>AUC</th>\n",
       "    </tr>\n",
       "  </thead>\n",
       "  <tbody>\n",
       "    <tr>\n",
       "      <th>0</th>\n",
       "      <td>LogisticRegression</td>\n",
       "      <td>0.826084</td>\n",
       "      <td>0.695695</td>\n",
       "    </tr>\n",
       "    <tr>\n",
       "      <th>1</th>\n",
       "      <td>Decision Tree</td>\n",
       "      <td>0.826084</td>\n",
       "      <td>0.694760</td>\n",
       "    </tr>\n",
       "    <tr>\n",
       "      <th>2</th>\n",
       "      <td>Decision Tree SMOTE</td>\n",
       "      <td>0.822023</td>\n",
       "      <td>0.690789</td>\n",
       "    </tr>\n",
       "    <tr>\n",
       "      <th>3</th>\n",
       "      <td>LGBM SMOTE</td>\n",
       "      <td>0.782786</td>\n",
       "      <td>0.680852</td>\n",
       "    </tr>\n",
       "    <tr>\n",
       "      <th>4</th>\n",
       "      <td>Random Forest SMOTE</td>\n",
       "      <td>0.826070</td>\n",
       "      <td>0.694750</td>\n",
       "    </tr>\n",
       "  </tbody>\n",
       "</table>\n",
       "</div>"
      ],
      "text/plain": [
       "                 Model  Accuracy       AUC\n",
       "0   LogisticRegression  0.826084  0.695695\n",
       "1        Decision Tree  0.826084  0.694760\n",
       "2  Decision Tree SMOTE  0.822023  0.690789\n",
       "3           LGBM SMOTE  0.782786  0.680852\n",
       "4  Random Forest SMOTE  0.826070  0.694750"
      ]
     },
     "execution_count": 87,
     "metadata": {},
     "output_type": "execute_result"
    }
   ],
   "source": [
    "df_comparaison_results"
   ]
  },
  {
   "cell_type": "code",
   "execution_count": 90,
   "metadata": {},
   "outputs": [
    {
     "data": {
      "image/png": "[encoded data removed]",
      "text/plain": [
       "<Figure size 1000x600 with 1 Axes>"
      ]
     },
     "metadata": {},
     "output_type": "display_data"
    }
   ],
   "source": [
    "# Définir la figure et les axes\n",
    "plt.figure(figsize=(10, 6))\n",
    "\n",
    "# Largeur des barres\n",
    "width = 0.4  \n",
    "x = range(len(df_comparaison_results))  # Positions des modèles sur l'axe des x\n",
    "\n",
    "# Tracer les barres pour Accuracy et AUC\n",
    "plt.bar(x, df_comparaison_results['Accuracy'], width=width, label='Accuracy', alpha=0.8)\n",
    "plt.bar([i + width for i in x], df_comparaison_results['AUC'], width=width, label='AUC', alpha=0.8)\n",
    "\n",
    "# Ajouter les étiquettes des modèles sur l'axe x\n",
    "plt.xticks([i + width / 2 for i in x], df_comparaison_results['Model'], rotation=45, ha='right')\n",
    "\n",
    "# Ajouter les titres et légendes\n",
    "plt.xlabel(\"Modèles\")\n",
    "plt.ylabel(\"Scores\")\n",
    "plt.title(\"Comparaison des performances des modèles\")\n",
    "plt.legend()\n",
    "plt.ylim(0.6, 0.85)  # Ajuster l'échelle pour mieux voir les différences\n",
    "\n",
    "# Afficher le graphique\n",
    "plt.show()"
   ]
  },
  {
   "cell_type": "code",
   "execution_count": 101,
   "metadata": {},
   "outputs": [
    {
     "data": {
      "image/png": "[encoded data removed]",
      "text/plain": [
       "<Figure size 1200x800 with 1 Axes>"
      ]
     },
     "metadata": {},
     "output_type": "display_data"
    }
   ],
   "source": [
    "plt.figure(figsize=(12, 8))\n",
    "\n",
    "x = range(len(df_comparaison_results)) \n",
    "bars1 = plt.bar(x, df_comparaison_results['Accuracy'] * 100, width=width, label='Accuracy', alpha=0.8)\n",
    "bars2 = plt.bar([i + width for i in x], df_comparaison_results['AUC'] * 100, width=width, label='AUC', alpha=0.8)\n",
    "\n",
    "plt.xticks([i + width / 2 for i in x], df_comparaison_results['Model'], rotation=45, ha='right')\n",
    "\n",
    "plt.xlabel(\"Modèles\")\n",
    "plt.ylabel(\"Scores (%)\")\n",
    "plt.title(\"Comparaison des performances des modèles\")\n",
    "plt.legend()\n",
    "\n",
    "for bar in bars1 + bars2:\n",
    "    height = bar.get_height()\n",
    "    plt.text(bar.get_x() + bar.get_width()/2, height, f'{height:.2f}%', ha='center', va='bottom', fontsize=10)\n",
    "\n",
    "plt.show()"
   ]
  }
 ],
 "metadata": {
  "kernelspec": {
   "display_name": "ml_cancer_venv",
   "language": "python",
   "name": "python3"
  },
  "language_info": {
   "codemirror_mode": {
    "name": "ipython",
    "version": 3
   },
   "file_extension": ".py",
   "mimetype": "text/x-python",
   "name": "python",
   "nbconvert_exporter": "python",
   "pygments_lexer": "ipython3",
   "version": "3.12.9"
  }
 },
 "nbformat": 4,
 "nbformat_minor": 2
}
