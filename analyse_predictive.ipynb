{
 "cells": [
  {
   "cell_type": "code",
   "execution_count": 129,
   "metadata": {},
   "outputs": [],
   "source": [
    "import pandas as pd\n",
    "from sklearn.cluster import KMeans\n",
    "from sklearn.neighbors import KNeighborsClassifier\n",
    "from sklearn.ensemble import RandomForestClassifier, RandomForestRegressor\n",
    "import joblib\n",
    "import warnings\n",
    "from sklearn.preprocessing import OrdinalEncoder, OneHotEncoder"
   ]
  },
  {
   "cell_type": "code",
   "execution_count": 130,
   "metadata": {},
   "outputs": [],
   "source": [
    "warnings.simplefilter('ignore')\n"
   ]
  },
  {
   "cell_type": "code",
   "execution_count": 131,
   "metadata": {},
   "outputs": [
    {
     "data": {
      "text/html": [
       "<div>\n",
       "<style scoped>\n",
       "    .dataframe tbody tr th:only-of-type {\n",
       "        vertical-align: middle;\n",
       "    }\n",
       "\n",
       "    .dataframe tbody tr th {\n",
       "        vertical-align: top;\n",
       "    }\n",
       "\n",
       "    .dataframe thead th {\n",
       "        text-align: right;\n",
       "    }\n",
       "</style>\n",
       "<table border=\"1\" class=\"dataframe\">\n",
       "  <thead>\n",
       "    <tr style=\"text-align: right;\">\n",
       "      <th></th>\n",
       "      <th>Gender</th>\n",
       "      <th>Family_History</th>\n",
       "      <th>Radiation_Exposure</th>\n",
       "      <th>Iodine_Deficiency</th>\n",
       "      <th>Smoking</th>\n",
       "      <th>Obesity</th>\n",
       "      <th>Diabetes</th>\n",
       "      <th>TSH_Level</th>\n",
       "      <th>T3_Level</th>\n",
       "      <th>T4_Level</th>\n",
       "      <th>Nodule_Size</th>\n",
       "      <th>Thyroid_Cancer_Risk</th>\n",
       "      <th>Diagnosis</th>\n",
       "    </tr>\n",
       "  </thead>\n",
       "  <tbody>\n",
       "    <tr>\n",
       "      <th>0</th>\n",
       "      <td>Male</td>\n",
       "      <td>No</td>\n",
       "      <td>Yes</td>\n",
       "      <td>No</td>\n",
       "      <td>No</td>\n",
       "      <td>No</td>\n",
       "      <td>No</td>\n",
       "      <td>9.37</td>\n",
       "      <td>1.67</td>\n",
       "      <td>6.16</td>\n",
       "      <td>1.08</td>\n",
       "      <td>Low</td>\n",
       "      <td>Benign</td>\n",
       "    </tr>\n",
       "    <tr>\n",
       "      <th>1</th>\n",
       "      <td>Male</td>\n",
       "      <td>No</td>\n",
       "      <td>Yes</td>\n",
       "      <td>No</td>\n",
       "      <td>No</td>\n",
       "      <td>No</td>\n",
       "      <td>No</td>\n",
       "      <td>1.83</td>\n",
       "      <td>1.73</td>\n",
       "      <td>10.54</td>\n",
       "      <td>4.05</td>\n",
       "      <td>Low</td>\n",
       "      <td>Benign</td>\n",
       "    </tr>\n",
       "    <tr>\n",
       "      <th>2</th>\n",
       "      <td>Male</td>\n",
       "      <td>No</td>\n",
       "      <td>No</td>\n",
       "      <td>No</td>\n",
       "      <td>No</td>\n",
       "      <td>No</td>\n",
       "      <td>No</td>\n",
       "      <td>6.26</td>\n",
       "      <td>2.59</td>\n",
       "      <td>10.57</td>\n",
       "      <td>4.61</td>\n",
       "      <td>Low</td>\n",
       "      <td>Benign</td>\n",
       "    </tr>\n",
       "    <tr>\n",
       "      <th>3</th>\n",
       "      <td>Female</td>\n",
       "      <td>No</td>\n",
       "      <td>No</td>\n",
       "      <td>No</td>\n",
       "      <td>No</td>\n",
       "      <td>No</td>\n",
       "      <td>No</td>\n",
       "      <td>4.10</td>\n",
       "      <td>2.62</td>\n",
       "      <td>11.04</td>\n",
       "      <td>2.46</td>\n",
       "      <td>Medium</td>\n",
       "      <td>Benign</td>\n",
       "    </tr>\n",
       "    <tr>\n",
       "      <th>4</th>\n",
       "      <td>Female</td>\n",
       "      <td>Yes</td>\n",
       "      <td>Yes</td>\n",
       "      <td>No</td>\n",
       "      <td>No</td>\n",
       "      <td>No</td>\n",
       "      <td>No</td>\n",
       "      <td>9.10</td>\n",
       "      <td>2.11</td>\n",
       "      <td>10.71</td>\n",
       "      <td>2.11</td>\n",
       "      <td>High</td>\n",
       "      <td>Benign</td>\n",
       "    </tr>\n",
       "  </tbody>\n",
       "</table>\n",
       "</div>"
      ],
      "text/plain": [
       "   Gender Family_History Radiation_Exposure Iodine_Deficiency Smoking Obesity  \\\n",
       "0    Male             No                Yes                No      No      No   \n",
       "1    Male             No                Yes                No      No      No   \n",
       "2    Male             No                 No                No      No      No   \n",
       "3  Female             No                 No                No      No      No   \n",
       "4  Female            Yes                Yes                No      No      No   \n",
       "\n",
       "  Diabetes  TSH_Level  T3_Level  T4_Level  Nodule_Size Thyroid_Cancer_Risk  \\\n",
       "0       No       9.37      1.67      6.16         1.08                 Low   \n",
       "1       No       1.83      1.73     10.54         4.05                 Low   \n",
       "2       No       6.26      2.59     10.57         4.61                 Low   \n",
       "3       No       4.10      2.62     11.04         2.46              Medium   \n",
       "4       No       9.10      2.11     10.71         2.11                High   \n",
       "\n",
       "  Diagnosis  \n",
       "0    Benign  \n",
       "1    Benign  \n",
       "2    Benign  \n",
       "3    Benign  \n",
       "4    Benign  "
      ]
     },
     "execution_count": 131,
     "metadata": {},
     "output_type": "execute_result"
    }
   ],
   "source": [
    "df = pd.read_csv('thyroid_cancer_risk_data.csv')\n",
    "df.drop(columns=['Patient_ID', 'Age', 'Country', 'Ethnicity'], axis=1, inplace=True)\n",
    "df.head()"
   ]
  },
  {
   "cell_type": "code",
   "execution_count": 132,
   "metadata": {},
   "outputs": [],
   "source": [
    "ohe_encoding = OneHotEncoder(drop=\"first\", sparse_output=False)\n",
    "encoded_cols = [\"Gender\"]\n",
    "df_ohe_encoding = pd.DataFrame(ohe_encoding.fit_transform(df[encoded_cols]), columns=ohe_encoding.get_feature_names_out(encoded_cols))"
   ]
  },
  {
   "cell_type": "code",
   "execution_count": 133,
   "metadata": {},
   "outputs": [],
   "source": [
    "ord_encoding = OrdinalEncoder(categories=[['Low', 'Medium', 'High']])\n",
    "df['Thyroid_Cancer_Risk'] = ord_encoding.fit_transform(df[['Thyroid_Cancer_Risk']])\n",
    "\n",
    "df = df.drop(columns=encoded_cols).join(df_ohe_encoding)\n",
    "\n",
    "df['Diagnosis'] = df['Diagnosis'].map({'Benign' : 0, 'Malignant' : 1})"
   ]
  },
  {
   "cell_type": "code",
   "execution_count": 134,
   "metadata": {},
   "outputs": [],
   "source": [
    "binary_cols = ['Family_History', 'Radiation_Exposure', 'Iodine_Deficiency', 'Smoking', 'Obesity', 'Diabetes']\n",
    "df[binary_cols] = df[binary_cols].replace({'Yes' : 1, 'No' : 0}).astype(int)"
   ]
  },
  {
   "cell_type": "code",
   "execution_count": 135,
   "metadata": {},
   "outputs": [
    {
     "data": {
      "text/html": [
       "<div>\n",
       "<style scoped>\n",
       "    .dataframe tbody tr th:only-of-type {\n",
       "        vertical-align: middle;\n",
       "    }\n",
       "\n",
       "    .dataframe tbody tr th {\n",
       "        vertical-align: top;\n",
       "    }\n",
       "\n",
       "    .dataframe thead th {\n",
       "        text-align: right;\n",
       "    }\n",
       "</style>\n",
       "<table border=\"1\" class=\"dataframe\">\n",
       "  <thead>\n",
       "    <tr style=\"text-align: right;\">\n",
       "      <th></th>\n",
       "      <th>Family_History</th>\n",
       "      <th>Radiation_Exposure</th>\n",
       "      <th>Iodine_Deficiency</th>\n",
       "      <th>Smoking</th>\n",
       "      <th>Obesity</th>\n",
       "      <th>Diabetes</th>\n",
       "      <th>TSH_Level</th>\n",
       "      <th>T3_Level</th>\n",
       "      <th>T4_Level</th>\n",
       "      <th>Nodule_Size</th>\n",
       "      <th>Thyroid_Cancer_Risk</th>\n",
       "      <th>Diagnosis</th>\n",
       "      <th>Gender_Male</th>\n",
       "    </tr>\n",
       "  </thead>\n",
       "  <tbody>\n",
       "    <tr>\n",
       "      <th>0</th>\n",
       "      <td>0</td>\n",
       "      <td>1</td>\n",
       "      <td>0</td>\n",
       "      <td>0</td>\n",
       "      <td>0</td>\n",
       "      <td>0</td>\n",
       "      <td>9.37</td>\n",
       "      <td>1.67</td>\n",
       "      <td>6.16</td>\n",
       "      <td>1.08</td>\n",
       "      <td>0.0</td>\n",
       "      <td>0</td>\n",
       "      <td>1.0</td>\n",
       "    </tr>\n",
       "    <tr>\n",
       "      <th>1</th>\n",
       "      <td>0</td>\n",
       "      <td>1</td>\n",
       "      <td>0</td>\n",
       "      <td>0</td>\n",
       "      <td>0</td>\n",
       "      <td>0</td>\n",
       "      <td>1.83</td>\n",
       "      <td>1.73</td>\n",
       "      <td>10.54</td>\n",
       "      <td>4.05</td>\n",
       "      <td>0.0</td>\n",
       "      <td>0</td>\n",
       "      <td>1.0</td>\n",
       "    </tr>\n",
       "    <tr>\n",
       "      <th>2</th>\n",
       "      <td>0</td>\n",
       "      <td>0</td>\n",
       "      <td>0</td>\n",
       "      <td>0</td>\n",
       "      <td>0</td>\n",
       "      <td>0</td>\n",
       "      <td>6.26</td>\n",
       "      <td>2.59</td>\n",
       "      <td>10.57</td>\n",
       "      <td>4.61</td>\n",
       "      <td>0.0</td>\n",
       "      <td>0</td>\n",
       "      <td>1.0</td>\n",
       "    </tr>\n",
       "    <tr>\n",
       "      <th>3</th>\n",
       "      <td>0</td>\n",
       "      <td>0</td>\n",
       "      <td>0</td>\n",
       "      <td>0</td>\n",
       "      <td>0</td>\n",
       "      <td>0</td>\n",
       "      <td>4.10</td>\n",
       "      <td>2.62</td>\n",
       "      <td>11.04</td>\n",
       "      <td>2.46</td>\n",
       "      <td>1.0</td>\n",
       "      <td>0</td>\n",
       "      <td>0.0</td>\n",
       "    </tr>\n",
       "    <tr>\n",
       "      <th>4</th>\n",
       "      <td>1</td>\n",
       "      <td>1</td>\n",
       "      <td>0</td>\n",
       "      <td>0</td>\n",
       "      <td>0</td>\n",
       "      <td>0</td>\n",
       "      <td>9.10</td>\n",
       "      <td>2.11</td>\n",
       "      <td>10.71</td>\n",
       "      <td>2.11</td>\n",
       "      <td>2.0</td>\n",
       "      <td>0</td>\n",
       "      <td>0.0</td>\n",
       "    </tr>\n",
       "    <tr>\n",
       "      <th>...</th>\n",
       "      <td>...</td>\n",
       "      <td>...</td>\n",
       "      <td>...</td>\n",
       "      <td>...</td>\n",
       "      <td>...</td>\n",
       "      <td>...</td>\n",
       "      <td>...</td>\n",
       "      <td>...</td>\n",
       "      <td>...</td>\n",
       "      <td>...</td>\n",
       "      <td>...</td>\n",
       "      <td>...</td>\n",
       "      <td>...</td>\n",
       "    </tr>\n",
       "    <tr>\n",
       "      <th>212686</th>\n",
       "      <td>0</td>\n",
       "      <td>0</td>\n",
       "      <td>0</td>\n",
       "      <td>0</td>\n",
       "      <td>1</td>\n",
       "      <td>0</td>\n",
       "      <td>2.00</td>\n",
       "      <td>0.64</td>\n",
       "      <td>11.92</td>\n",
       "      <td>1.48</td>\n",
       "      <td>0.0</td>\n",
       "      <td>0</td>\n",
       "      <td>0.0</td>\n",
       "    </tr>\n",
       "    <tr>\n",
       "      <th>212687</th>\n",
       "      <td>0</td>\n",
       "      <td>0</td>\n",
       "      <td>0</td>\n",
       "      <td>0</td>\n",
       "      <td>1</td>\n",
       "      <td>0</td>\n",
       "      <td>9.77</td>\n",
       "      <td>3.25</td>\n",
       "      <td>7.30</td>\n",
       "      <td>4.46</td>\n",
       "      <td>1.0</td>\n",
       "      <td>0</td>\n",
       "      <td>1.0</td>\n",
       "    </tr>\n",
       "    <tr>\n",
       "      <th>212688</th>\n",
       "      <td>0</td>\n",
       "      <td>0</td>\n",
       "      <td>0</td>\n",
       "      <td>0</td>\n",
       "      <td>0</td>\n",
       "      <td>1</td>\n",
       "      <td>7.72</td>\n",
       "      <td>2.44</td>\n",
       "      <td>8.71</td>\n",
       "      <td>2.36</td>\n",
       "      <td>1.0</td>\n",
       "      <td>0</td>\n",
       "      <td>0.0</td>\n",
       "    </tr>\n",
       "    <tr>\n",
       "      <th>212689</th>\n",
       "      <td>0</td>\n",
       "      <td>0</td>\n",
       "      <td>0</td>\n",
       "      <td>0</td>\n",
       "      <td>0</td>\n",
       "      <td>1</td>\n",
       "      <td>5.62</td>\n",
       "      <td>2.53</td>\n",
       "      <td>9.62</td>\n",
       "      <td>1.54</td>\n",
       "      <td>1.0</td>\n",
       "      <td>0</td>\n",
       "      <td>0.0</td>\n",
       "    </tr>\n",
       "    <tr>\n",
       "      <th>212690</th>\n",
       "      <td>0</td>\n",
       "      <td>0</td>\n",
       "      <td>0</td>\n",
       "      <td>1</td>\n",
       "      <td>0</td>\n",
       "      <td>0</td>\n",
       "      <td>5.60</td>\n",
       "      <td>2.73</td>\n",
       "      <td>10.59</td>\n",
       "      <td>2.53</td>\n",
       "      <td>0.0</td>\n",
       "      <td>1</td>\n",
       "      <td>0.0</td>\n",
       "    </tr>\n",
       "  </tbody>\n",
       "</table>\n",
       "<p>212691 rows × 13 columns</p>\n",
       "</div>"
      ],
      "text/plain": [
       "        Family_History  Radiation_Exposure  Iodine_Deficiency  Smoking  \\\n",
       "0                    0                   1                  0        0   \n",
       "1                    0                   1                  0        0   \n",
       "2                    0                   0                  0        0   \n",
       "3                    0                   0                  0        0   \n",
       "4                    1                   1                  0        0   \n",
       "...                ...                 ...                ...      ...   \n",
       "212686               0                   0                  0        0   \n",
       "212687               0                   0                  0        0   \n",
       "212688               0                   0                  0        0   \n",
       "212689               0                   0                  0        0   \n",
       "212690               0                   0                  0        1   \n",
       "\n",
       "        Obesity  Diabetes  TSH_Level  T3_Level  T4_Level  Nodule_Size  \\\n",
       "0             0         0       9.37      1.67      6.16         1.08   \n",
       "1             0         0       1.83      1.73     10.54         4.05   \n",
       "2             0         0       6.26      2.59     10.57         4.61   \n",
       "3             0         0       4.10      2.62     11.04         2.46   \n",
       "4             0         0       9.10      2.11     10.71         2.11   \n",
       "...         ...       ...        ...       ...       ...          ...   \n",
       "212686        1         0       2.00      0.64     11.92         1.48   \n",
       "212687        1         0       9.77      3.25      7.30         4.46   \n",
       "212688        0         1       7.72      2.44      8.71         2.36   \n",
       "212689        0         1       5.62      2.53      9.62         1.54   \n",
       "212690        0         0       5.60      2.73     10.59         2.53   \n",
       "\n",
       "        Thyroid_Cancer_Risk  Diagnosis  Gender_Male  \n",
       "0                       0.0          0          1.0  \n",
       "1                       0.0          0          1.0  \n",
       "2                       0.0          0          1.0  \n",
       "3                       1.0          0          0.0  \n",
       "4                       2.0          0          0.0  \n",
       "...                     ...        ...          ...  \n",
       "212686                  0.0          0          0.0  \n",
       "212687                  1.0          0          1.0  \n",
       "212688                  1.0          0          0.0  \n",
       "212689                  1.0          0          0.0  \n",
       "212690                  0.0          1          0.0  \n",
       "\n",
       "[212691 rows x 13 columns]"
      ]
     },
     "execution_count": 135,
     "metadata": {},
     "output_type": "execute_result"
    }
   ],
   "source": [
    "df"
   ]
  },
  {
   "cell_type": "markdown",
   "metadata": {},
   "source": [
    "## Train test & split"
   ]
  },
  {
   "cell_type": "code",
   "execution_count": 136,
   "metadata": {},
   "outputs": [],
   "source": [
    "from sklearn.model_selection import train_test_split\n",
    "from sklearn.model_selection import cross_val_score\n",
    "from sklearn.model_selection import GridSearchCV\n",
    "from sklearn.metrics import accuracy_score, roc_auc_score, classification_report, confusion_matrix, roc_curve\n",
    "import seaborn as sns\n",
    "import matplotlib.pyplot as plt\n",
    "\n",
    "df_resultats = pd.DataFrame()\n",
    "\n",
    "\n",
    "X = df.drop(columns='Diagnosis')\n",
    "y = df['Diagnosis']\n",
    "\n",
    "X_train, X_test, y_train, y_test = train_test_split(X, y, test_size=0.33, random_state=42)"
   ]
  },
  {
   "cell_type": "markdown",
   "metadata": {},
   "source": [
    "## Logistic regression"
   ]
  },
  {
   "cell_type": "code",
   "execution_count": 137,
   "metadata": {},
   "outputs": [
    {
     "name": "stdout",
     "output_type": "stream",
     "text": [
      "Score des validations croisées [0.826089   0.82824768 0.82709577 0.82850628 0.82683718]\n",
      "Score moyen : 0.8273551831820928\n"
     ]
    }
   ],
   "source": [
    "from sklearn.linear_model import LogisticRegression\n",
    "\n",
    "model_lr = LogisticRegression(random_state=42, n_jobs=-1)\n",
    "\n",
    "score = cross_val_score(model_lr, X, y, cv=5)\n",
    "print(f'Score des validations croisées {score}')\n",
    "print(f'Score moyen : {score.mean()}')\n",
    "\n",
    "df_resultats['lr_score'] = score"
   ]
  },
  {
   "cell_type": "code",
   "execution_count": 138,
   "metadata": {},
   "outputs": [
    {
     "name": "stdout",
     "output_type": "stream",
     "text": [
      "Fitting 5 folds for each of 15 candidates, totalling 75 fits\n",
      "Meilleurs paramètres : {'C': 100, 'max_iter': 100}\n",
      "Meilleur score AUC : 0.6972880715273437\n",
      "Meilleur estimateur : LogisticRegression(C=100)\n"
     ]
    }
   ],
   "source": [
    "clf_lr = GridSearchCV(cv=5, estimator=LogisticRegression(), param_grid={'max_iter' :[100,200,500], 'C' : [0.01, 0.1, 1, 10, 100]},scoring='roc_auc', verbose=1, n_jobs=-1)\n",
    "\n",
    "clf_lr.fit(X_train, y_train)\n",
    "\n",
    "print(f'Meilleurs paramètres : {clf_lr.best_params_}')\n",
    "print(f'Meilleur score AUC : {clf_lr.best_score_}')\n",
    "print(f'Meilleur estimateur : {clf_lr.best_estimator_}')"
   ]
  },
  {
   "cell_type": "code",
   "execution_count": 139,
   "metadata": {},
   "outputs": [
    {
     "name": "stdout",
     "output_type": "stream",
     "text": [
      "Model save sous 'pred_cancer_logistic_regression.pkl'\n"
     ]
    }
   ],
   "source": [
    "joblib.dump(clf_lr.best_estimator_, 'pred_cancer_logistic_regression.joblib')\n",
    "print(\"Model save sous 'pred_cancer_logistic_regression.pkl'\")"
   ]
  },
  {
   "cell_type": "code",
   "execution_count": 140,
   "metadata": {},
   "outputs": [
    {
     "name": "stdout",
     "output_type": "stream",
     "text": [
      "Accuracy : 0.8260838592941914\n",
      "AUC : 0.6956875219492021\n",
      "\n",
      "\n",
      "Classification report : \n",
      "              precision    recall  f1-score   support\n",
      "\n",
      "           0       0.85      0.94      0.89     53887\n",
      "           1       0.69      0.45      0.55     16302\n",
      "\n",
      "    accuracy                           0.83     70189\n",
      "   macro avg       0.77      0.69      0.72     70189\n",
      "weighted avg       0.81      0.83      0.81     70189\n",
      "\n",
      "Matrice de confusion\n"
     ]
    },
    {
     "data": {
      "image/png": "[encoded data removed]",
      "text/plain": [
       "<Figure size 640x480 with 2 Axes>"
      ]
     },
     "metadata": {},
     "output_type": "display_data"
    },
    {
     "name": "stdout",
     "output_type": "stream",
     "text": [
      "Matrice de confusion : \n",
      "[[50654  3233]\n",
      " [ 8974  7328]]\n"
     ]
    }
   ],
   "source": [
    "best_lr_model = clf_lr.best_estimator_\n",
    "y_pred = best_lr_model.predict(X_test)\n",
    "y_proba = best_lr_model.predict_proba(X_test)[:,1]\n",
    "\n",
    "\n",
    "print(f'Accuracy : {accuracy_score(y_test, y_pred)}')\n",
    "\n",
    "print(f'AUC : {roc_auc_score(y_test, y_proba)}')\n",
    "\n",
    "print(f'\\n\\nClassification report : \\n{classification_report(y_test, y_pred)}')\n",
    "\n",
    "print(f'Matrice de confusion')\n",
    "\n",
    "\n",
    "confusion_matrix_graph = confusion_matrix(y_test, y_pred)\n",
    "sns.heatmap(confusion_matrix_graph, annot=True, fmt='d', cmap=\"Blues\")\n",
    "plt.xlabel(\"Prédictions\")\n",
    "plt.ylabel(\"Vraies valeurs\")\n",
    "plt.title(\"Matrice de confusion\")\n",
    "plt.show()\n",
    "print(f'Matrice de confusion : \\n{confusion_matrix(y_test, y_pred)}')"
   ]
  },
  {
   "cell_type": "markdown",
   "metadata": {},
   "source": [
    "## Polynomial regression"
   ]
  },
  {
   "cell_type": "code",
   "execution_count": 141,
   "metadata": {},
   "outputs": [
    {
     "name": "stdout",
     "output_type": "stream",
     "text": [
      "Score des validations croisées [0.82695344 0.82863759 0.82901754 0.82603509 0.82926316]\n",
      "Score moyen : 0.8279813642734604\n"
     ]
    }
   ],
   "source": [
    "from sklearn.preprocessing import PolynomialFeatures\n",
    "\n",
    "poly = PolynomialFeatures(degree=2)\n",
    "\n",
    "X_train_poly = poly.fit_transform(X_train)\n",
    "\n",
    "score = cross_val_score(model_lr, X_train_poly, y_train, cv=5, n_jobs=-1)\n",
    "print(f'Score des validations croisées {score}')\n",
    "print(f'Score moyen : {score.mean()}')\n",
    "df_resultats['polynomial_features'] = score"
   ]
  },
  {
   "cell_type": "code",
   "execution_count": 142,
   "metadata": {},
   "outputs": [
    {
     "name": "stdout",
     "output_type": "stream",
     "text": [
      "Fitting 5 folds for each of 15 candidates, totalling 75 fits\n",
      "Meilleurs paramètres : {'C': 0.01, 'max_iter': 200}\n",
      "Meilleur score AUC : 0.6983039398651959\n",
      "Meilleur estimateur : LogisticRegression(C=0.01, max_iter=200)\n"
     ]
    }
   ],
   "source": [
    "clf_poly = GridSearchCV(cv=5, estimator=LogisticRegression(), param_grid={'max_iter' :[100,200,500], 'C' : [0.001, 0.01, 0.1, 1, 10]},scoring='roc_auc', verbose=1, n_jobs=-1)\n",
    "clf_poly.fit(X_train_poly, y_train)\n",
    "\n",
    "print(f'Meilleurs paramètres : {clf_poly.best_params_}')\n",
    "print(f'Meilleur score AUC : {clf_poly.best_score_}')\n",
    "print(f'Meilleur estimateur : {clf_poly.best_estimator_}')"
   ]
  },
  {
   "cell_type": "code",
   "execution_count": 143,
   "metadata": {},
   "outputs": [
    {
     "name": "stdout",
     "output_type": "stream",
     "text": [
      "Accuracy : 0.8260838592941914\n",
      "AUC : 0.695776393927398\n",
      "\n",
      "\n",
      "Classification report : \n",
      "              precision    recall  f1-score   support\n",
      "\n",
      "           0       0.85      0.94      0.89     53887\n",
      "           1       0.69      0.45      0.55     16302\n",
      "\n",
      "    accuracy                           0.83     70189\n",
      "   macro avg       0.77      0.69      0.72     70189\n",
      "weighted avg       0.81      0.83      0.81     70189\n",
      "\n",
      "Matrice de confusion : \n",
      "[[50654  3233]\n",
      " [ 8974  7328]]\n",
      "Matrice de confusion\n"
     ]
    },
    {
     "data": {
      "image/png": "[encoded data removed]",
      "text/plain": [
       "<Figure size 640x480 with 2 Axes>"
      ]
     },
     "metadata": {},
     "output_type": "display_data"
    }
   ],
   "source": [
    "model_poly_lr = clf_poly.best_estimator_\n",
    "\n",
    "X_test_poly = poly.transform(X_test)\n",
    "\n",
    "y_pred = model_poly_lr.predict(X_test_poly)\n",
    "y_proba = model_poly_lr.predict_proba(X_test_poly)[:,1]\n",
    "\n",
    "\n",
    "print(f'Accuracy : {accuracy_score(y_test, y_pred)}')\n",
    "print(f'AUC : {roc_auc_score(y_test, y_proba)}')\n",
    "print(f'\\n\\nClassification report : \\n{classification_report(y_test, y_pred)}')\n",
    "print(f'Matrice de confusion : \\n{confusion_matrix(y_test, y_pred)}')\n",
    "\n",
    "print(f'Matrice de confusion')\n",
    "confusion_matrix_graph = confusion_matrix(y_test, y_pred)\n",
    "sns.heatmap(confusion_matrix_graph, annot=True, fmt='d', cmap=\"Blues\")\n",
    "plt.xlabel(\"Prédictions\")\n",
    "plt.ylabel(\"Vraies valeurs\")\n",
    "plt.title(\"Matrice de confusion\")\n",
    "plt.show()\n",
    "\n",
    "# print(f'Matrice de confusion : \\n{confusion_matrix(y_test, y_pred)}')"
   ]
  },
  {
   "cell_type": "markdown",
   "metadata": {},
   "source": [
    "## Random Forest regression"
   ]
  },
  {
   "cell_type": "code",
   "execution_count": 144,
   "metadata": {},
   "outputs": [
    {
     "name": "stdout",
     "output_type": "stream",
     "text": [
      "Score des validations croisées [0.82199864 0.82364004 0.82326391 0.82401617 0.82309935]\n",
      "Score moyen : 0.8232036202988547\n"
     ]
    }
   ],
   "source": [
    "from sklearn.ensemble import RandomForestClassifier\n",
    "\n",
    "model_rf = RandomForestClassifier(random_state=42, n_estimators=100, class_weight='balanced', n_jobs=-1)\n",
    "\n",
    "score = cross_val_score(model_rf, X, y, cv=5)\n",
    "print(f'Score des validations croisées {score}')\n",
    "print(f'Score moyen : {score.mean()}')"
   ]
  },
  {
   "cell_type": "markdown",
   "metadata": {},
   "source": [
    "### avec gridsearch"
   ]
  },
  {
   "cell_type": "code",
   "execution_count": 145,
   "metadata": {},
   "outputs": [
    {
     "name": "stdout",
     "output_type": "stream",
     "text": [
      "Fitting 5 folds for each of 72 candidates, totalling 360 fits\n",
      "Meilleurs paramètres : {'max_depth': 20, 'max_features': 'sqrt', 'min_samples_split': 5, 'n_estimators': 200}\n",
      "Meilleur score AUC : 0.6983076901699458\n",
      "Meilleur estimateur : RandomForestClassifier(class_weight='balanced_subsample', max_depth=20,\n",
      "                       min_samples_split=5, n_estimators=200, random_state=42)\n"
     ]
    }
   ],
   "source": [
    "param_grid = {\n",
    "    'n_estimators': [50, 100, 200, 500],\n",
    "    'max_depth': [10, 20, None],\n",
    "    'min_samples_split': [2, 5, 10],\n",
    "    'max_features': ['sqrt', 'log2'],\n",
    "    }\n",
    "\n",
    "clf_random_f = GridSearchCV(RandomForestClassifier(random_state=42, class_weight='balanced_subsample'), param_grid, cv=5, scoring='roc_auc', verbose=1, n_jobs=-1)\n",
    "\n",
    "clf_random_f.fit(X_train, y_train)\n",
    "\n",
    "print(f'Meilleurs paramètres : {clf_random_f.best_params_}')\n",
    "print(f'Meilleur score AUC : {clf_random_f.best_score_}')\n",
    "print(f'Meilleur estimateur : {clf_random_f.best_estimator_}')"
   ]
  },
  {
   "cell_type": "code",
   "execution_count": 146,
   "metadata": {},
   "outputs": [
    {
     "name": "stdout",
     "output_type": "stream",
     "text": [
      "Model save sous 'pred_cancer_random_forest_model_classifier.pkl'\n"
     ]
    }
   ],
   "source": [
    "joblib.dump(clf_random_f.best_estimator_, 'pred_cancer_random_forest_model_classifier.joblib')\n",
    "print(\"Model save sous 'pred_cancer_random_forest_model_classifier.pkl'\")"
   ]
  },
  {
   "cell_type": "code",
   "execution_count": 147,
   "metadata": {},
   "outputs": [
    {
     "name": "stdout",
     "output_type": "stream",
     "text": [
      "Accuracy : 0.8260268703073131\n",
      "AUC : 0.6945300933795864\n",
      "\n",
      "\n",
      "Classification report : \n",
      "              precision    recall  f1-score   support\n",
      "\n",
      "           0       0.85      0.94      0.89     53887\n",
      "           1       0.69      0.45      0.55     16302\n",
      "\n",
      "    accuracy                           0.83     70189\n",
      "   macro avg       0.77      0.69      0.72     70189\n",
      "weighted avg       0.81      0.83      0.81     70189\n",
      "\n",
      "Matrice de confusion : \n",
      "[[50659  3228]\n",
      " [ 8983  7319]]\n",
      "Matrice de confusion\n"
     ]
    },
    {
     "data": {
      "image/png": "[encoded data removed]",
      "text/plain": [
       "<Figure size 640x480 with 2 Axes>"
      ]
     },
     "metadata": {},
     "output_type": "display_data"
    }
   ],
   "source": [
    "model_rf_best = clf_random_f.best_estimator_\n",
    "y_pred_random_f = model_rf_best.predict(X_test)\n",
    "\n",
    "\n",
    "print(f'Accuracy : {accuracy_score(y_test, y_pred_random_f)}')\n",
    "print(f'AUC : {roc_auc_score(y_test, y_pred_random_f)}')\n",
    "print(f'\\n\\nClassification report : \\n{classification_report(y_test, y_pred_random_f)}')\n",
    "print(f'Matrice de confusion : \\n{confusion_matrix(y_test, y_pred_random_f)}')\n",
    "\n",
    "print(f'Matrice de confusion')\n",
    "confusion_matrix_graph = confusion_matrix(y_test, y_pred_random_f)\n",
    "sns.heatmap(confusion_matrix_graph, annot=True, fmt='d', cmap=\"Blues\")\n",
    "plt.xlabel(\"Prédictions\")\n",
    "plt.ylabel(\"Vraies valeurs\")\n",
    "plt.title(\"Matrice de confusion\")\n",
    "plt.show()\n",
    "\n",
    "# print(f'Matrice de confusion : \\n{confusion_matrix(y_test, y_pred_random_f)}')"
   ]
  },
  {
   "cell_type": "markdown",
   "metadata": {},
   "source": [
    "### avec randomizedsearch pour gagner du temps d'éxécution"
   ]
  },
  {
   "cell_type": "code",
   "execution_count": 148,
   "metadata": {},
   "outputs": [
    {
     "name": "stdout",
     "output_type": "stream",
     "text": [
      "Fitting 5 folds for each of 20 candidates, totalling 100 fits\n",
      "Meilleurs paramètres : {'bootstrap': False, 'max_depth': 10, 'max_features': 'log2', 'min_samples_leaf': 8, 'min_samples_split': 5, 'n_estimators': 51}\n",
      "Meilleur score AUC : 0.6981523924500899\n",
      "Meilleur estimateur : RandomForestClassifier(bootstrap=False, class_weight='balanced', max_depth=10,\n",
      "                       max_features='log2', min_samples_leaf=8,\n",
      "                       min_samples_split=5, n_estimators=51, n_jobs=-1,\n",
      "                       random_state=42)\n"
     ]
    }
   ],
   "source": [
    "from sklearn.model_selection import RandomizedSearchCV\n",
    "from scipy.stats import randint\n",
    "\n",
    "param_dist = {\n",
    "    'n_estimators': randint(50, 500),\n",
    "    'max_depth': [10, 20, None],\n",
    "    'min_samples_split': randint(2, 20),\n",
    "    'min_samples_leaf': randint(1, 10),\n",
    "    'max_features': ['sqrt', 'log2', None],\n",
    "    'bootstrap': [True, False]\n",
    "}\n",
    "\n",
    "clf_rf_randomized = RandomizedSearchCV(\n",
    "    RandomForestClassifier(random_state=42, class_weight='balanced', n_jobs=-1),\n",
    "    param_distributions=param_dist,\n",
    "    n_iter=20, \n",
    "    cv=5, \n",
    "    scoring='roc_auc',\n",
    "    verbose=1,\n",
    "    n_jobs=-1,\n",
    "    random_state=42\n",
    ")\n",
    "\n",
    "clf_rf_randomized.fit(X_train, y_train)\n",
    "print(f'Meilleurs paramètres : {clf_rf_randomized.best_params_}')\n",
    "print(f'Meilleur score AUC : {clf_rf_randomized.best_score_}')\n",
    "print(f'Meilleur estimateur : {clf_rf_randomized.best_estimator_}')"
   ]
  },
  {
   "cell_type": "code",
   "execution_count": 149,
   "metadata": {},
   "outputs": [
    {
     "name": "stdout",
     "output_type": "stream",
     "text": [
      "Accuracy : 0.8260696120474719\n",
      "AUC : 0.694750461074826\n",
      "\n",
      "\n",
      "Classification report : \n",
      "              precision    recall  f1-score   support\n",
      "\n",
      "           0       0.85      0.94      0.89     53887\n",
      "           1       0.69      0.45      0.55     16302\n",
      "\n",
      "    accuracy                           0.83     70189\n",
      "   macro avg       0.77      0.69      0.72     70189\n",
      "weighted avg       0.81      0.83      0.81     70189\n",
      "\n",
      "Matrice de confusion : \n",
      "[[50653  3234]\n",
      " [ 8974  7328]]\n",
      "Matrice de confusion\n"
     ]
    },
    {
     "data": {
      "image/png": "[encoded data removed]",
      "text/plain": [
       "<Figure size 640x480 with 2 Axes>"
      ]
     },
     "metadata": {},
     "output_type": "display_data"
    }
   ],
   "source": [
    "model_rf_randomized = clf_rf_randomized.best_estimator_\n",
    "\n",
    "y_pred_rf_randomized = model_rf_randomized.predict(X_test)\n",
    "\n",
    "print(f'Accuracy : {accuracy_score(y_test, y_pred_rf_randomized)}')\n",
    "print(f'AUC : {roc_auc_score(y_test, y_pred_rf_randomized)}')\n",
    "print(f'\\n\\nClassification report : \\n{classification_report(y_test, y_pred_rf_randomized)}')\n",
    "print(f'Matrice de confusion : \\n{confusion_matrix(y_test, y_pred_rf_randomized)}')\n",
    "\n",
    "print(f'Matrice de confusion')\n",
    "confusion_matrix_graph = confusion_matrix(y_test, y_pred_rf_randomized)\n",
    "sns.heatmap(confusion_matrix_graph, annot=True, fmt='d', cmap=\"Blues\")\n",
    "plt.xlabel(\"Prédictions\")\n",
    "plt.ylabel(\"Vraies valeurs\")\n",
    "plt.title(\"Matrice de confusion\")\n",
    "plt.show()"
   ]
  },
  {
   "cell_type": "markdown",
   "metadata": {},
   "source": [
    "## KNN"
   ]
  },
  {
   "cell_type": "code",
   "execution_count": 150,
   "metadata": {},
   "outputs": [
    {
     "name": "stdout",
     "output_type": "stream",
     "text": [
      "Score des validations croisées [0.8010947  0.80070875 0.80126316 0.79968421 0.80336842]\n",
      "Score moyen : 0.8012238469933649\n"
     ]
    }
   ],
   "source": [
    "from sklearn.neighbors import KNeighborsClassifier\n",
    "from sklearn.preprocessing import StandardScaler\n",
    "from sklearn.pipeline import Pipeline\n",
    "\n",
    "scaler = StandardScaler()\n",
    "X_train_scaled = scaler.fit_transform(X_train)\n",
    "X_test_scaled = scaler.transform(X_test)\n",
    "\n",
    "\n",
    "model_knn = KNeighborsClassifier(n_jobs=-1)\n",
    "\n",
    "score = cross_val_score(model_knn, X_train_scaled, y_train, cv=5)\n",
    "print(f'Score des validations croisées {score}')\n",
    "print(f'Score moyen : {score.mean()}')\n",
    "\n",
    "df_resultats['knn'] = score"
   ]
  },
  {
   "cell_type": "code",
   "execution_count": 151,
   "metadata": {},
   "outputs": [
    {
     "name": "stdout",
     "output_type": "stream",
     "text": [
      "Fitting 5 folds for each of 60 candidates, totalling 300 fits\n",
      "Meilleurs paramètres : {'knn__metric': 'manhattan', 'knn__n_neighbors': 35, 'knn__weights': 'uniform'}\n",
      "Meilleur score AUC : 0.7001162875490489\n",
      "Meilleur estimateur : Pipeline(steps=[('scaler', StandardScaler()),\n",
      "                ('knn',\n",
      "                 KNeighborsClassifier(metric='manhattan', n_neighbors=35))])\n"
     ]
    }
   ],
   "source": [
    "pipeline = Pipeline([\n",
    "    ('scaler', StandardScaler()),\n",
    "    ('knn', KNeighborsClassifier())\n",
    "])\n",
    "\n",
    "param_grid = {\n",
    "    'knn__n_neighbors': range(5, 51, 5),\n",
    "    'knn__weights': ['uniform', 'distance'],\n",
    "    'knn__metric': ['euclidean', 'manhattan', 'minkowski'] \n",
    "}\n",
    "\n",
    "clf_knn = GridSearchCV(pipeline, param_grid, cv=5, scoring='roc_auc', verbose=1, n_jobs=-1)\n",
    "clf_knn.fit(X_train, y_train)\n",
    "\n",
    "print(f'Meilleurs paramètres : {clf_knn.best_params_}')\n",
    "print(f'Meilleur score AUC : {clf_knn.best_score_}')\n",
    "print(f'Meilleur estimateur : {clf_knn.best_estimator_}')"
   ]
  },
  {
   "cell_type": "code",
   "execution_count": 152,
   "metadata": {},
   "outputs": [
    {
     "name": "stdout",
     "output_type": "stream",
     "text": [
      "Model save sous 'pred_cancer_knn.pkl'\n"
     ]
    }
   ],
   "source": [
    "joblib.dump(clf_knn.best_estimator_, 'pred_cancer_knn.joblib')\n",
    "print(\"Model save sous 'pred_cancer_knn.pkl'\")"
   ]
  },
  {
   "cell_type": "code",
   "execution_count": 153,
   "metadata": {},
   "outputs": [
    {
     "name": "stdout",
     "output_type": "stream",
     "text": [
      "Accuracy : 0.824302953454245\n",
      "AUC : 0.6977704582978485\n",
      "\n",
      "\n",
      "Classification report : \n",
      "              precision    recall  f1-score   support\n",
      "\n",
      "           0       0.85      0.94      0.89     53887\n",
      "           1       0.69      0.44      0.54     16302\n",
      "\n",
      "    accuracy                           0.82     70189\n",
      "   macro avg       0.77      0.69      0.71     70189\n",
      "weighted avg       0.81      0.82      0.81     70189\n",
      "\n",
      "Matrice de confusion : \n",
      "[[50759  3128]\n",
      " [ 9204  7098]]\n",
      "Matrice de confusion\n"
     ]
    },
    {
     "data": {
      "image/png": "[encoded data removed]",
      "text/plain": [
       "<Figure size 640x480 with 2 Axes>"
      ]
     },
     "metadata": {},
     "output_type": "display_data"
    }
   ],
   "source": [
    "model_knn = clf_knn.best_estimator_\n",
    "\n",
    "y_pred_knn = model_knn.predict(X_test)\n",
    "y_proba_knn = model_knn.predict_proba(X_test)[:,1]\n",
    "\n",
    "print(f'Accuracy : {accuracy_score(y_test, y_pred_knn)}')\n",
    "print(f'AUC : {roc_auc_score(y_test, y_proba_knn)}')\n",
    "print(f'\\n\\nClassification report : \\n{classification_report(y_test, y_pred_knn)}')\n",
    "print(f'Matrice de confusion : \\n{confusion_matrix(y_test, y_pred_knn)}')\n",
    "\n",
    "print(f'Matrice de confusion')\n",
    "confusion_matrix_graph = confusion_matrix(y_test, y_pred_knn)\n",
    "sns.heatmap(confusion_matrix_graph, annot=True, fmt='d', cmap=\"Blues\")\n",
    "plt.xlabel(\"Prédictions\")\n",
    "plt.ylabel(\"Vraies valeurs\")\n",
    "plt.title(\"Matrice de confusion\")\n",
    "plt.show()\n",
    "\n",
    "# print(f'Matrice de confusion : \\n{confusion_matrix(y_test, y_pred)}')"
   ]
  },
  {
   "cell_type": "markdown",
   "metadata": {},
   "source": [
    "## Decision Tree"
   ]
  },
  {
   "cell_type": "code",
   "execution_count": 154,
   "metadata": {},
   "outputs": [
    {
     "name": "stdout",
     "output_type": "stream",
     "text": [
      "Score des validations croisées [0.70373069 0.70536932 0.70680333 0.7070149  0.70417039]\n",
      "Score moyen : 0.7054177265941315\n"
     ]
    }
   ],
   "source": [
    "from sklearn.tree import DecisionTreeClassifier\n",
    "\n",
    "model_decision_tree = DecisionTreeClassifier(random_state=42)\n",
    "\n",
    "score = cross_val_score(model_decision_tree, X, y, cv=5)\n",
    "print(f'Score des validations croisées {score}')\n",
    "print(f'Score moyen : {score.mean()}')\n",
    "\n",
    "df_resultats['decision_tree'] = score"
   ]
  },
  {
   "cell_type": "code",
   "execution_count": 155,
   "metadata": {},
   "outputs": [
    {
     "name": "stdout",
     "output_type": "stream",
     "text": [
      "Fitting 5 folds for each of 20 candidates, totalling 100 fits\n",
      "Meilleurs paramètres : {'criterion': 'entropy', 'max_depth': 2}\n",
      "Meilleur score AUC : 0.6992229762040398\n",
      "Meilleur estimateur : DecisionTreeClassifier(criterion='entropy', max_depth=2)\n"
     ]
    }
   ],
   "source": [
    "clf_decision_tree = GridSearchCV(cv=5, estimator=DecisionTreeClassifier(), param_grid={'max_depth' :[1,2,3,4,5,6,7,8,9,10], 'criterion' : ['gini', 'entropy']},scoring='roc_auc', verbose=1, n_jobs=-1)\n",
    "clf_decision_tree.fit(X_train, y_train)\n",
    "\n",
    "print(f'Meilleurs paramètres : {clf_decision_tree.best_params_}')\n",
    "print(f'Meilleur score AUC : {clf_decision_tree.best_score_}')\n",
    "print(f'Meilleur estimateur : {clf_decision_tree.best_estimator_}')"
   ]
  },
  {
   "cell_type": "code",
   "execution_count": 156,
   "metadata": {},
   "outputs": [
    {
     "name": "stdout",
     "output_type": "stream",
     "text": [
      "Model save sous 'pred_cancer_decision_tree.pkl'\n"
     ]
    }
   ],
   "source": [
    "joblib.dump(clf_decision_tree.best_estimator_, 'pred_cancer_decision_tree.joblib')\n",
    "print(\"Model save sous 'pred_cancer_decision_tree.pkl'\")"
   ]
  },
  {
   "cell_type": "code",
   "execution_count": 157,
   "metadata": {},
   "outputs": [
    {
     "name": "stdout",
     "output_type": "stream",
     "text": [
      "Accuracy : 0.8260838592941914\n",
      "AUC : 0.6947597397505734\n",
      "\n",
      "\n",
      "Classification report : \n",
      "              precision    recall  f1-score   support\n",
      "\n",
      "           0       0.85      0.94      0.89     53887\n",
      "           1       0.69      0.45      0.55     16302\n",
      "\n",
      "    accuracy                           0.83     70189\n",
      "   macro avg       0.77      0.69      0.72     70189\n",
      "weighted avg       0.81      0.83      0.81     70189\n",
      "\n",
      "Matrice de confusion : \n",
      "[[50654  3233]\n",
      " [ 8974  7328]]\n",
      "Matrice de confusion\n"
     ]
    },
    {
     "data": {
      "image/png": "[encoded data removed]",
      "text/plain": [
       "<Figure size 640x480 with 2 Axes>"
      ]
     },
     "metadata": {},
     "output_type": "display_data"
    }
   ],
   "source": [
    "model_decision_tree = clf_decision_tree.best_estimator_\n",
    "\n",
    "y_pred_decision_tree = model_decision_tree.predict(X_test)\n",
    "\n",
    "print(f'Accuracy : {accuracy_score(y_test, y_pred_decision_tree)}')\n",
    "print(f'AUC : {roc_auc_score(y_test, y_pred_decision_tree)}')\n",
    "print(f'\\n\\nClassification report : \\n{classification_report(y_test, y_pred_decision_tree)}')\n",
    "print(f'Matrice de confusion : \\n{confusion_matrix(y_test, y_pred_decision_tree)}')\n",
    "\n",
    "print(f'Matrice de confusion')\n",
    "\n",
    "confusion_matrix_graph = confusion_matrix(y_test, y_pred_decision_tree)\n",
    "\n",
    "sns.heatmap(confusion_matrix_graph, annot=True, fmt='d', cmap=\"Blues\")\n",
    "plt.xlabel(\"Prédictions\")\n",
    "plt.ylabel(\"Vraies valeurs\")\n",
    "plt.title(\"Matrice de confusion\")\n",
    "plt.show()"
   ]
  },
  {
   "cell_type": "markdown",
   "metadata": {},
   "source": [
    "## LightGBM"
   ]
  },
  {
   "cell_type": "code",
   "execution_count": 158,
   "metadata": {},
   "outputs": [
    {
     "name": "stdout",
     "output_type": "stream",
     "text": [
      "[LightGBM] [Info] Number of positive: 39596, number of negative: 130556\n",
      "[LightGBM] [Info] Auto-choosing row-wise multi-threading, the overhead of testing was 0.004706 seconds.\n",
      "You can set `force_row_wise=true` to remove the overhead.\n",
      "And if memory is not enough, you can set `force_col_wise=true`.\n",
      "[LightGBM] [Info] Total Bins 1024\n",
      "[LightGBM] [Info] Number of data points in the train set: 170152, number of used features: 12\n",
      "[LightGBM] [Info] [binary:BoostFromScore]: pavg=0.232710 -> initscore=-1.193074\n",
      "[LightGBM] [Info] Start training from score -1.193074\n",
      "[LightGBM] [Info] Number of positive: 39596, number of negative: 130557\n",
      "[LightGBM] [Info] Auto-choosing row-wise multi-threading, the overhead of testing was 0.005175 seconds.\n",
      "You can set `force_row_wise=true` to remove the overhead.\n",
      "And if memory is not enough, you can set `force_col_wise=true`.\n",
      "[LightGBM] [Info] Total Bins 1026\n",
      "[LightGBM] [Info] Number of data points in the train set: 170153, number of used features: 12\n",
      "[LightGBM] [Info] [binary:BoostFromScore]: pavg=0.232708 -> initscore=-1.193082\n",
      "[LightGBM] [Info] Start training from score -1.193082\n",
      "[LightGBM] [Info] Number of positive: 39596, number of negative: 130557\n",
      "[LightGBM] [Info] Auto-choosing row-wise multi-threading, the overhead of testing was 0.004352 seconds.\n",
      "You can set `force_row_wise=true` to remove the overhead.\n",
      "And if memory is not enough, you can set `force_col_wise=true`.\n",
      "[LightGBM] [Info] Total Bins 1024\n",
      "[LightGBM] [Info] Number of data points in the train set: 170153, number of used features: 12\n",
      "[LightGBM] [Info] [binary:BoostFromScore]: pavg=0.232708 -> initscore=-1.193082\n",
      "[LightGBM] [Info] Start training from score -1.193082\n",
      "[LightGBM] [Info] Number of positive: 39596, number of negative: 130557\n",
      "[LightGBM] [Info] Auto-choosing row-wise multi-threading, the overhead of testing was 0.005673 seconds.\n",
      "You can set `force_row_wise=true` to remove the overhead.\n",
      "And if memory is not enough, you can set `force_col_wise=true`.\n",
      "[LightGBM] [Info] Total Bins 1025\n",
      "[LightGBM] [Info] Number of data points in the train set: 170153, number of used features: 12\n",
      "[LightGBM] [Info] [binary:BoostFromScore]: pavg=0.232708 -> initscore=-1.193082\n",
      "[LightGBM] [Info] Start training from score -1.193082\n",
      "[LightGBM] [Info] Number of positive: 39596, number of negative: 130557\n",
      "[LightGBM] [Info] Auto-choosing row-wise multi-threading, the overhead of testing was 0.004522 seconds.\n",
      "You can set `force_row_wise=true` to remove the overhead.\n",
      "And if memory is not enough, you can set `force_col_wise=true`.\n",
      "[LightGBM] [Info] Total Bins 1026\n",
      "[LightGBM] [Info] Number of data points in the train set: 170153, number of used features: 12\n",
      "[LightGBM] [Info] [binary:BoostFromScore]: pavg=0.232708 -> initscore=-1.193082\n",
      "[LightGBM] [Info] Start training from score -1.193082\n",
      "Score des validations croisées [0.82606549 0.82817716 0.82714279 0.82845926 0.82683718]\n",
      "Score moyen : 0.8273363765786221\n"
     ]
    }
   ],
   "source": [
    "import lightgbm as lgb\n",
    "\n",
    "model_lgbm = lgb.LGBMClassifier(random_state=42)\n",
    "\n",
    "score = cross_val_score(model_lgbm, X, y, cv=5)\n",
    "\n",
    "print(f'Score des validations croisées {score}')\n",
    "print(f'Score moyen : {score.mean()}')\n",
    "df_resultats['lightgbm'] = score"
   ]
  },
  {
   "cell_type": "code",
   "execution_count": 159,
   "metadata": {},
   "outputs": [
    {
     "name": "stdout",
     "output_type": "stream",
     "text": [
      "Fitting 5 folds for each of 20 candidates, totalling 100 fits\n",
      "[LightGBM] [Info] Number of positive: 33193, number of negative: 109309\n",
      "[LightGBM] [Info] Auto-choosing row-wise multi-threading, the overhead of testing was 0.003778 seconds.\n",
      "You can set `force_row_wise=true` to remove the overhead.\n",
      "And if memory is not enough, you can set `force_col_wise=true`.\n",
      "[LightGBM] [Info] Total Bins 1023\n",
      "[LightGBM] [Info] Number of data points in the train set: 142502, number of used features: 12\n",
      "[LightGBM] [Info] [binary:BoostFromScore]: pavg=0.500000 -> initscore=0.000000\n",
      "[LightGBM] [Info] Start training from score 0.000000\n",
      "[LightGBM] [Warning] No further splits with positive gain, best gain: -inf\n",
      "[LightGBM] [Warning] No further splits with positive gain, best gain: -inf\n",
      "[LightGBM] [Warning] No further splits with positive gain, best gain: -inf\n",
      "[LightGBM] [Warning] No further splits with positive gain, best gain: -inf\n",
      "[LightGBM] [Warning] No further splits with positive gain, best gain: -inf\n",
      "[LightGBM] [Warning] No further splits with positive gain, best gain: -inf\n",
      "[LightGBM] [Warning] No further splits with positive gain, best gain: -inf\n",
      "[LightGBM] [Warning] No further splits with positive gain, best gain: -inf\n",
      "[LightGBM] [Warning] No further splits with positive gain, best gain: -inf\n",
      "[LightGBM] [Warning] No further splits with positive gain, best gain: -inf\n",
      "[LightGBM] [Warning] No further splits with positive gain, best gain: -inf\n",
      "[LightGBM] [Warning] No further splits with positive gain, best gain: -inf\n",
      "[LightGBM] [Warning] No further splits with positive gain, best gain: -inf\n",
      "[LightGBM] [Warning] No further splits with positive gain, best gain: -inf\n",
      "[LightGBM] [Warning] No further splits with positive gain, best gain: -inf\n",
      "[LightGBM] [Warning] No further splits with positive gain, best gain: -inf\n",
      "[LightGBM] [Warning] No further splits with positive gain, best gain: -inf\n",
      "[LightGBM] [Warning] No further splits with positive gain, best gain: -inf\n",
      "[LightGBM] [Warning] No further splits with positive gain, best gain: -inf\n",
      "[LightGBM] [Warning] No further splits with positive gain, best gain: -inf\n",
      "[LightGBM] [Warning] No further splits with positive gain, best gain: -inf\n",
      "[LightGBM] [Warning] No further splits with positive gain, best gain: -inf\n",
      "[LightGBM] [Warning] No further splits with positive gain, best gain: -inf\n",
      "[LightGBM] [Warning] No further splits with positive gain, best gain: -inf\n",
      "[LightGBM] [Warning] No further splits with positive gain, best gain: -inf\n",
      "[LightGBM] [Warning] No further splits with positive gain, best gain: -inf\n",
      "[LightGBM] [Warning] No further splits with positive gain, best gain: -inf\n",
      "[LightGBM] [Warning] No further splits with positive gain, best gain: -inf\n",
      "[LightGBM] [Warning] No further splits with positive gain, best gain: -inf\n",
      "[LightGBM] [Warning] No further splits with positive gain, best gain: -inf\n",
      "[LightGBM] [Warning] No further splits with positive gain, best gain: -inf\n",
      "[LightGBM] [Warning] No further splits with positive gain, best gain: -inf\n",
      "[LightGBM] [Warning] No further splits with positive gain, best gain: -inf\n",
      "[LightGBM] [Warning] No further splits with positive gain, best gain: -inf\n",
      "[LightGBM] [Warning] No further splits with positive gain, best gain: -inf\n",
      "[LightGBM] [Warning] No further splits with positive gain, best gain: -inf\n",
      "[LightGBM] [Warning] No further splits with positive gain, best gain: -inf\n",
      "[LightGBM] [Warning] No further splits with positive gain, best gain: -inf\n",
      "[LightGBM] [Warning] No further splits with positive gain, best gain: -inf\n",
      "[LightGBM] [Warning] No further splits with positive gain, best gain: -inf\n",
      "[LightGBM] [Warning] No further splits with positive gain, best gain: -inf\n",
      "[LightGBM] [Warning] No further splits with positive gain, best gain: -inf\n",
      "[LightGBM] [Warning] No further splits with positive gain, best gain: -inf\n",
      "[LightGBM] [Warning] No further splits with positive gain, best gain: -inf\n",
      "[LightGBM] [Warning] No further splits with positive gain, best gain: -inf\n",
      "[LightGBM] [Warning] No further splits with positive gain, best gain: -inf\n",
      "[LightGBM] [Warning] No further splits with positive gain, best gain: -inf\n",
      "[LightGBM] [Warning] No further splits with positive gain, best gain: -inf\n",
      "[LightGBM] [Warning] No further splits with positive gain, best gain: -inf\n",
      "[LightGBM] [Warning] No further splits with positive gain, best gain: -inf\n",
      "[LightGBM] [Warning] No further splits with positive gain, best gain: -inf\n",
      "[LightGBM] [Warning] No further splits with positive gain, best gain: -inf\n",
      "[LightGBM] [Warning] No further splits with positive gain, best gain: -inf\n",
      "[LightGBM] [Warning] No further splits with positive gain, best gain: -inf\n",
      "[LightGBM] [Warning] No further splits with positive gain, best gain: -inf\n",
      "[LightGBM] [Warning] No further splits with positive gain, best gain: -inf\n",
      "[LightGBM] [Warning] No further splits with positive gain, best gain: -inf\n",
      "[LightGBM] [Warning] No further splits with positive gain, best gain: -inf\n",
      "[LightGBM] [Warning] No further splits with positive gain, best gain: -inf\n",
      "[LightGBM] [Warning] No further splits with positive gain, best gain: -inf\n",
      "[LightGBM] [Warning] No further splits with positive gain, best gain: -inf\n",
      "[LightGBM] [Warning] No further splits with positive gain, best gain: -inf\n",
      "[LightGBM] [Warning] No further splits with positive gain, best gain: -inf\n",
      "[LightGBM] [Warning] No further splits with positive gain, best gain: -inf\n",
      "[LightGBM] [Warning] No further splits with positive gain, best gain: -inf\n",
      "[LightGBM] [Warning] No further splits with positive gain, best gain: -inf\n",
      "[LightGBM] [Warning] No further splits with positive gain, best gain: -inf\n",
      "[LightGBM] [Warning] No further splits with positive gain, best gain: -inf\n",
      "[LightGBM] [Warning] No further splits with positive gain, best gain: -inf\n",
      "[LightGBM] [Warning] No further splits with positive gain, best gain: -inf\n",
      "[LightGBM] [Warning] No further splits with positive gain, best gain: -inf\n",
      "[LightGBM] [Warning] No further splits with positive gain, best gain: -inf\n",
      "[LightGBM] [Warning] No further splits with positive gain, best gain: -inf\n",
      "[LightGBM] [Warning] No further splits with positive gain, best gain: -inf\n",
      "[LightGBM] [Warning] No further splits with positive gain, best gain: -inf\n",
      "[LightGBM] [Warning] No further splits with positive gain, best gain: -inf\n",
      "[LightGBM] [Warning] No further splits with positive gain, best gain: -inf\n",
      "[LightGBM] [Warning] No further splits with positive gain, best gain: -inf\n",
      "[LightGBM] [Warning] No further splits with positive gain, best gain: -inf\n",
      "[LightGBM] [Warning] No further splits with positive gain, best gain: -inf\n",
      "[LightGBM] [Warning] No further splits with positive gain, best gain: -inf\n",
      "[LightGBM] [Warning] No further splits with positive gain, best gain: -inf\n",
      "[LightGBM] [Warning] No further splits with positive gain, best gain: -inf\n",
      "[LightGBM] [Warning] No further splits with positive gain, best gain: -inf\n",
      "[LightGBM] [Warning] No further splits with positive gain, best gain: -inf\n",
      "[LightGBM] [Warning] No further splits with positive gain, best gain: -inf\n",
      "[LightGBM] [Warning] No further splits with positive gain, best gain: -inf\n",
      "[LightGBM] [Warning] No further splits with positive gain, best gain: -inf\n",
      "[LightGBM] [Warning] No further splits with positive gain, best gain: -inf\n",
      "[LightGBM] [Warning] No further splits with positive gain, best gain: -inf\n",
      "[LightGBM] [Warning] No further splits with positive gain, best gain: -inf\n",
      "[LightGBM] [Warning] No further splits with positive gain, best gain: -inf\n",
      "[LightGBM] [Warning] No further splits with positive gain, best gain: -inf\n",
      "[LightGBM] [Warning] No further splits with positive gain, best gain: -inf\n",
      "[LightGBM] [Warning] No further splits with positive gain, best gain: -inf\n",
      "[LightGBM] [Warning] No further splits with positive gain, best gain: -inf\n",
      "[LightGBM] [Warning] No further splits with positive gain, best gain: -inf\n",
      "[LightGBM] [Warning] No further splits with positive gain, best gain: -inf\n",
      "[LightGBM] [Warning] No further splits with positive gain, best gain: -inf\n",
      "[LightGBM] [Warning] No further splits with positive gain, best gain: -inf\n",
      "[LightGBM] [Warning] No further splits with positive gain, best gain: -inf\n",
      "[LightGBM] [Warning] No further splits with positive gain, best gain: -inf\n",
      "[LightGBM] [Warning] No further splits with positive gain, best gain: -inf\n",
      "[LightGBM] [Warning] No further splits with positive gain, best gain: -inf\n",
      "[LightGBM] [Warning] No further splits with positive gain, best gain: -inf\n",
      "[LightGBM] [Warning] No further splits with positive gain, best gain: -inf\n",
      "[LightGBM] [Warning] No further splits with positive gain, best gain: -inf\n",
      "[LightGBM] [Warning] No further splits with positive gain, best gain: -inf\n",
      "[LightGBM] [Warning] No further splits with positive gain, best gain: -inf\n",
      "[LightGBM] [Warning] No further splits with positive gain, best gain: -inf\n",
      "[LightGBM] [Warning] No further splits with positive gain, best gain: -inf\n",
      "[LightGBM] [Warning] No further splits with positive gain, best gain: -inf\n",
      "[LightGBM] [Warning] No further splits with positive gain, best gain: -inf\n",
      "[LightGBM] [Warning] No further splits with positive gain, best gain: -inf\n",
      "[LightGBM] [Warning] No further splits with positive gain, best gain: -inf\n",
      "[LightGBM] [Warning] No further splits with positive gain, best gain: -inf\n",
      "[LightGBM] [Warning] No further splits with positive gain, best gain: -inf\n",
      "[LightGBM] [Warning] No further splits with positive gain, best gain: -inf\n",
      "[LightGBM] [Warning] No further splits with positive gain, best gain: -inf\n",
      "[LightGBM] [Warning] No further splits with positive gain, best gain: -inf\n",
      "[LightGBM] [Warning] No further splits with positive gain, best gain: -inf\n",
      "[LightGBM] [Warning] No further splits with positive gain, best gain: -inf\n",
      "[LightGBM] [Warning] No further splits with positive gain, best gain: -inf\n",
      "[LightGBM] [Warning] No further splits with positive gain, best gain: -inf\n",
      "[LightGBM] [Warning] No further splits with positive gain, best gain: -inf\n",
      "[LightGBM] [Warning] No further splits with positive gain, best gain: -inf\n",
      "[LightGBM] [Warning] No further splits with positive gain, best gain: -inf\n",
      "[LightGBM] [Warning] No further splits with positive gain, best gain: -inf\n",
      "[LightGBM] [Warning] No further splits with positive gain, best gain: -inf\n",
      "[LightGBM] [Warning] No further splits with positive gain, best gain: -inf\n",
      "[LightGBM] [Warning] No further splits with positive gain, best gain: -inf\n",
      "[LightGBM] [Warning] No further splits with positive gain, best gain: -inf\n",
      "[LightGBM] [Warning] No further splits with positive gain, best gain: -inf\n",
      "[LightGBM] [Warning] No further splits with positive gain, best gain: -inf\n",
      "[LightGBM] [Warning] No further splits with positive gain, best gain: -inf\n",
      "[LightGBM] [Warning] No further splits with positive gain, best gain: -inf\n",
      "[LightGBM] [Warning] No further splits with positive gain, best gain: -inf\n",
      "[LightGBM] [Warning] No further splits with positive gain, best gain: -inf\n",
      "[LightGBM] [Warning] No further splits with positive gain, best gain: -inf\n",
      "[LightGBM] [Warning] No further splits with positive gain, best gain: -inf\n",
      "[LightGBM] [Warning] No further splits with positive gain, best gain: -inf\n",
      "[LightGBM] [Warning] No further splits with positive gain, best gain: -inf\n",
      "[LightGBM] [Warning] No further splits with positive gain, best gain: -inf\n",
      "[LightGBM] [Warning] No further splits with positive gain, best gain: -inf\n",
      "[LightGBM] [Warning] No further splits with positive gain, best gain: -inf\n",
      "[LightGBM] [Warning] No further splits with positive gain, best gain: -inf\n",
      "[LightGBM] [Warning] No further splits with positive gain, best gain: -inf\n",
      "[LightGBM] [Warning] No further splits with positive gain, best gain: -inf\n",
      "[LightGBM] [Warning] No further splits with positive gain, best gain: -inf\n",
      "[LightGBM] [Warning] No further splits with positive gain, best gain: -inf\n",
      "[LightGBM] [Warning] No further splits with positive gain, best gain: -inf\n",
      "[LightGBM] [Warning] No further splits with positive gain, best gain: -inf\n",
      "[LightGBM] [Warning] No further splits with positive gain, best gain: -inf\n",
      "[LightGBM] [Warning] No further splits with positive gain, best gain: -inf\n",
      "[LightGBM] [Warning] No further splits with positive gain, best gain: -inf\n",
      "[LightGBM] [Warning] No further splits with positive gain, best gain: -inf\n",
      "[LightGBM] [Warning] No further splits with positive gain, best gain: -inf\n",
      "[LightGBM] [Warning] No further splits with positive gain, best gain: -inf\n",
      "[LightGBM] [Warning] No further splits with positive gain, best gain: -inf\n",
      "[LightGBM] [Warning] No further splits with positive gain, best gain: -inf\n",
      "[LightGBM] [Warning] No further splits with positive gain, best gain: -inf\n",
      "[LightGBM] [Warning] No further splits with positive gain, best gain: -inf\n",
      "[LightGBM] [Warning] No further splits with positive gain, best gain: -inf\n",
      "[LightGBM] [Warning] No further splits with positive gain, best gain: -inf\n",
      "[LightGBM] [Warning] No further splits with positive gain, best gain: -inf\n",
      "[LightGBM] [Warning] No further splits with positive gain, best gain: -inf\n",
      "[LightGBM] [Warning] No further splits with positive gain, best gain: -inf\n",
      "[LightGBM] [Warning] No further splits with positive gain, best gain: -inf\n",
      "[LightGBM] [Warning] No further splits with positive gain, best gain: -inf\n",
      "[LightGBM] [Warning] No further splits with positive gain, best gain: -inf\n",
      "[LightGBM] [Warning] No further splits with positive gain, best gain: -inf\n",
      "[LightGBM] [Warning] No further splits with positive gain, best gain: -inf\n",
      "[LightGBM] [Warning] No further splits with positive gain, best gain: -inf\n",
      "[LightGBM] [Warning] No further splits with positive gain, best gain: -inf\n",
      "[LightGBM] [Warning] No further splits with positive gain, best gain: -inf\n",
      "[LightGBM] [Warning] No further splits with positive gain, best gain: -inf\n",
      "[LightGBM] [Warning] No further splits with positive gain, best gain: -inf\n",
      "[LightGBM] [Warning] No further splits with positive gain, best gain: -inf\n",
      "[LightGBM] [Warning] No further splits with positive gain, best gain: -inf\n",
      "[LightGBM] [Warning] No further splits with positive gain, best gain: -inf\n",
      "[LightGBM] [Warning] No further splits with positive gain, best gain: -inf\n",
      "[LightGBM] [Warning] No further splits with positive gain, best gain: -inf\n",
      "[LightGBM] [Warning] No further splits with positive gain, best gain: -inf\n",
      "[LightGBM] [Warning] No further splits with positive gain, best gain: -inf\n",
      "[LightGBM] [Warning] No further splits with positive gain, best gain: -inf\n",
      "[LightGBM] [Warning] No further splits with positive gain, best gain: -inf\n",
      "[LightGBM] [Warning] No further splits with positive gain, best gain: -inf\n",
      "[LightGBM] [Warning] No further splits with positive gain, best gain: -inf\n",
      "[LightGBM] [Warning] No further splits with positive gain, best gain: -inf\n",
      "[LightGBM] [Warning] No further splits with positive gain, best gain: -inf\n",
      "[LightGBM] [Warning] No further splits with positive gain, best gain: -inf\n",
      "[LightGBM] [Warning] No further splits with positive gain, best gain: -inf\n",
      "[LightGBM] [Warning] No further splits with positive gain, best gain: -inf\n",
      "[LightGBM] [Warning] No further splits with positive gain, best gain: -inf\n",
      "[LightGBM] [Warning] No further splits with positive gain, best gain: -inf\n",
      "[LightGBM] [Warning] No further splits with positive gain, best gain: -inf\n",
      "[LightGBM] [Warning] No further splits with positive gain, best gain: -inf\n",
      "[LightGBM] [Warning] No further splits with positive gain, best gain: -inf\n",
      "[LightGBM] [Warning] No further splits with positive gain, best gain: -inf\n",
      "[LightGBM] [Warning] No further splits with positive gain, best gain: -inf\n",
      "[LightGBM] [Warning] No further splits with positive gain, best gain: -inf\n",
      "[LightGBM] [Warning] No further splits with positive gain, best gain: -inf\n",
      "[LightGBM] [Warning] No further splits with positive gain, best gain: -inf\n",
      "[LightGBM] [Warning] No further splits with positive gain, best gain: -inf\n",
      "[LightGBM] [Warning] No further splits with positive gain, best gain: -inf\n",
      "[LightGBM] [Warning] No further splits with positive gain, best gain: -inf\n",
      "[LightGBM] [Warning] No further splits with positive gain, best gain: -inf\n",
      "[LightGBM] [Warning] No further splits with positive gain, best gain: -inf\n",
      "[LightGBM] [Warning] No further splits with positive gain, best gain: -inf\n",
      "[LightGBM] [Warning] No further splits with positive gain, best gain: -inf\n",
      "[LightGBM] [Warning] No further splits with positive gain, best gain: -inf\n",
      "[LightGBM] [Warning] No further splits with positive gain, best gain: -inf\n",
      "[LightGBM] [Warning] No further splits with positive gain, best gain: -inf\n",
      "[LightGBM] [Warning] No further splits with positive gain, best gain: -inf\n",
      "[LightGBM] [Warning] No further splits with positive gain, best gain: -inf\n",
      "[LightGBM] [Warning] No further splits with positive gain, best gain: -inf\n",
      "[LightGBM] [Warning] No further splits with positive gain, best gain: -inf\n",
      "[LightGBM] [Warning] No further splits with positive gain, best gain: -inf\n",
      "[LightGBM] [Warning] No further splits with positive gain, best gain: -inf\n",
      "[LightGBM] [Warning] No further splits with positive gain, best gain: -inf\n",
      "[LightGBM] [Warning] No further splits with positive gain, best gain: -inf\n",
      "[LightGBM] [Warning] No further splits with positive gain, best gain: -inf\n",
      "[LightGBM] [Warning] No further splits with positive gain, best gain: -inf\n",
      "[LightGBM] [Warning] No further splits with positive gain, best gain: -inf\n",
      "[LightGBM] [Warning] No further splits with positive gain, best gain: -inf\n",
      "[LightGBM] [Warning] No further splits with positive gain, best gain: -inf\n",
      "[LightGBM] [Warning] No further splits with positive gain, best gain: -inf\n",
      "[LightGBM] [Warning] No further splits with positive gain, best gain: -inf\n",
      "[LightGBM] [Warning] No further splits with positive gain, best gain: -inf\n",
      "[LightGBM] [Warning] No further splits with positive gain, best gain: -inf\n",
      "[LightGBM] [Warning] No further splits with positive gain, best gain: -inf\n",
      "[LightGBM] [Warning] No further splits with positive gain, best gain: -inf\n",
      "[LightGBM] [Warning] No further splits with positive gain, best gain: -inf\n",
      "[LightGBM] [Warning] No further splits with positive gain, best gain: -inf\n",
      "[LightGBM] [Warning] No further splits with positive gain, best gain: -inf\n",
      "[LightGBM] [Warning] No further splits with positive gain, best gain: -inf\n",
      "[LightGBM] [Warning] No further splits with positive gain, best gain: -inf\n",
      "[LightGBM] [Warning] No further splits with positive gain, best gain: -inf\n",
      "[LightGBM] [Warning] No further splits with positive gain, best gain: -inf\n",
      "[LightGBM] [Warning] No further splits with positive gain, best gain: -inf\n",
      "[LightGBM] [Warning] No further splits with positive gain, best gain: -inf\n",
      "[LightGBM] [Warning] No further splits with positive gain, best gain: -inf\n",
      "[LightGBM] [Warning] No further splits with positive gain, best gain: -inf\n",
      "[LightGBM] [Warning] No further splits with positive gain, best gain: -inf\n",
      "[LightGBM] [Warning] No further splits with positive gain, best gain: -inf\n",
      "[LightGBM] [Warning] No further splits with positive gain, best gain: -inf\n",
      "[LightGBM] [Warning] No further splits with positive gain, best gain: -inf\n",
      "[LightGBM] [Warning] No further splits with positive gain, best gain: -inf\n",
      "[LightGBM] [Warning] No further splits with positive gain, best gain: -inf\n",
      "[LightGBM] [Warning] No further splits with positive gain, best gain: -inf\n",
      "[LightGBM] [Warning] No further splits with positive gain, best gain: -inf\n",
      "[LightGBM] [Warning] No further splits with positive gain, best gain: -inf\n",
      "[LightGBM] [Warning] No further splits with positive gain, best gain: -inf\n",
      "[LightGBM] [Warning] No further splits with positive gain, best gain: -inf\n",
      "[LightGBM] [Warning] No further splits with positive gain, best gain: -inf\n",
      "[LightGBM] [Warning] No further splits with positive gain, best gain: -inf\n",
      "[LightGBM] [Warning] No further splits with positive gain, best gain: -inf\n",
      "[LightGBM] [Warning] No further splits with positive gain, best gain: -inf\n",
      "[LightGBM] [Warning] No further splits with positive gain, best gain: -inf\n",
      "[LightGBM] [Warning] No further splits with positive gain, best gain: -inf\n",
      "[LightGBM] [Warning] No further splits with positive gain, best gain: -inf\n",
      "[LightGBM] [Warning] No further splits with positive gain, best gain: -inf\n",
      "[LightGBM] [Warning] No further splits with positive gain, best gain: -inf\n",
      "[LightGBM] [Warning] No further splits with positive gain, best gain: -inf\n",
      "[LightGBM] [Warning] No further splits with positive gain, best gain: -inf\n",
      "[LightGBM] [Warning] No further splits with positive gain, best gain: -inf\n",
      "[LightGBM] [Warning] No further splits with positive gain, best gain: -inf\n",
      "Meilleurs paramètres : {'colsample_bytree': np.float64(0.6725356240133415), 'learning_rate': np.float64(0.20030540341040914), 'max_depth': 4, 'min_child_samples': 48, 'n_estimators': 267, 'num_leaves': 87, 'reg_alpha': np.float64(0.8085332633271525), 'reg_lambda': np.float64(3.6965445606140444), 'subsample': np.float64(0.621079969138713)}\n",
      "Meilleur score AUC : 0.6992565095789173\n",
      "Meilleur estimateur : LGBMClassifier(class_weight='balanced',\n",
      "               colsample_bytree=np.float64(0.6725356240133415),\n",
      "               learning_rate=np.float64(0.20030540341040914), max_depth=4,\n",
      "               min_child_samples=48, n_estimators=267, n_jobs=-1, num_leaves=87,\n",
      "               random_state=42, reg_alpha=np.float64(0.8085332633271525),\n",
      "               reg_lambda=np.float64(3.6965445606140444),\n",
      "               subsample=np.float64(0.621079969138713))\n"
     ]
    }
   ],
   "source": [
    "from scipy.stats import randint, uniform\n",
    "\n",
    "param_dist = {\n",
    "    'num_leaves': randint(20, 150),\n",
    "    'max_depth': randint(3, 15),\n",
    "    'learning_rate': uniform(0.01, 0.3),\n",
    "    'n_estimators': randint(50, 500),\n",
    "    'min_child_samples': randint(5, 50),\n",
    "    'subsample': uniform(0.5, 0.5),\n",
    "    'colsample_bytree': uniform(0.5, 0.5),\n",
    "    'reg_lambda': uniform(0, 10),\n",
    "    'reg_alpha': uniform(0, 10)\n",
    "}\n",
    "\n",
    "clf_lgb = RandomizedSearchCV(\n",
    "    lgb.LGBMClassifier(random_state=42, class_weight='balanced', n_jobs=-1),\n",
    "    param_distributions=param_dist,\n",
    "    n_iter=20, \n",
    "    cv=5, \n",
    "    scoring='roc_auc',\n",
    "    verbose=1,\n",
    "    n_jobs=-1,\n",
    "    random_state=42\n",
    ")\n",
    "\n",
    "clf_lgb.fit(X_train, y_train)\n",
    "\n",
    "print(f'Meilleurs paramètres : {clf_lgb.best_params_}')\n",
    "print(f'Meilleur score AUC : {clf_lgb.best_score_}')\n",
    "print(f'Meilleur estimateur : {clf_lgb.best_estimator_}')"
   ]
  },
  {
   "cell_type": "code",
   "execution_count": 160,
   "metadata": {},
   "outputs": [
    {
     "name": "stdout",
     "output_type": "stream",
     "text": [
      "Model save sous 'pred_cancer_light_gbm.pkl'\n"
     ]
    }
   ],
   "source": [
    "joblib.dump(clf_lgb.best_estimator_, 'pred_cancer_light_gbm.joblib')\n",
    "print(\"Model save sous 'pred_cancer_light_gbm.pkl'\")"
   ]
  },
  {
   "cell_type": "code",
   "execution_count": 161,
   "metadata": {},
   "outputs": [
    {
     "name": "stdout",
     "output_type": "stream",
     "text": [
      "Accuracy : 0.8230776902363618\n",
      "AUC : 0.6937645975078596\n",
      "\n",
      "\n",
      "Classification report : \n",
      "              precision    recall  f1-score   support\n",
      "\n",
      "           0       0.85      0.94      0.89     53887\n",
      "           1       0.68      0.45      0.54     16302\n",
      "\n",
      "    accuracy                           0.82     70189\n",
      "   macro avg       0.76      0.69      0.72     70189\n",
      "weighted avg       0.81      0.82      0.81     70189\n",
      "\n",
      "Matrice de confusion : \n",
      "[[50398  3489]\n",
      " [ 8929  7373]]\n",
      "Matrice de confusion\n"
     ]
    },
    {
     "data": {
      "image/png": "[encoded data removed]",
      "text/plain": [
       "<Figure size 640x480 with 2 Axes>"
      ]
     },
     "metadata": {},
     "output_type": "display_data"
    }
   ],
   "source": [
    "model_lgbm = clf_lgb.best_estimator_\n",
    "\n",
    "y_pred_lgbm = model_lgbm.predict(X_test)\n",
    "\n",
    "print(f'Accuracy : {accuracy_score(y_test, y_pred_lgbm)}')\n",
    "\n",
    "print(f'AUC : {roc_auc_score(y_test, y_pred_lgbm)}')\n",
    "\n",
    "print(f'\\n\\nClassification report : \\n{classification_report(y_test, y_pred_lgbm)}')\n",
    "\n",
    "print(f'Matrice de confusion : \\n{confusion_matrix(y_test, y_pred_lgbm)}')\n",
    "\n",
    "print(f'Matrice de confusion')\n",
    "\n",
    "confusion_matrix_graph = confusion_matrix(y_test, y_pred_lgbm)\n",
    "\n",
    "sns.heatmap(confusion_matrix_graph, annot=True, fmt='d', cmap=\"Blues\")\n",
    "\n",
    "plt.xlabel(\"Prédictions\")\n",
    "\n",
    "plt.ylabel(\"Vraies valeurs\")\n",
    "\n",
    "plt.title(\"Matrice de confusion\")\n",
    "\n",
    "plt.show()"
   ]
  },
  {
   "cell_type": "code",
   "execution_count": 162,
   "metadata": {},
   "outputs": [
    {
     "name": "stdout",
     "output_type": "stream",
     "text": [
      "Moyenne des scores pour chaque modèle :\n",
      "polynomial_features    0.827981\n",
      "lr_score               0.827355\n",
      "lightgbm               0.827336\n",
      "knn                    0.801224\n",
      "decision_tree          0.705418\n",
      "dtype: float64\n"
     ]
    },
    {
     "data": {
      "image/png": "[encoded data removed]",
      "text/plain": [
       "<Figure size 800x500 with 1 Axes>"
      ]
     },
     "metadata": {},
     "output_type": "display_data"
    }
   ],
   "source": [
    "# Calcul de la moyenne des performances pour chaque modèle\n",
    "mean_results = df_resultats.mean()\n",
    "\n",
    "# Affichage des résultats triés par performance décroissante\n",
    "mean_results = mean_results.sort_values(ascending=False)\n",
    "\n",
    "print(\"Moyenne des scores pour chaque modèle :\")\n",
    "print(mean_results)\n",
    "\n",
    "# Optionnel : affichage sous forme de graphique\n",
    "import matplotlib.pyplot as plt\n",
    "\n",
    "plt.figure(figsize=(8, 5))\n",
    "mean_results.plot(kind='bar', color=['blue', 'green', 'red', 'purple'])\n",
    "plt.xlabel(\"Modèles\")\n",
    "plt.ylabel(\"Score moyen\")\n",
    "plt.title(\"Comparaison des modèles\")\n",
    "plt.xticks(rotation=45)\n",
    "plt.grid(axis=\"y\", linestyle=\"--\", alpha=0.7)\n",
    "plt.show()"
   ]
  }
 ],
 "metadata": {
  "kernelspec": {
   "display_name": "ml_cancer_venv",
   "language": "python",
   "name": "python3"
  },
  "language_info": {
   "codemirror_mode": {
    "name": "ipython",
    "version": 3
   },
   "file_extension": ".py",
   "mimetype": "text/x-python",
   "name": "python",
   "nbconvert_exporter": "python",
   "pygments_lexer": "ipython3",
   "version": "3.12.9"
  }
 },
 "nbformat": 4,
 "nbformat_minor": 2
}
