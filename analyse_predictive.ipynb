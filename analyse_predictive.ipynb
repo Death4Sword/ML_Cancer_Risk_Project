{
 "cells": [
  {
   "cell_type": "code",
   "execution_count": 1,
   "metadata": {},
   "outputs": [],
   "source": [
    "import pandas as pd\n",
    "from sklearn.cluster import KMeans\n",
    "from sklearn.neighbors import KNeighborsClassifier\n",
    "from sklearn.ensemble import RandomForestClassifier, RandomForestClassifier, RandomForestRegressor\n",
    "import warnings\n",
    "from sklearn.preprocessing import OrdinalEncoder, OneHotEncoder"
   ]
  },
  {
   "cell_type": "code",
   "execution_count": 2,
   "metadata": {},
   "outputs": [],
   "source": [
    "warnings.simplefilter('ignore')\n"
   ]
  },
  {
   "cell_type": "code",
   "execution_count": 3,
   "metadata": {},
   "outputs": [
    {
     "data": {
      "text/html": [
       "<div>\n",
       "<style scoped>\n",
       "    .dataframe tbody tr th:only-of-type {\n",
       "        vertical-align: middle;\n",
       "    }\n",
       "\n",
       "    .dataframe tbody tr th {\n",
       "        vertical-align: top;\n",
       "    }\n",
       "\n",
       "    .dataframe thead th {\n",
       "        text-align: right;\n",
       "    }\n",
       "</style>\n",
       "<table border=\"1\" class=\"dataframe\">\n",
       "  <thead>\n",
       "    <tr style=\"text-align: right;\">\n",
       "      <th></th>\n",
       "      <th>Patient_ID</th>\n",
       "      <th>Age</th>\n",
       "      <th>Gender</th>\n",
       "      <th>Country</th>\n",
       "      <th>Ethnicity</th>\n",
       "      <th>Family_History</th>\n",
       "      <th>Radiation_Exposure</th>\n",
       "      <th>Iodine_Deficiency</th>\n",
       "      <th>Smoking</th>\n",
       "      <th>Obesity</th>\n",
       "      <th>Diabetes</th>\n",
       "      <th>TSH_Level</th>\n",
       "      <th>T3_Level</th>\n",
       "      <th>T4_Level</th>\n",
       "      <th>Nodule_Size</th>\n",
       "      <th>Thyroid_Cancer_Risk</th>\n",
       "      <th>Diagnosis</th>\n",
       "    </tr>\n",
       "  </thead>\n",
       "  <tbody>\n",
       "    <tr>\n",
       "      <th>0</th>\n",
       "      <td>1</td>\n",
       "      <td>66</td>\n",
       "      <td>Male</td>\n",
       "      <td>Russia</td>\n",
       "      <td>Caucasian</td>\n",
       "      <td>No</td>\n",
       "      <td>Yes</td>\n",
       "      <td>No</td>\n",
       "      <td>No</td>\n",
       "      <td>No</td>\n",
       "      <td>No</td>\n",
       "      <td>9.37</td>\n",
       "      <td>1.67</td>\n",
       "      <td>6.16</td>\n",
       "      <td>1.08</td>\n",
       "      <td>Low</td>\n",
       "      <td>Benign</td>\n",
       "    </tr>\n",
       "    <tr>\n",
       "      <th>1</th>\n",
       "      <td>2</td>\n",
       "      <td>29</td>\n",
       "      <td>Male</td>\n",
       "      <td>Germany</td>\n",
       "      <td>Hispanic</td>\n",
       "      <td>No</td>\n",
       "      <td>Yes</td>\n",
       "      <td>No</td>\n",
       "      <td>No</td>\n",
       "      <td>No</td>\n",
       "      <td>No</td>\n",
       "      <td>1.83</td>\n",
       "      <td>1.73</td>\n",
       "      <td>10.54</td>\n",
       "      <td>4.05</td>\n",
       "      <td>Low</td>\n",
       "      <td>Benign</td>\n",
       "    </tr>\n",
       "    <tr>\n",
       "      <th>2</th>\n",
       "      <td>3</td>\n",
       "      <td>86</td>\n",
       "      <td>Male</td>\n",
       "      <td>Nigeria</td>\n",
       "      <td>Caucasian</td>\n",
       "      <td>No</td>\n",
       "      <td>No</td>\n",
       "      <td>No</td>\n",
       "      <td>No</td>\n",
       "      <td>No</td>\n",
       "      <td>No</td>\n",
       "      <td>6.26</td>\n",
       "      <td>2.59</td>\n",
       "      <td>10.57</td>\n",
       "      <td>4.61</td>\n",
       "      <td>Low</td>\n",
       "      <td>Benign</td>\n",
       "    </tr>\n",
       "    <tr>\n",
       "      <th>3</th>\n",
       "      <td>4</td>\n",
       "      <td>75</td>\n",
       "      <td>Female</td>\n",
       "      <td>India</td>\n",
       "      <td>Asian</td>\n",
       "      <td>No</td>\n",
       "      <td>No</td>\n",
       "      <td>No</td>\n",
       "      <td>No</td>\n",
       "      <td>No</td>\n",
       "      <td>No</td>\n",
       "      <td>4.10</td>\n",
       "      <td>2.62</td>\n",
       "      <td>11.04</td>\n",
       "      <td>2.46</td>\n",
       "      <td>Medium</td>\n",
       "      <td>Benign</td>\n",
       "    </tr>\n",
       "    <tr>\n",
       "      <th>4</th>\n",
       "      <td>5</td>\n",
       "      <td>35</td>\n",
       "      <td>Female</td>\n",
       "      <td>Germany</td>\n",
       "      <td>African</td>\n",
       "      <td>Yes</td>\n",
       "      <td>Yes</td>\n",
       "      <td>No</td>\n",
       "      <td>No</td>\n",
       "      <td>No</td>\n",
       "      <td>No</td>\n",
       "      <td>9.10</td>\n",
       "      <td>2.11</td>\n",
       "      <td>10.71</td>\n",
       "      <td>2.11</td>\n",
       "      <td>High</td>\n",
       "      <td>Benign</td>\n",
       "    </tr>\n",
       "  </tbody>\n",
       "</table>\n",
       "</div>"
      ],
      "text/plain": [
       "   Patient_ID  Age  Gender  Country  Ethnicity Family_History  \\\n",
       "0           1   66    Male   Russia  Caucasian             No   \n",
       "1           2   29    Male  Germany   Hispanic             No   \n",
       "2           3   86    Male  Nigeria  Caucasian             No   \n",
       "3           4   75  Female    India      Asian             No   \n",
       "4           5   35  Female  Germany    African            Yes   \n",
       "\n",
       "  Radiation_Exposure Iodine_Deficiency Smoking Obesity Diabetes  TSH_Level  \\\n",
       "0                Yes                No      No      No       No       9.37   \n",
       "1                Yes                No      No      No       No       1.83   \n",
       "2                 No                No      No      No       No       6.26   \n",
       "3                 No                No      No      No       No       4.10   \n",
       "4                Yes                No      No      No       No       9.10   \n",
       "\n",
       "   T3_Level  T4_Level  Nodule_Size Thyroid_Cancer_Risk Diagnosis  \n",
       "0      1.67      6.16         1.08                 Low    Benign  \n",
       "1      1.73     10.54         4.05                 Low    Benign  \n",
       "2      2.59     10.57         4.61                 Low    Benign  \n",
       "3      2.62     11.04         2.46              Medium    Benign  \n",
       "4      2.11     10.71         2.11                High    Benign  "
      ]
     },
     "execution_count": 3,
     "metadata": {},
     "output_type": "execute_result"
    }
   ],
   "source": [
    "df = pd.read_csv('thyroid_cancer_risk_data.csv')\n",
    "df.head()"
   ]
  },
  {
   "cell_type": "code",
   "execution_count": 4,
   "metadata": {},
   "outputs": [],
   "source": [
    "ohe_encoding = OneHotEncoder(drop=\"first\", sparse_output=False)\n",
    "encoded_cols = [\"Gender\", \"Country\", \"Ethnicity\"]\n",
    "df_ohe_encoding = pd.DataFrame(ohe_encoding.fit_transform(df[encoded_cols]), columns=ohe_encoding.get_feature_names_out(encoded_cols))"
   ]
  },
  {
   "cell_type": "code",
   "execution_count": 5,
   "metadata": {},
   "outputs": [],
   "source": [
    "ord_encoding = OrdinalEncoder(categories=[['Low', 'Medium', 'High']])\n",
    "df['Thyroid_Cancer_Risk'] = ord_encoding.fit_transform(df[['Thyroid_Cancer_Risk']])\n",
    "\n",
    "df = df.drop(columns=encoded_cols).join(df_ohe_encoding)\n",
    "\n",
    "df['Diagnosis'] = df['Diagnosis'].map({'Benign' : 0, 'Malignant' : 1})"
   ]
  },
  {
   "cell_type": "code",
   "execution_count": 6,
   "metadata": {},
   "outputs": [],
   "source": [
    "binary_cols = ['Family_History', 'Radiation_Exposure', 'Iodine_Deficiency', 'Smoking', 'Obesity', 'Diabetes']\n",
    "df[binary_cols] = df[binary_cols].replace({'Yes' : 1, 'No' : 0}).astype(int)"
   ]
  },
  {
   "cell_type": "code",
   "execution_count": 7,
   "metadata": {},
   "outputs": [
    {
     "data": {
      "text/html": [
       "<div>\n",
       "<style scoped>\n",
       "    .dataframe tbody tr th:only-of-type {\n",
       "        vertical-align: middle;\n",
       "    }\n",
       "\n",
       "    .dataframe tbody tr th {\n",
       "        vertical-align: top;\n",
       "    }\n",
       "\n",
       "    .dataframe thead th {\n",
       "        text-align: right;\n",
       "    }\n",
       "</style>\n",
       "<table border=\"1\" class=\"dataframe\">\n",
       "  <thead>\n",
       "    <tr style=\"text-align: right;\">\n",
       "      <th></th>\n",
       "      <th>Patient_ID</th>\n",
       "      <th>Age</th>\n",
       "      <th>Family_History</th>\n",
       "      <th>Radiation_Exposure</th>\n",
       "      <th>Iodine_Deficiency</th>\n",
       "      <th>Smoking</th>\n",
       "      <th>Obesity</th>\n",
       "      <th>Diabetes</th>\n",
       "      <th>TSH_Level</th>\n",
       "      <th>T3_Level</th>\n",
       "      <th>...</th>\n",
       "      <th>Country_Japan</th>\n",
       "      <th>Country_Nigeria</th>\n",
       "      <th>Country_Russia</th>\n",
       "      <th>Country_South Korea</th>\n",
       "      <th>Country_UK</th>\n",
       "      <th>Country_USA</th>\n",
       "      <th>Ethnicity_Asian</th>\n",
       "      <th>Ethnicity_Caucasian</th>\n",
       "      <th>Ethnicity_Hispanic</th>\n",
       "      <th>Ethnicity_Middle Eastern</th>\n",
       "    </tr>\n",
       "  </thead>\n",
       "  <tbody>\n",
       "    <tr>\n",
       "      <th>0</th>\n",
       "      <td>1</td>\n",
       "      <td>66</td>\n",
       "      <td>0</td>\n",
       "      <td>1</td>\n",
       "      <td>0</td>\n",
       "      <td>0</td>\n",
       "      <td>0</td>\n",
       "      <td>0</td>\n",
       "      <td>9.37</td>\n",
       "      <td>1.67</td>\n",
       "      <td>...</td>\n",
       "      <td>0.0</td>\n",
       "      <td>0.0</td>\n",
       "      <td>1.0</td>\n",
       "      <td>0.0</td>\n",
       "      <td>0.0</td>\n",
       "      <td>0.0</td>\n",
       "      <td>0.0</td>\n",
       "      <td>1.0</td>\n",
       "      <td>0.0</td>\n",
       "      <td>0.0</td>\n",
       "    </tr>\n",
       "    <tr>\n",
       "      <th>1</th>\n",
       "      <td>2</td>\n",
       "      <td>29</td>\n",
       "      <td>0</td>\n",
       "      <td>1</td>\n",
       "      <td>0</td>\n",
       "      <td>0</td>\n",
       "      <td>0</td>\n",
       "      <td>0</td>\n",
       "      <td>1.83</td>\n",
       "      <td>1.73</td>\n",
       "      <td>...</td>\n",
       "      <td>0.0</td>\n",
       "      <td>0.0</td>\n",
       "      <td>0.0</td>\n",
       "      <td>0.0</td>\n",
       "      <td>0.0</td>\n",
       "      <td>0.0</td>\n",
       "      <td>0.0</td>\n",
       "      <td>0.0</td>\n",
       "      <td>1.0</td>\n",
       "      <td>0.0</td>\n",
       "    </tr>\n",
       "    <tr>\n",
       "      <th>2</th>\n",
       "      <td>3</td>\n",
       "      <td>86</td>\n",
       "      <td>0</td>\n",
       "      <td>0</td>\n",
       "      <td>0</td>\n",
       "      <td>0</td>\n",
       "      <td>0</td>\n",
       "      <td>0</td>\n",
       "      <td>6.26</td>\n",
       "      <td>2.59</td>\n",
       "      <td>...</td>\n",
       "      <td>0.0</td>\n",
       "      <td>1.0</td>\n",
       "      <td>0.0</td>\n",
       "      <td>0.0</td>\n",
       "      <td>0.0</td>\n",
       "      <td>0.0</td>\n",
       "      <td>0.0</td>\n",
       "      <td>1.0</td>\n",
       "      <td>0.0</td>\n",
       "      <td>0.0</td>\n",
       "    </tr>\n",
       "    <tr>\n",
       "      <th>3</th>\n",
       "      <td>4</td>\n",
       "      <td>75</td>\n",
       "      <td>0</td>\n",
       "      <td>0</td>\n",
       "      <td>0</td>\n",
       "      <td>0</td>\n",
       "      <td>0</td>\n",
       "      <td>0</td>\n",
       "      <td>4.10</td>\n",
       "      <td>2.62</td>\n",
       "      <td>...</td>\n",
       "      <td>0.0</td>\n",
       "      <td>0.0</td>\n",
       "      <td>0.0</td>\n",
       "      <td>0.0</td>\n",
       "      <td>0.0</td>\n",
       "      <td>0.0</td>\n",
       "      <td>1.0</td>\n",
       "      <td>0.0</td>\n",
       "      <td>0.0</td>\n",
       "      <td>0.0</td>\n",
       "    </tr>\n",
       "    <tr>\n",
       "      <th>4</th>\n",
       "      <td>5</td>\n",
       "      <td>35</td>\n",
       "      <td>1</td>\n",
       "      <td>1</td>\n",
       "      <td>0</td>\n",
       "      <td>0</td>\n",
       "      <td>0</td>\n",
       "      <td>0</td>\n",
       "      <td>9.10</td>\n",
       "      <td>2.11</td>\n",
       "      <td>...</td>\n",
       "      <td>0.0</td>\n",
       "      <td>0.0</td>\n",
       "      <td>0.0</td>\n",
       "      <td>0.0</td>\n",
       "      <td>0.0</td>\n",
       "      <td>0.0</td>\n",
       "      <td>0.0</td>\n",
       "      <td>0.0</td>\n",
       "      <td>0.0</td>\n",
       "      <td>0.0</td>\n",
       "    </tr>\n",
       "    <tr>\n",
       "      <th>...</th>\n",
       "      <td>...</td>\n",
       "      <td>...</td>\n",
       "      <td>...</td>\n",
       "      <td>...</td>\n",
       "      <td>...</td>\n",
       "      <td>...</td>\n",
       "      <td>...</td>\n",
       "      <td>...</td>\n",
       "      <td>...</td>\n",
       "      <td>...</td>\n",
       "      <td>...</td>\n",
       "      <td>...</td>\n",
       "      <td>...</td>\n",
       "      <td>...</td>\n",
       "      <td>...</td>\n",
       "      <td>...</td>\n",
       "      <td>...</td>\n",
       "      <td>...</td>\n",
       "      <td>...</td>\n",
       "      <td>...</td>\n",
       "      <td>...</td>\n",
       "    </tr>\n",
       "    <tr>\n",
       "      <th>212686</th>\n",
       "      <td>212687</td>\n",
       "      <td>58</td>\n",
       "      <td>0</td>\n",
       "      <td>0</td>\n",
       "      <td>0</td>\n",
       "      <td>0</td>\n",
       "      <td>1</td>\n",
       "      <td>0</td>\n",
       "      <td>2.00</td>\n",
       "      <td>0.64</td>\n",
       "      <td>...</td>\n",
       "      <td>0.0</td>\n",
       "      <td>0.0</td>\n",
       "      <td>0.0</td>\n",
       "      <td>0.0</td>\n",
       "      <td>0.0</td>\n",
       "      <td>0.0</td>\n",
       "      <td>1.0</td>\n",
       "      <td>0.0</td>\n",
       "      <td>0.0</td>\n",
       "      <td>0.0</td>\n",
       "    </tr>\n",
       "    <tr>\n",
       "      <th>212687</th>\n",
       "      <td>212688</td>\n",
       "      <td>89</td>\n",
       "      <td>0</td>\n",
       "      <td>0</td>\n",
       "      <td>0</td>\n",
       "      <td>0</td>\n",
       "      <td>1</td>\n",
       "      <td>0</td>\n",
       "      <td>9.77</td>\n",
       "      <td>3.25</td>\n",
       "      <td>...</td>\n",
       "      <td>1.0</td>\n",
       "      <td>0.0</td>\n",
       "      <td>0.0</td>\n",
       "      <td>0.0</td>\n",
       "      <td>0.0</td>\n",
       "      <td>0.0</td>\n",
       "      <td>0.0</td>\n",
       "      <td>0.0</td>\n",
       "      <td>0.0</td>\n",
       "      <td>1.0</td>\n",
       "    </tr>\n",
       "    <tr>\n",
       "      <th>212688</th>\n",
       "      <td>212689</td>\n",
       "      <td>72</td>\n",
       "      <td>0</td>\n",
       "      <td>0</td>\n",
       "      <td>0</td>\n",
       "      <td>0</td>\n",
       "      <td>0</td>\n",
       "      <td>1</td>\n",
       "      <td>7.72</td>\n",
       "      <td>2.44</td>\n",
       "      <td>...</td>\n",
       "      <td>0.0</td>\n",
       "      <td>1.0</td>\n",
       "      <td>0.0</td>\n",
       "      <td>0.0</td>\n",
       "      <td>0.0</td>\n",
       "      <td>0.0</td>\n",
       "      <td>0.0</td>\n",
       "      <td>0.0</td>\n",
       "      <td>1.0</td>\n",
       "      <td>0.0</td>\n",
       "    </tr>\n",
       "    <tr>\n",
       "      <th>212689</th>\n",
       "      <td>212690</td>\n",
       "      <td>85</td>\n",
       "      <td>0</td>\n",
       "      <td>0</td>\n",
       "      <td>0</td>\n",
       "      <td>0</td>\n",
       "      <td>0</td>\n",
       "      <td>1</td>\n",
       "      <td>5.62</td>\n",
       "      <td>2.53</td>\n",
       "      <td>...</td>\n",
       "      <td>0.0</td>\n",
       "      <td>0.0</td>\n",
       "      <td>0.0</td>\n",
       "      <td>0.0</td>\n",
       "      <td>0.0</td>\n",
       "      <td>0.0</td>\n",
       "      <td>0.0</td>\n",
       "      <td>0.0</td>\n",
       "      <td>0.0</td>\n",
       "      <td>1.0</td>\n",
       "    </tr>\n",
       "    <tr>\n",
       "      <th>212690</th>\n",
       "      <td>212691</td>\n",
       "      <td>46</td>\n",
       "      <td>0</td>\n",
       "      <td>0</td>\n",
       "      <td>0</td>\n",
       "      <td>1</td>\n",
       "      <td>0</td>\n",
       "      <td>0</td>\n",
       "      <td>5.60</td>\n",
       "      <td>2.73</td>\n",
       "      <td>...</td>\n",
       "      <td>1.0</td>\n",
       "      <td>0.0</td>\n",
       "      <td>0.0</td>\n",
       "      <td>0.0</td>\n",
       "      <td>0.0</td>\n",
       "      <td>0.0</td>\n",
       "      <td>0.0</td>\n",
       "      <td>0.0</td>\n",
       "      <td>0.0</td>\n",
       "      <td>1.0</td>\n",
       "    </tr>\n",
       "  </tbody>\n",
       "</table>\n",
       "<p>212691 rows × 28 columns</p>\n",
       "</div>"
      ],
      "text/plain": [
       "        Patient_ID  Age  Family_History  Radiation_Exposure  \\\n",
       "0                1   66               0                   1   \n",
       "1                2   29               0                   1   \n",
       "2                3   86               0                   0   \n",
       "3                4   75               0                   0   \n",
       "4                5   35               1                   1   \n",
       "...            ...  ...             ...                 ...   \n",
       "212686      212687   58               0                   0   \n",
       "212687      212688   89               0                   0   \n",
       "212688      212689   72               0                   0   \n",
       "212689      212690   85               0                   0   \n",
       "212690      212691   46               0                   0   \n",
       "\n",
       "        Iodine_Deficiency  Smoking  Obesity  Diabetes  TSH_Level  T3_Level  \\\n",
       "0                       0        0        0         0       9.37      1.67   \n",
       "1                       0        0        0         0       1.83      1.73   \n",
       "2                       0        0        0         0       6.26      2.59   \n",
       "3                       0        0        0         0       4.10      2.62   \n",
       "4                       0        0        0         0       9.10      2.11   \n",
       "...                   ...      ...      ...       ...        ...       ...   \n",
       "212686                  0        0        1         0       2.00      0.64   \n",
       "212687                  0        0        1         0       9.77      3.25   \n",
       "212688                  0        0        0         1       7.72      2.44   \n",
       "212689                  0        0        0         1       5.62      2.53   \n",
       "212690                  0        1        0         0       5.60      2.73   \n",
       "\n",
       "        ...  Country_Japan  Country_Nigeria  Country_Russia  \\\n",
       "0       ...            0.0              0.0             1.0   \n",
       "1       ...            0.0              0.0             0.0   \n",
       "2       ...            0.0              1.0             0.0   \n",
       "3       ...            0.0              0.0             0.0   \n",
       "4       ...            0.0              0.0             0.0   \n",
       "...     ...            ...              ...             ...   \n",
       "212686  ...            0.0              0.0             0.0   \n",
       "212687  ...            1.0              0.0             0.0   \n",
       "212688  ...            0.0              1.0             0.0   \n",
       "212689  ...            0.0              0.0             0.0   \n",
       "212690  ...            1.0              0.0             0.0   \n",
       "\n",
       "        Country_South Korea  Country_UK  Country_USA  Ethnicity_Asian  \\\n",
       "0                       0.0         0.0          0.0              0.0   \n",
       "1                       0.0         0.0          0.0              0.0   \n",
       "2                       0.0         0.0          0.0              0.0   \n",
       "3                       0.0         0.0          0.0              1.0   \n",
       "4                       0.0         0.0          0.0              0.0   \n",
       "...                     ...         ...          ...              ...   \n",
       "212686                  0.0         0.0          0.0              1.0   \n",
       "212687                  0.0         0.0          0.0              0.0   \n",
       "212688                  0.0         0.0          0.0              0.0   \n",
       "212689                  0.0         0.0          0.0              0.0   \n",
       "212690                  0.0         0.0          0.0              0.0   \n",
       "\n",
       "        Ethnicity_Caucasian  Ethnicity_Hispanic  Ethnicity_Middle Eastern  \n",
       "0                       1.0                 0.0                       0.0  \n",
       "1                       0.0                 1.0                       0.0  \n",
       "2                       1.0                 0.0                       0.0  \n",
       "3                       0.0                 0.0                       0.0  \n",
       "4                       0.0                 0.0                       0.0  \n",
       "...                     ...                 ...                       ...  \n",
       "212686                  0.0                 0.0                       0.0  \n",
       "212687                  0.0                 0.0                       1.0  \n",
       "212688                  0.0                 1.0                       0.0  \n",
       "212689                  0.0                 0.0                       1.0  \n",
       "212690                  0.0                 0.0                       1.0  \n",
       "\n",
       "[212691 rows x 28 columns]"
      ]
     },
     "execution_count": 7,
     "metadata": {},
     "output_type": "execute_result"
    }
   ],
   "source": [
    "df"
   ]
  },
  {
   "cell_type": "markdown",
   "metadata": {},
   "source": [
    "## Train test & split"
   ]
  },
  {
   "cell_type": "code",
   "execution_count": 8,
   "metadata": {},
   "outputs": [],
   "source": [
    "from sklearn.model_selection import train_test_split\n",
    "from sklearn.model_selection import cross_val_score\n",
    "from sklearn.model_selection import GridSearchCV\n",
    "from sklearn.metrics import accuracy_score, roc_auc_score, classification_report, confusion_matrix\n",
    "import seaborn as sns\n",
    "import matplotlib.pyplot as plt\n",
    "\n",
    "df_resultats = pd.DataFrame()\n",
    "\n",
    "\n",
    "X = df.drop(columns='Diagnosis')\n",
    "y = df['Diagnosis']\n",
    "\n",
    "X_train, X_test, y_train, y_test = train_test_split(X, y, test_size=0.33, random_state=42)"
   ]
  },
  {
   "cell_type": "markdown",
   "metadata": {},
   "source": [
    "## Logistic regression"
   ]
  },
  {
   "cell_type": "code",
   "execution_count": null,
   "metadata": {},
   "outputs": [
    {
     "name": "stdout",
     "output_type": "stream",
     "text": [
      "Score des validations croisées [0.80681257 0.81282618 0.81367248 0.7929851  0.78607363]\n",
      "Score moyen : 0.8024739911957685\n"
     ]
    }
   ],
   "source": [
    "from sklearn.linear_model import LogisticRegression\n",
    "\n",
    "model = LogisticRegression(random_state=42, n_jobs=-1)\n",
    "\n",
    "score = cross_val_score(model, X, y, cv=5)\n",
    "print(f'Score des validations croisées {score}')\n",
    "print(f'Score moyen : {score.mean()}')\n",
    "\n",
    "df_resultats['val_score'] = score"
   ]
  },
  {
   "cell_type": "code",
   "execution_count": null,
   "metadata": {},
   "outputs": [
    {
     "name": "stdout",
     "output_type": "stream",
     "text": [
      "Fitting 5 folds for each of 15 candidates, totalling 75 fits\n",
      "Meilleurs paramètres : {'C': 10, 'max_iter': 500}\n",
      "Meilleur score AUC : 0.6968797089660674\n",
      "Meilleur estimateur : LogisticRegression(C=10, max_iter=500)\n"
     ]
    }
   ],
   "source": [
    "clf = GridSearchCV(cv=5, estimator=LogisticRegression(), param_grid={'max_iter' :[100,200,500], 'C' : [0.001, 0.01, 0.1, 1, 10]},scoring='roc_auc', verbose=1, n_jobs=-1)\n",
    "\n",
    "clf.fit(X_train, y_train)\n",
    "\n",
    "print(f'Meilleurs paramètres : {clf.best_params_}')\n",
    "print(f'Meilleur score AUC : {clf.best_score_}')\n",
    "print(f'Meilleur estimateur : {clf.best_estimator_}')"
   ]
  },
  {
   "cell_type": "code",
   "execution_count": 14,
   "metadata": {},
   "outputs": [
    {
     "name": "stdout",
     "output_type": "stream",
     "text": [
      "Accuracy : 0.8169371269002266\n",
      "AUC : 0.6959640813548553\n",
      "\n",
      "\n",
      "Classification report : \n",
      "              precision    recall  f1-score   support\n",
      "\n",
      "           0       0.84      0.95      0.89     53887\n",
      "           1       0.69      0.39      0.49     16302\n",
      "\n",
      "    accuracy                           0.82     70189\n",
      "   macro avg       0.76      0.67      0.69     70189\n",
      "weighted avg       0.80      0.82      0.80     70189\n",
      "\n",
      "Matrice de confusion\n"
     ]
    },
    {
     "data": {
      "image/png": "[encoded data removed]",
      "text/plain": [
       "<Figure size 640x480 with 2 Axes>"
      ]
     },
     "metadata": {},
     "output_type": "display_data"
    },
    {
     "name": "stdout",
     "output_type": "stream",
     "text": [
      "Matrice de confusion : \n",
      "[[51048  2839]\n",
      " [10010  6292]]\n"
     ]
    }
   ],
   "source": [
    "best_lr_model = clf.best_estimator_\n",
    "y_pred = best_lr_model.predict(X_test)\n",
    "y_proba = best_lr_model.predict_proba(X_test)[:,1]\n",
    "\n",
    "\n",
    "print(f'Accuracy : {accuracy_score(y_test, y_pred)}')\n",
    "\n",
    "print(f'AUC : {roc_auc_score(y_test, y_proba)}')\n",
    "\n",
    "print(f'\\n\\nClassification report : \\n{classification_report(y_test, y_pred)}')\n",
    "\n",
    "print(f'Matrice de confusion')\n",
    "\n",
    "\n",
    "confusion_matrix_graph = confusion_matrix(y_test, y_pred)\n",
    "sns.heatmap(confusion_matrix_graph, annot=True, fmt='d', cmap=\"Blues\")\n",
    "plt.xlabel(\"Prédictions\")\n",
    "plt.ylabel(\"Vraies valeurs\")\n",
    "plt.title(\"Matrice de confusion\")\n",
    "plt.show()\n",
    "print(f'Matrice de confusion : \\n{confusion_matrix(y_test, y_pred)}')"
   ]
  },
  {
   "cell_type": "markdown",
   "metadata": {},
   "source": [
    "## Polynomial regression"
   ]
  },
  {
   "cell_type": "code",
   "execution_count": 56,
   "metadata": {},
   "outputs": [
    {
     "name": "stdout",
     "output_type": "stream",
     "text": [
      "Score des validations croisées [0.70516824 0.70095786 0.70687719 0.70378947 0.70740351]\n",
      "Score moyen : 0.7048392552554328\n"
     ]
    }
   ],
   "source": [
    "from sklearn.preprocessing import PolynomialFeatures\n",
    "\n",
    "poly = PolynomialFeatures(degree=2)\n",
    "\n",
    "X_train_poly = poly.fit_transform(X_train)\n",
    "\n",
    "score = cross_val_score(model, X_train_poly, y_train, cv=5, n_jobs=-1)\n",
    "print(f'Score des validations croisées {score}')\n",
    "print(f'Score moyen : {score.mean()}')\n",
    "df_resultats['polynomial_features'] = score"
   ]
  },
  {
   "cell_type": "code",
   "execution_count": null,
   "metadata": {},
   "outputs": [
    {
     "name": "stdout",
     "output_type": "stream",
     "text": [
      "Fitting 5 folds for each of 15 candidates, totalling 75 fits\n",
      "Meilleurs paramètres : {'C': 1, 'max_iter': 500}\n",
      "Meilleur score AUC : 0.6851804028636301\n",
      "Meilleur estimateur : LogisticRegression(C=1, max_iter=500)\n"
     ]
    }
   ],
   "source": [
    "clf = GridSearchCV(cv=5, estimator=LogisticRegression(), param_grid={'max_iter' :[100,200,500], 'C' : [0.001, 0.01, 0.1, 1, 10]},scoring='roc_auc', verbose=1, n_jobs=-1)\n",
    "clf.fit(X_train_poly, y_train)\n",
    "\n",
    "print(f'Meilleurs paramètres : {clf.best_params_}')\n",
    "print(f'Meilleur score AUC : {clf.best_score_}')\n",
    "print(f'Meilleur estimateur : {clf.best_estimator_}')"
   ]
  },
  {
   "cell_type": "code",
   "execution_count": null,
   "metadata": {},
   "outputs": [
    {
     "name": "stdout",
     "output_type": "stream",
     "text": [
      "Accuracy : 0.7932582028522988\n",
      "AUC : 0.6838506477942022\n",
      "\n",
      "\n",
      "Classification report : \n",
      "              precision    recall  f1-score   support\n",
      "\n",
      "           0       0.80      0.97      0.88     53887\n",
      "           1       0.68      0.21      0.32     16302\n",
      "\n",
      "    accuracy                           0.79     70189\n",
      "   macro avg       0.74      0.59      0.60     70189\n",
      "weighted avg       0.77      0.79      0.75     70189\n",
      "\n",
      "Matrice de confusion : \n",
      "[[52242  1645]\n",
      " [12866  3436]]\n",
      "Matrice de confusion\n"
     ]
    },
    {
     "data": {
      "image/png": "[encoded data removed]",
      "text/plain": [
       "<Figure size 640x480 with 2 Axes>"
      ]
     },
     "metadata": {},
     "output_type": "display_data"
    }
   ],
   "source": [
    "model = clf.best_estimator_\n",
    "\n",
    "X_test_poly = poly.transform(X_test)\n",
    "\n",
    "y_pred = model.predict(X_test_poly)\n",
    "y_proba = model.predict_proba(X_test_poly)[:,1]\n",
    "\n",
    "\n",
    "print(f'Accuracy : {accuracy_score(y_test, y_pred)}')\n",
    "print(f'AUC : {roc_auc_score(y_test, y_proba)}')\n",
    "print(f'\\n\\nClassification report : \\n{classification_report(y_test, y_pred)}')\n",
    "print(f'Matrice de confusion : \\n{confusion_matrix(y_test, y_pred)}')\n",
    "\n",
    "print(f'Matrice de confusion')\n",
    "confusion_matrix_graph = confusion_matrix(y_test, y_pred)\n",
    "sns.heatmap(confusion_matrix_graph, annot=True, fmt='d', cmap=\"Blues\")\n",
    "plt.xlabel(\"Prédictions\")\n",
    "plt.ylabel(\"Vraies valeurs\")\n",
    "plt.title(\"Matrice de confusion\")\n",
    "plt.show()\n",
    "\n",
    "# print(f'Matrice de confusion : \\n{confusion_matrix(y_test, y_pred)}')"
   ]
  },
  {
   "cell_type": "markdown",
   "metadata": {},
   "source": [
    "## Random Forest regression"
   ]
  },
  {
   "cell_type": "code",
   "execution_count": 9,
   "metadata": {},
   "outputs": [
    {
     "name": "stdout",
     "output_type": "stream",
     "text": [
      "Score des validations croisées [0.23293919 0.82693121 0.82584983 0.82695472 0.28315859]\n",
      "Score moyen : 0.5991667077004785\n"
     ]
    }
   ],
   "source": [
    "from sklearn.ensemble import RandomForestClassifier\n",
    "\n",
    "model = RandomForestClassifier(random_state=42, n_estimators=100, class_weight='balanced', n_jobs=-1)\n",
    "score = cross_val_score(model, X, y, cv=5)\n",
    "\n",
    "print(f'Score des validations croisées {score}')\n",
    "print(f'Score moyen : {score.mean()}')\n",
    "\n",
    "df_resultats['random_forest_score'] = score"
   ]
  },
  {
   "cell_type": "code",
   "execution_count": 10,
   "metadata": {},
   "outputs": [
    {
     "name": "stdout",
     "output_type": "stream",
     "text": [
      "Fitting 5 folds for each of 72 candidates, totalling 360 fits\n",
      "Meilleurs paramètres : {'max_depth': 10, 'max_features': 'sqrt', 'min_samples_split': 10, 'n_estimators': 500}\n",
      "Meilleur score AUC : 0.6981914734825724\n",
      "Meilleur estimateur : RandomForestClassifier(class_weight='balanced', max_depth=10,\n",
      "                       min_samples_split=10, n_estimators=500, random_state=42)\n"
     ]
    }
   ],
   "source": [
    "param_grid = {\n",
    "    'n_estimators': [50, 100, 200, 500],\n",
    "    'max_depth': [10, 20, None],\n",
    "    'min_samples_split': [2, 5, 10],\n",
    "    'max_features': ['sqrt', 'log2'],\n",
    "    }\n",
    "\n",
    "clf = GridSearchCV(RandomForestClassifier(random_state=42, class_weight='balanced'), param_grid, cv=5, scoring='roc_auc', verbose=1, n_jobs=-1)\n",
    "# clf = GridSearchCV(RandomForestClassifier(random_state=42), param_grid, cv=5, scoring='r2', verbose=1, n_jobs=-1)\n",
    "clf.fit(X, y)\n",
    "print(f'Meilleurs paramètres : {clf.best_params_}')\n",
    "print(f'Meilleur score AUC : {clf.best_score_}')\n",
    "print(f'Meilleur estimateur : {clf.best_estimator_}')"
   ]
  },
  {
   "cell_type": "code",
   "execution_count": 12,
   "metadata": {},
   "outputs": [
    {
     "name": "stdout",
     "output_type": "stream",
     "text": [
      "Accuracy : 0.8260838592941914\n",
      "AUC : 0.6947597397505734\n",
      "\n",
      "\n",
      "Classification report : \n",
      "              precision    recall  f1-score   support\n",
      "\n",
      "           0       0.85      0.94      0.89     53887\n",
      "           1       0.69      0.45      0.55     16302\n",
      "\n",
      "    accuracy                           0.83     70189\n",
      "   macro avg       0.77      0.69      0.72     70189\n",
      "weighted avg       0.81      0.83      0.81     70189\n",
      "\n",
      "Matrice de confusion : \n",
      "[[50654  3233]\n",
      " [ 8974  7328]]\n",
      "Matrice de confusion\n"
     ]
    },
    {
     "data": {
      "image/png": "[encoded data removed]",
      "text/plain": [
       "<Figure size 640x480 with 2 Axes>"
      ]
     },
     "metadata": {},
     "output_type": "display_data"
    }
   ],
   "source": [
    "model = clf.best_estimator_\n",
    "\n",
    "y_pred = model.predict(X_test)\n",
    "\n",
    "print(f'Accuracy : {accuracy_score(y_test, y_pred)}')\n",
    "print(f'AUC : {roc_auc_score(y_test, y_pred)}')\n",
    "print(f'\\n\\nClassification report : \\n{classification_report(y_test, y_pred)}')\n",
    "print(f'Matrice de confusion : \\n{confusion_matrix(y_test, y_pred)}')\n",
    "\n",
    "print(f'Matrice de confusion')\n",
    "confusion_matrix_graph = confusion_matrix(y_test, y_pred)\n",
    "sns.heatmap(confusion_matrix_graph, annot=True, fmt='d', cmap=\"Blues\")\n",
    "plt.xlabel(\"Prédictions\")\n",
    "plt.ylabel(\"Vraies valeurs\")\n",
    "plt.title(\"Matrice de confusion\")\n",
    "plt.show()"
   ]
  },
  {
   "cell_type": "markdown",
   "metadata": {},
   "source": [
    "## KNN"
   ]
  },
  {
   "cell_type": "code",
   "execution_count": null,
   "metadata": {},
   "outputs": [
    {
     "name": "stdout",
     "output_type": "stream",
     "text": [
      "Score des validations croisées [0.80091927 0.80232273 0.80263158 0.80122807 0.80438596]\n",
      "Score moyen : 0.8022975211088316\n"
     ]
    }
   ],
   "source": [
    "from sklearn.neighbors import KNeighborsClassifier\n",
    "from sklearn.preprocessing import StandardScaler\n",
    "from sklearn.pipeline import Pipeline\n",
    "\n",
    "scaler = StandardScaler()\n",
    "X_train_scaled = scaler.fit_transform(X_train)\n",
    "X_test_scaled = scaler.transform(X_test)\n",
    "\n",
    "\n",
    "model = KNeighborsClassifier(n_jobs=-1)\n",
    "\n",
    "score = cross_val_score(model, X_train_scaled, y_train, cv=5)\n",
    "print(f'Score des validations croisées {score}')\n",
    "print(f'Score moyen : {score.mean()}')\n",
    "\n",
    "df_resultats['knn'] = score"
   ]
  },
  {
   "cell_type": "code",
   "execution_count": null,
   "metadata": {},
   "outputs": [
    {
     "name": "stdout",
     "output_type": "stream",
     "text": [
      "Fitting 5 folds for each of 60 candidates, totalling 300 fits\n",
      "Meilleurs paramètres : {'knn__metric': 'euclidean', 'knn__n_neighbors': 25, 'knn__weights': 'uniform'}\n",
      "Meilleur score AUC : 0.6962005054458045\n",
      "Meilleur estimateur : Pipeline(steps=[('scaler', StandardScaler()),\n",
      "                ('knn',\n",
      "                 KNeighborsClassifier(metric='euclidean', n_neighbors=25))])\n"
     ]
    }
   ],
   "source": [
    "pipeline = Pipeline([\n",
    "    ('scaler', StandardScaler()),\n",
    "    ('knn', KNeighborsClassifier())\n",
    "])\n",
    "\n",
    "param_grid = {\n",
    "    'knn__n_neighbors': range(5, 51, 5),\n",
    "    'knn__weights': ['uniform', 'distance'],\n",
    "    'knn__metric': ['euclidean', 'manhattan', 'minkowski'] \n",
    "}\n",
    "\n",
    "clf = GridSearchCV(pipeline, param_grid, cv=5, scoring='roc_auc', verbose=1, n_jobs=-1)\n",
    "clf.fit(X_train, y_train)\n",
    "\n",
    "print(f'Meilleurs paramètres : {clf.best_params_}')\n",
    "print(f'Meilleur score AUC : {clf.best_score_}')\n",
    "print(f'Meilleur estimateur : {clf.best_estimator_}')"
   ]
  },
  {
   "cell_type": "code",
   "execution_count": 29,
   "metadata": {},
   "outputs": [
    {
     "name": "stdout",
     "output_type": "stream",
     "text": [
      "Accuracy : 0.7676559004972289\n",
      "AUC : 0.5033923548861728\n",
      "\n",
      "\n",
      "Classification report : \n",
      "              precision    recall  f1-score   support\n",
      "\n",
      "           0       0.77      1.00      0.87     53887\n",
      "           1       0.38      0.00      0.00     16302\n",
      "\n",
      "    accuracy                           0.77     70189\n",
      "   macro avg       0.57      0.50      0.43     70189\n",
      "weighted avg       0.68      0.77      0.67     70189\n",
      "\n",
      "Matrice de confusion : \n",
      "[[53872    15]\n",
      " [16293     9]]\n",
      "Matrice de confusion\n"
     ]
    },
    {
     "data": {
      "image/png": "[encoded data removed]",
      "text/plain": [
       "<Figure size 640x480 with 2 Axes>"
      ]
     },
     "metadata": {},
     "output_type": "display_data"
    }
   ],
   "source": [
    "model = clf.best_estimator_\n",
    "\n",
    "y_pred = model.predict(X_test)\n",
    "y_proba = model.predict_proba(X_test)[:,1]\n",
    "\n",
    "print(f'Accuracy : {accuracy_score(y_test, y_pred)}')\n",
    "print(f'AUC : {roc_auc_score(y_test, y_proba)}')\n",
    "print(f'\\n\\nClassification report : \\n{classification_report(y_test, y_pred)}')\n",
    "print(f'Matrice de confusion : \\n{confusion_matrix(y_test, y_pred)}')\n",
    "\n",
    "print(f'Matrice de confusion')\n",
    "confusion_matrix_graph = confusion_matrix(y_test, y_pred)\n",
    "sns.heatmap(confusion_matrix_graph, annot=True, fmt='d', cmap=\"Blues\")\n",
    "plt.xlabel(\"Prédictions\")\n",
    "plt.ylabel(\"Vraies valeurs\")\n",
    "plt.title(\"Matrice de confusion\")\n",
    "plt.show()\n",
    "\n",
    "# print(f'Matrice de confusion : \\n{confusion_matrix(y_test, y_pred)}')"
   ]
  },
  {
   "cell_type": "markdown",
   "metadata": {},
   "source": [
    "## Decision Tree"
   ]
  },
  {
   "cell_type": "code",
   "execution_count": 70,
   "metadata": {},
   "outputs": [
    {
     "name": "stdout",
     "output_type": "stream",
     "text": [
      "Score des validations croisées [0.23270411 0.79270299 0.70760261 0.70849593 0.23270958]\n",
      "Score moyen : 0.534843045257855\n"
     ]
    }
   ],
   "source": [
    "from sklearn.tree import DecisionTreeClassifier\n",
    "\n",
    "model = DecisionTreeClassifier(random_state=42)\n",
    "\n",
    "score = cross_val_score(model, X, y, cv=5)\n",
    "print(f'Score des validations croisées {score}')\n",
    "print(f'Score moyen : {score.mean()}')\n",
    "\n",
    "df_resultats['decision_tree'] = score"
   ]
  },
  {
   "cell_type": "code",
   "execution_count": 71,
   "metadata": {},
   "outputs": [
    {
     "name": "stdout",
     "output_type": "stream",
     "text": [
      "Fitting 5 folds for each of 20 candidates, totalling 100 fits\n",
      "Meilleurs paramètres : {'criterion': 'entropy', 'max_depth': 4}\n",
      "Meilleur score AUC : 0.6995812391350835\n",
      "Meilleur estimateur : DecisionTreeClassifier(criterion='entropy', max_depth=4)\n"
     ]
    }
   ],
   "source": [
    "clf = GridSearchCV(cv=5, estimator=DecisionTreeClassifier(), param_grid={'max_depth' :[1,2,3,4,5,6,7,8,9,10], 'criterion' : ['gini', 'entropy']},scoring='roc_auc', verbose=1, n_jobs=-1)\n",
    "clf.fit(X_train, y_train)\n",
    "\n",
    "print(f'Meilleurs paramètres : {clf.best_params_}')\n",
    "print(f'Meilleur score AUC : {clf.best_score_}')\n",
    "print(f'Meilleur estimateur : {clf.best_estimator_}')"
   ]
  },
  {
   "cell_type": "code",
   "execution_count": 73,
   "metadata": {},
   "outputs": [
    {
     "name": "stdout",
     "output_type": "stream",
     "text": [
      "Accuracy : 0.8260838592941914\n",
      "AUC : 0.6947597397505734\n",
      "\n",
      "\n",
      "Classification report : \n",
      "              precision    recall  f1-score   support\n",
      "\n",
      "           0       0.85      0.94      0.89     53887\n",
      "           1       0.69      0.45      0.55     16302\n",
      "\n",
      "    accuracy                           0.83     70189\n",
      "   macro avg       0.77      0.69      0.72     70189\n",
      "weighted avg       0.81      0.83      0.81     70189\n",
      "\n",
      "Matrice de confusion : \n",
      "[[50654  3233]\n",
      " [ 8974  7328]]\n",
      "Matrice de confusion\n"
     ]
    },
    {
     "data": {
      "image/png": "[encoded data removed]",
      "text/plain": [
       "<Figure size 640x480 with 2 Axes>"
      ]
     },
     "metadata": {},
     "output_type": "display_data"
    }
   ],
   "source": [
    "model = clf.best_estimator_\n",
    "\n",
    "y_pred = model.predict(X_test)\n",
    "\n",
    "print(f'Accuracy : {accuracy_score(y_test, y_pred)}')\n",
    "print(f'AUC : {roc_auc_score(y_test, y_pred)}')\n",
    "print(f'\\n\\nClassification report : \\n{classification_report(y_test, y_pred)}')\n",
    "print(f'Matrice de confusion : \\n{confusion_matrix(y_test, y_pred)}')\n",
    "\n",
    "print(f'Matrice de confusion')\n",
    "\n",
    "confusion_matrix_graph = confusion_matrix(y_test, y_pred)\n",
    "\n",
    "sns.heatmap(confusion_matrix_graph, annot=True, fmt='d', cmap=\"Blues\")\n",
    "plt.xlabel(\"Prédictions\")\n",
    "plt.ylabel(\"Vraies valeurs\")\n",
    "plt.title(\"Matrice de confusion\")\n",
    "plt.show()"
   ]
  }
 ],
 "metadata": {
  "kernelspec": {
   "display_name": "ml_cancer_venv",
   "language": "python",
   "name": "python3"
  },
  "language_info": {
   "codemirror_mode": {
    "name": "ipython",
    "version": 3
   },
   "file_extension": ".py",
   "mimetype": "text/x-python",
   "name": "python",
   "nbconvert_exporter": "python",
   "pygments_lexer": "ipython3",
   "version": "3.12.9"
  }
 },
 "nbformat": 4,
 "nbformat_minor": 2
}
