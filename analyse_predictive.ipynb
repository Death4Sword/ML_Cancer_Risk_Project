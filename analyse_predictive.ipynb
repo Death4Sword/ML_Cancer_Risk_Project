{
 "cells": [
  {
   "cell_type": "code",
   "execution_count": 105,
   "metadata": {},
   "outputs": [],
   "source": [
    "import pandas as pd\n",
    "from sklearn.cluster import KMeans\n",
    "from sklearn.neighbors import KNeighborsClassifier\n",
    "from sklearn.ensemble import RandomForestClassifier\n",
    "import xgboost as xgb\n",
    "import joblib\n",
    "import warnings\n",
    "from imblearn.over_sampling import SMOTE\n",
    "import lightgbm as lgb\n",
    "from sklearn.preprocessing import OrdinalEncoder, OneHotEncoder"
   ]
  },
  {
   "cell_type": "code",
   "execution_count": 54,
   "metadata": {},
   "outputs": [],
   "source": [
    "warnings.simplefilter('ignore')\n"
   ]
  },
  {
   "cell_type": "code",
   "execution_count": 55,
   "metadata": {},
   "outputs": [
    {
     "data": {
      "text/html": [
       "<div>\n",
       "<style scoped>\n",
       "    .dataframe tbody tr th:only-of-type {\n",
       "        vertical-align: middle;\n",
       "    }\n",
       "\n",
       "    .dataframe tbody tr th {\n",
       "        vertical-align: top;\n",
       "    }\n",
       "\n",
       "    .dataframe thead th {\n",
       "        text-align: right;\n",
       "    }\n",
       "</style>\n",
       "<table border=\"1\" class=\"dataframe\">\n",
       "  <thead>\n",
       "    <tr style=\"text-align: right;\">\n",
       "      <th></th>\n",
       "      <th>Gender</th>\n",
       "      <th>Family_History</th>\n",
       "      <th>Radiation_Exposure</th>\n",
       "      <th>Iodine_Deficiency</th>\n",
       "      <th>Smoking</th>\n",
       "      <th>Obesity</th>\n",
       "      <th>Diabetes</th>\n",
       "      <th>TSH_Level</th>\n",
       "      <th>T3_Level</th>\n",
       "      <th>T4_Level</th>\n",
       "      <th>Nodule_Size</th>\n",
       "      <th>Thyroid_Cancer_Risk</th>\n",
       "      <th>Diagnosis</th>\n",
       "    </tr>\n",
       "  </thead>\n",
       "  <tbody>\n",
       "    <tr>\n",
       "      <th>0</th>\n",
       "      <td>Male</td>\n",
       "      <td>No</td>\n",
       "      <td>Yes</td>\n",
       "      <td>No</td>\n",
       "      <td>No</td>\n",
       "      <td>No</td>\n",
       "      <td>No</td>\n",
       "      <td>9.37</td>\n",
       "      <td>1.67</td>\n",
       "      <td>6.16</td>\n",
       "      <td>1.08</td>\n",
       "      <td>Low</td>\n",
       "      <td>Benign</td>\n",
       "    </tr>\n",
       "    <tr>\n",
       "      <th>1</th>\n",
       "      <td>Male</td>\n",
       "      <td>No</td>\n",
       "      <td>Yes</td>\n",
       "      <td>No</td>\n",
       "      <td>No</td>\n",
       "      <td>No</td>\n",
       "      <td>No</td>\n",
       "      <td>1.83</td>\n",
       "      <td>1.73</td>\n",
       "      <td>10.54</td>\n",
       "      <td>4.05</td>\n",
       "      <td>Low</td>\n",
       "      <td>Benign</td>\n",
       "    </tr>\n",
       "    <tr>\n",
       "      <th>2</th>\n",
       "      <td>Male</td>\n",
       "      <td>No</td>\n",
       "      <td>No</td>\n",
       "      <td>No</td>\n",
       "      <td>No</td>\n",
       "      <td>No</td>\n",
       "      <td>No</td>\n",
       "      <td>6.26</td>\n",
       "      <td>2.59</td>\n",
       "      <td>10.57</td>\n",
       "      <td>4.61</td>\n",
       "      <td>Low</td>\n",
       "      <td>Benign</td>\n",
       "    </tr>\n",
       "    <tr>\n",
       "      <th>3</th>\n",
       "      <td>Female</td>\n",
       "      <td>No</td>\n",
       "      <td>No</td>\n",
       "      <td>No</td>\n",
       "      <td>No</td>\n",
       "      <td>No</td>\n",
       "      <td>No</td>\n",
       "      <td>4.10</td>\n",
       "      <td>2.62</td>\n",
       "      <td>11.04</td>\n",
       "      <td>2.46</td>\n",
       "      <td>Medium</td>\n",
       "      <td>Benign</td>\n",
       "    </tr>\n",
       "    <tr>\n",
       "      <th>4</th>\n",
       "      <td>Female</td>\n",
       "      <td>Yes</td>\n",
       "      <td>Yes</td>\n",
       "      <td>No</td>\n",
       "      <td>No</td>\n",
       "      <td>No</td>\n",
       "      <td>No</td>\n",
       "      <td>9.10</td>\n",
       "      <td>2.11</td>\n",
       "      <td>10.71</td>\n",
       "      <td>2.11</td>\n",
       "      <td>High</td>\n",
       "      <td>Benign</td>\n",
       "    </tr>\n",
       "  </tbody>\n",
       "</table>\n",
       "</div>"
      ],
      "text/plain": [
       "   Gender Family_History Radiation_Exposure Iodine_Deficiency Smoking Obesity  \\\n",
       "0    Male             No                Yes                No      No      No   \n",
       "1    Male             No                Yes                No      No      No   \n",
       "2    Male             No                 No                No      No      No   \n",
       "3  Female             No                 No                No      No      No   \n",
       "4  Female            Yes                Yes                No      No      No   \n",
       "\n",
       "  Diabetes  TSH_Level  T3_Level  T4_Level  Nodule_Size Thyroid_Cancer_Risk  \\\n",
       "0       No       9.37      1.67      6.16         1.08                 Low   \n",
       "1       No       1.83      1.73     10.54         4.05                 Low   \n",
       "2       No       6.26      2.59     10.57         4.61                 Low   \n",
       "3       No       4.10      2.62     11.04         2.46              Medium   \n",
       "4       No       9.10      2.11     10.71         2.11                High   \n",
       "\n",
       "  Diagnosis  \n",
       "0    Benign  \n",
       "1    Benign  \n",
       "2    Benign  \n",
       "3    Benign  \n",
       "4    Benign  "
      ]
     },
     "execution_count": 55,
     "metadata": {},
     "output_type": "execute_result"
    }
   ],
   "source": [
    "df = pd.read_csv('thyroid_cancer_risk_data.csv')\n",
    "df.drop(columns=['Patient_ID', 'Age', 'Country', 'Ethnicity'], axis=1, inplace=True)\n",
    "df.head()"
   ]
  },
  {
   "cell_type": "code",
   "execution_count": 56,
   "metadata": {},
   "outputs": [],
   "source": [
    "ohe_encoding = OneHotEncoder(sparse_output=False)\n",
    "encoded_cols = [\"Gender\"]\n",
    "df_ohe_encoding = pd.DataFrame(ohe_encoding.fit_transform(df[encoded_cols]), columns=ohe_encoding.get_feature_names_out(encoded_cols))"
   ]
  },
  {
   "cell_type": "code",
   "execution_count": 57,
   "metadata": {},
   "outputs": [],
   "source": [
    "ord_encoding = OrdinalEncoder(categories=[['Low', 'Medium', 'High']])\n",
    "df['Thyroid_Cancer_Risk'] = ord_encoding.fit_transform(df[['Thyroid_Cancer_Risk']])\n",
    "\n",
    "df = df.drop(columns=encoded_cols).join(df_ohe_encoding)\n",
    "\n",
    "df['Diagnosis'] = df['Diagnosis'].map({'Benign' : 0, 'Malignant' : 1})"
   ]
  },
  {
   "cell_type": "code",
   "execution_count": 58,
   "metadata": {},
   "outputs": [],
   "source": [
    "binary_cols = ['Family_History', 'Radiation_Exposure', 'Iodine_Deficiency', 'Smoking', 'Obesity', 'Diabetes']\n",
    "df[binary_cols] = df[binary_cols].replace({'Yes' : 1, 'No' : 0}).astype(int)"
   ]
  },
  {
   "cell_type": "code",
   "execution_count": 59,
   "metadata": {},
   "outputs": [
    {
     "data": {
      "text/html": [
       "<div>\n",
       "<style scoped>\n",
       "    .dataframe tbody tr th:only-of-type {\n",
       "        vertical-align: middle;\n",
       "    }\n",
       "\n",
       "    .dataframe tbody tr th {\n",
       "        vertical-align: top;\n",
       "    }\n",
       "\n",
       "    .dataframe thead th {\n",
       "        text-align: right;\n",
       "    }\n",
       "</style>\n",
       "<table border=\"1\" class=\"dataframe\">\n",
       "  <thead>\n",
       "    <tr style=\"text-align: right;\">\n",
       "      <th></th>\n",
       "      <th>Family_History</th>\n",
       "      <th>Radiation_Exposure</th>\n",
       "      <th>Iodine_Deficiency</th>\n",
       "      <th>Smoking</th>\n",
       "      <th>Obesity</th>\n",
       "      <th>Diabetes</th>\n",
       "      <th>TSH_Level</th>\n",
       "      <th>T3_Level</th>\n",
       "      <th>T4_Level</th>\n",
       "      <th>Nodule_Size</th>\n",
       "      <th>Thyroid_Cancer_Risk</th>\n",
       "      <th>Diagnosis</th>\n",
       "      <th>Gender_Female</th>\n",
       "      <th>Gender_Male</th>\n",
       "    </tr>\n",
       "  </thead>\n",
       "  <tbody>\n",
       "    <tr>\n",
       "      <th>0</th>\n",
       "      <td>0</td>\n",
       "      <td>1</td>\n",
       "      <td>0</td>\n",
       "      <td>0</td>\n",
       "      <td>0</td>\n",
       "      <td>0</td>\n",
       "      <td>9.37</td>\n",
       "      <td>1.67</td>\n",
       "      <td>6.16</td>\n",
       "      <td>1.08</td>\n",
       "      <td>0.0</td>\n",
       "      <td>0</td>\n",
       "      <td>0.0</td>\n",
       "      <td>1.0</td>\n",
       "    </tr>\n",
       "    <tr>\n",
       "      <th>1</th>\n",
       "      <td>0</td>\n",
       "      <td>1</td>\n",
       "      <td>0</td>\n",
       "      <td>0</td>\n",
       "      <td>0</td>\n",
       "      <td>0</td>\n",
       "      <td>1.83</td>\n",
       "      <td>1.73</td>\n",
       "      <td>10.54</td>\n",
       "      <td>4.05</td>\n",
       "      <td>0.0</td>\n",
       "      <td>0</td>\n",
       "      <td>0.0</td>\n",
       "      <td>1.0</td>\n",
       "    </tr>\n",
       "    <tr>\n",
       "      <th>2</th>\n",
       "      <td>0</td>\n",
       "      <td>0</td>\n",
       "      <td>0</td>\n",
       "      <td>0</td>\n",
       "      <td>0</td>\n",
       "      <td>0</td>\n",
       "      <td>6.26</td>\n",
       "      <td>2.59</td>\n",
       "      <td>10.57</td>\n",
       "      <td>4.61</td>\n",
       "      <td>0.0</td>\n",
       "      <td>0</td>\n",
       "      <td>0.0</td>\n",
       "      <td>1.0</td>\n",
       "    </tr>\n",
       "    <tr>\n",
       "      <th>3</th>\n",
       "      <td>0</td>\n",
       "      <td>0</td>\n",
       "      <td>0</td>\n",
       "      <td>0</td>\n",
       "      <td>0</td>\n",
       "      <td>0</td>\n",
       "      <td>4.10</td>\n",
       "      <td>2.62</td>\n",
       "      <td>11.04</td>\n",
       "      <td>2.46</td>\n",
       "      <td>1.0</td>\n",
       "      <td>0</td>\n",
       "      <td>1.0</td>\n",
       "      <td>0.0</td>\n",
       "    </tr>\n",
       "    <tr>\n",
       "      <th>4</th>\n",
       "      <td>1</td>\n",
       "      <td>1</td>\n",
       "      <td>0</td>\n",
       "      <td>0</td>\n",
       "      <td>0</td>\n",
       "      <td>0</td>\n",
       "      <td>9.10</td>\n",
       "      <td>2.11</td>\n",
       "      <td>10.71</td>\n",
       "      <td>2.11</td>\n",
       "      <td>2.0</td>\n",
       "      <td>0</td>\n",
       "      <td>1.0</td>\n",
       "      <td>0.0</td>\n",
       "    </tr>\n",
       "    <tr>\n",
       "      <th>...</th>\n",
       "      <td>...</td>\n",
       "      <td>...</td>\n",
       "      <td>...</td>\n",
       "      <td>...</td>\n",
       "      <td>...</td>\n",
       "      <td>...</td>\n",
       "      <td>...</td>\n",
       "      <td>...</td>\n",
       "      <td>...</td>\n",
       "      <td>...</td>\n",
       "      <td>...</td>\n",
       "      <td>...</td>\n",
       "      <td>...</td>\n",
       "      <td>...</td>\n",
       "    </tr>\n",
       "    <tr>\n",
       "      <th>212686</th>\n",
       "      <td>0</td>\n",
       "      <td>0</td>\n",
       "      <td>0</td>\n",
       "      <td>0</td>\n",
       "      <td>1</td>\n",
       "      <td>0</td>\n",
       "      <td>2.00</td>\n",
       "      <td>0.64</td>\n",
       "      <td>11.92</td>\n",
       "      <td>1.48</td>\n",
       "      <td>0.0</td>\n",
       "      <td>0</td>\n",
       "      <td>1.0</td>\n",
       "      <td>0.0</td>\n",
       "    </tr>\n",
       "    <tr>\n",
       "      <th>212687</th>\n",
       "      <td>0</td>\n",
       "      <td>0</td>\n",
       "      <td>0</td>\n",
       "      <td>0</td>\n",
       "      <td>1</td>\n",
       "      <td>0</td>\n",
       "      <td>9.77</td>\n",
       "      <td>3.25</td>\n",
       "      <td>7.30</td>\n",
       "      <td>4.46</td>\n",
       "      <td>1.0</td>\n",
       "      <td>0</td>\n",
       "      <td>0.0</td>\n",
       "      <td>1.0</td>\n",
       "    </tr>\n",
       "    <tr>\n",
       "      <th>212688</th>\n",
       "      <td>0</td>\n",
       "      <td>0</td>\n",
       "      <td>0</td>\n",
       "      <td>0</td>\n",
       "      <td>0</td>\n",
       "      <td>1</td>\n",
       "      <td>7.72</td>\n",
       "      <td>2.44</td>\n",
       "      <td>8.71</td>\n",
       "      <td>2.36</td>\n",
       "      <td>1.0</td>\n",
       "      <td>0</td>\n",
       "      <td>1.0</td>\n",
       "      <td>0.0</td>\n",
       "    </tr>\n",
       "    <tr>\n",
       "      <th>212689</th>\n",
       "      <td>0</td>\n",
       "      <td>0</td>\n",
       "      <td>0</td>\n",
       "      <td>0</td>\n",
       "      <td>0</td>\n",
       "      <td>1</td>\n",
       "      <td>5.62</td>\n",
       "      <td>2.53</td>\n",
       "      <td>9.62</td>\n",
       "      <td>1.54</td>\n",
       "      <td>1.0</td>\n",
       "      <td>0</td>\n",
       "      <td>1.0</td>\n",
       "      <td>0.0</td>\n",
       "    </tr>\n",
       "    <tr>\n",
       "      <th>212690</th>\n",
       "      <td>0</td>\n",
       "      <td>0</td>\n",
       "      <td>0</td>\n",
       "      <td>1</td>\n",
       "      <td>0</td>\n",
       "      <td>0</td>\n",
       "      <td>5.60</td>\n",
       "      <td>2.73</td>\n",
       "      <td>10.59</td>\n",
       "      <td>2.53</td>\n",
       "      <td>0.0</td>\n",
       "      <td>1</td>\n",
       "      <td>1.0</td>\n",
       "      <td>0.0</td>\n",
       "    </tr>\n",
       "  </tbody>\n",
       "</table>\n",
       "<p>212691 rows × 14 columns</p>\n",
       "</div>"
      ],
      "text/plain": [
       "        Family_History  Radiation_Exposure  Iodine_Deficiency  Smoking  \\\n",
       "0                    0                   1                  0        0   \n",
       "1                    0                   1                  0        0   \n",
       "2                    0                   0                  0        0   \n",
       "3                    0                   0                  0        0   \n",
       "4                    1                   1                  0        0   \n",
       "...                ...                 ...                ...      ...   \n",
       "212686               0                   0                  0        0   \n",
       "212687               0                   0                  0        0   \n",
       "212688               0                   0                  0        0   \n",
       "212689               0                   0                  0        0   \n",
       "212690               0                   0                  0        1   \n",
       "\n",
       "        Obesity  Diabetes  TSH_Level  T3_Level  T4_Level  Nodule_Size  \\\n",
       "0             0         0       9.37      1.67      6.16         1.08   \n",
       "1             0         0       1.83      1.73     10.54         4.05   \n",
       "2             0         0       6.26      2.59     10.57         4.61   \n",
       "3             0         0       4.10      2.62     11.04         2.46   \n",
       "4             0         0       9.10      2.11     10.71         2.11   \n",
       "...         ...       ...        ...       ...       ...          ...   \n",
       "212686        1         0       2.00      0.64     11.92         1.48   \n",
       "212687        1         0       9.77      3.25      7.30         4.46   \n",
       "212688        0         1       7.72      2.44      8.71         2.36   \n",
       "212689        0         1       5.62      2.53      9.62         1.54   \n",
       "212690        0         0       5.60      2.73     10.59         2.53   \n",
       "\n",
       "        Thyroid_Cancer_Risk  Diagnosis  Gender_Female  Gender_Male  \n",
       "0                       0.0          0            0.0          1.0  \n",
       "1                       0.0          0            0.0          1.0  \n",
       "2                       0.0          0            0.0          1.0  \n",
       "3                       1.0          0            1.0          0.0  \n",
       "4                       2.0          0            1.0          0.0  \n",
       "...                     ...        ...            ...          ...  \n",
       "212686                  0.0          0            1.0          0.0  \n",
       "212687                  1.0          0            0.0          1.0  \n",
       "212688                  1.0          0            1.0          0.0  \n",
       "212689                  1.0          0            1.0          0.0  \n",
       "212690                  0.0          1            1.0          0.0  \n",
       "\n",
       "[212691 rows x 14 columns]"
      ]
     },
     "execution_count": 59,
     "metadata": {},
     "output_type": "execute_result"
    }
   ],
   "source": [
    "df"
   ]
  },
  {
   "cell_type": "markdown",
   "metadata": {},
   "source": [
    "## Train test & split"
   ]
  },
  {
   "cell_type": "code",
   "execution_count": 60,
   "metadata": {},
   "outputs": [],
   "source": [
    "from sklearn.model_selection import train_test_split\n",
    "from sklearn.model_selection import cross_val_score\n",
    "from sklearn.model_selection import GridSearchCV\n",
    "from sklearn.metrics import accuracy_score, roc_auc_score, classification_report, confusion_matrix, roc_curve\n",
    "import seaborn as sns\n",
    "import matplotlib.pyplot as plt\n",
    "\n",
    "df_resultats = pd.DataFrame()\n",
    "\n",
    "\n",
    "X = df.drop(columns='Diagnosis')\n",
    "y = df['Diagnosis']\n",
    "\n",
    "X_train, X_test, y_train, y_test = train_test_split(X, y, test_size=0.33, random_state=42)"
   ]
  },
  {
   "cell_type": "markdown",
   "metadata": {},
   "source": [
    "## train test split smote "
   ]
  },
  {
   "cell_type": "code",
   "execution_count": null,
   "metadata": {},
   "outputs": [],
   "source": [
    "smote = SMOTE(sampling_strategy=\"auto\", random_state=42)\n",
    "\n",
    "X_train, X_test, y_train, y_test = train_test_split(X, y, test_size=0.33, random_state=42)\n",
    "X_resampled, y_resampled = smote.fit_resample(X_train, y_train)"
   ]
  },
  {
   "cell_type": "markdown",
   "metadata": {},
   "source": [
    "### test logistic classification"
   ]
  },
  {
   "cell_type": "code",
   "execution_count": null,
   "metadata": {},
   "outputs": [],
   "source": []
  },
  {
   "cell_type": "code",
   "execution_count": null,
   "metadata": {},
   "outputs": [],
   "source": []
  },
  {
   "cell_type": "code",
   "execution_count": 88,
   "metadata": {},
   "outputs": [],
   "source": [
    "# print(f'Len x_train = {len(X_train)}')\n",
    "# print(f'Len x_test = {len(X_test)}')\n",
    "# print(f'Len y_train = {len(y_train)}')\n",
    "# print(f'Len y_test = {len(y_test)}')\n"
   ]
  },
  {
   "cell_type": "markdown",
   "metadata": {},
   "source": [
    "## Logistic regression"
   ]
  },
  {
   "cell_type": "code",
   "execution_count": 70,
   "metadata": {},
   "outputs": [
    {
     "name": "stdout",
     "output_type": "stream",
     "text": [
      "Score des validations croisées [0.826089   0.82824768 0.82709577 0.82850628 0.82683718]\n",
      "Score moyen : 0.8273551831820928\n"
     ]
    }
   ],
   "source": [
    "from sklearn.linear_model import LogisticRegression\n",
    "\n",
    "model_lr = LogisticRegression(random_state=42, n_jobs=-1)\n",
    "\n",
    "score = cross_val_score(model_lr, X, y, cv=5)\n",
    "print(f'Score des validations croisées {score}')\n",
    "print(f'Score moyen : {score.mean()}')\n",
    "\n",
    "df_resultats['lr_score'] = score"
   ]
  },
  {
   "cell_type": "code",
   "execution_count": 71,
   "metadata": {},
   "outputs": [
    {
     "name": "stdout",
     "output_type": "stream",
     "text": [
      "Fitting 5 folds for each of 15 candidates, totalling 75 fits\n",
      "Meilleurs paramètres : {'C': 100, 'max_iter': 100}\n",
      "Meilleur score AUC : 0.6973052132690352\n",
      "Meilleur estimateur : LogisticRegression(C=100)\n"
     ]
    }
   ],
   "source": [
    "clf_lr = GridSearchCV(estimator=LogisticRegression(), cv=5, param_grid={'max_iter' :[100,200,500], 'C' : [0.01, 0.1, 1, 10, 100]},scoring='roc_auc', verbose=1, n_jobs=-1)\n",
    "\n",
    "clf_lr.fit(X_train, y_train)\n",
    "\n",
    "print(f'Meilleurs paramètres : {clf_lr.best_params_}')\n",
    "print(f'Meilleur score AUC : {clf_lr.best_score_}')\n",
    "print(f'Meilleur estimateur : {clf_lr.best_estimator_}')"
   ]
  },
  {
   "cell_type": "code",
   "execution_count": 37,
   "metadata": {},
   "outputs": [],
   "source": [
    "# joblib.dump(clf_lr.best_estimator_, 'pred_cancer_logistic_regression.joblib')\n",
    "# print(\"Model save sous 'pred_cancer_logistic_regression.pkl'\")"
   ]
  },
  {
   "cell_type": "code",
   "execution_count": 72,
   "metadata": {},
   "outputs": [
    {
     "name": "stdout",
     "output_type": "stream",
     "text": [
      "Accuracy : 0.8260838592941914\n",
      "AUC : 0.6956947037876624\n",
      "\n",
      "\n",
      "Classification report : \n",
      "              precision    recall  f1-score   support\n",
      "\n",
      "           0       0.85      0.94      0.89     53887\n",
      "           1       0.69      0.45      0.55     16302\n",
      "\n",
      "    accuracy                           0.83     70189\n",
      "   macro avg       0.77      0.69      0.72     70189\n",
      "weighted avg       0.81      0.83      0.81     70189\n",
      "\n",
      "Matrice de confusion\n"
     ]
    },
    {
     "data": {
      "image/png": "[encoded data removed]",
      "text/plain": [
       "<Figure size 640x480 with 2 Axes>"
      ]
     },
     "metadata": {},
     "output_type": "display_data"
    },
    {
     "name": "stdout",
     "output_type": "stream",
     "text": [
      "Matrice de confusion : \n",
      "[[50654  3233]\n",
      " [ 8974  7328]]\n"
     ]
    }
   ],
   "source": [
    "best_lr_model = clf_lr.best_estimator_\n",
    "y_pred = best_lr_model.predict(X_test)\n",
    "y_proba = best_lr_model.predict_proba(X_test)[:,1]\n",
    "\n",
    "\n",
    "print(f'Accuracy : {accuracy_score(y_test, y_pred)}')\n",
    "\n",
    "print(f'AUC : {roc_auc_score(y_test, y_proba)}')\n",
    "\n",
    "print(f'\\n\\nClassification report : \\n{classification_report(y_test, y_pred)}')\n",
    "\n",
    "print(f'Matrice de confusion')\n",
    "\n",
    "\n",
    "confusion_matrix_graph = confusion_matrix(y_test, y_pred)\n",
    "sns.heatmap(confusion_matrix_graph, annot=True, fmt='d', cmap=\"Blues\")\n",
    "plt.xlabel(\"Prédictions\")\n",
    "plt.ylabel(\"Vraies valeurs\")\n",
    "plt.title(\"Matrice de confusion\")\n",
    "plt.show()\n",
    "print(f'Matrice de confusion : \\n{confusion_matrix(y_test, y_pred)}')"
   ]
  },
  {
   "cell_type": "markdown",
   "metadata": {},
   "source": [
    "## Random Forest regression"
   ]
  },
  {
   "cell_type": "code",
   "execution_count": 144,
   "metadata": {},
   "outputs": [
    {
     "name": "stdout",
     "output_type": "stream",
     "text": [
      "Score des validations croisées [0.82199864 0.82364004 0.82326391 0.82401617 0.82309935]\n",
      "Score moyen : 0.8232036202988547\n"
     ]
    }
   ],
   "source": [
    "from sklearn.ensemble import RandomForestClassifier\n",
    "\n",
    "model_rf = RandomForestClassifier(random_state=42, n_estimators=100, class_weight='balanced', n_jobs=-1)\n",
    "\n",
    "score = cross_val_score(model_rf, X, y, cv=5)\n",
    "print(f'Score des validations croisées {score}')\n",
    "print(f'Score moyen : {score.mean()}')"
   ]
  },
  {
   "cell_type": "code",
   "execution_count": null,
   "metadata": {},
   "outputs": [
    {
     "name": "stdout",
     "output_type": "stream",
     "text": [
      "Fitting 5 folds for each of 20 candidates, totalling 100 fits\n",
      "Meilleurs paramètres : {'bootstrap': False, 'max_depth': 10, 'max_features': 'log2', 'min_samples_leaf': 8, 'min_samples_split': 5, 'n_estimators': 51}\n",
      "Meilleur score AUC : 0.6981523924500899\n",
      "Meilleur estimateur : RandomForestClassifier(bootstrap=False, class_weight='balanced', max_depth=10,\n",
      "                       max_features='log2', min_samples_leaf=8,\n",
      "                       min_samples_split=5, n_estimators=51, n_jobs=-1,\n",
      "                       random_state=42)\n"
     ]
    }
   ],
   "source": [
    "from sklearn.model_selection import RandomizedSearchCV\n",
    "from scipy.stats import randint\n",
    "\n",
    "param_dist = {\n",
    "    'n_estimators': randint(50, 500),\n",
    "    'max_depth': [10, 20, None],\n",
    "    'min_samples_split': randint(2, 20),\n",
    "    'min_samples_leaf': randint(1, 10),\n",
    "    'max_features': ['sqrt', 'log2', None],\n",
    "    'bootstrap': [True, False]\n",
    "}\n",
    "\n",
    "clf_rf_randomized = RandomizedSearchCV(\n",
    "    RandomForestClassifier(random_state=42, class_weight='balanced', n_jobs=-1),\n",
    "    param_distributions=param_dist,\n",
    "    n_iter=20, \n",
    "    cv=5, \n",
    "    scoring='roc_auc',\n",
    "    verbose=1,\n",
    "    n_jobs=-1,\n",
    "    random_state=42\n",
    ")\n",
    "\n",
    "clf_rf_randomized.fit(X_train, y_train)\n",
    "print(f'Meilleurs paramètres : {clf_rf_randomized.best_params_}')\n",
    "print(f'Meilleur score AUC : {clf_rf_randomized.best_score_}')\n",
    "print(f'Meilleur estimateur : {clf_rf_randomized.best_estimator_}')"
   ]
  },
  {
   "cell_type": "code",
   "execution_count": 149,
   "metadata": {},
   "outputs": [
    {
     "name": "stdout",
     "output_type": "stream",
     "text": [
      "Accuracy : 0.8260696120474719\n",
      "AUC : 0.694750461074826\n",
      "\n",
      "\n",
      "Classification report : \n",
      "              precision    recall  f1-score   support\n",
      "\n",
      "           0       0.85      0.94      0.89     53887\n",
      "           1       0.69      0.45      0.55     16302\n",
      "\n",
      "    accuracy                           0.83     70189\n",
      "   macro avg       0.77      0.69      0.72     70189\n",
      "weighted avg       0.81      0.83      0.81     70189\n",
      "\n",
      "Matrice de confusion : \n",
      "[[50653  3234]\n",
      " [ 8974  7328]]\n",
      "Matrice de confusion\n"
     ]
    },
    {
     "data": {
      "image/png": "[encoded data removed]",
      "text/plain": [
       "<Figure size 640x480 with 2 Axes>"
      ]
     },
     "metadata": {},
     "output_type": "display_data"
    }
   ],
   "source": [
    "model_rf_randomized = clf_rf_randomized.best_estimator_\n",
    "\n",
    "y_pred_rf_randomized = model_rf_randomized.predict(X_test)\n",
    "\n",
    "print(f'Accuracy : {accuracy_score(y_test, y_pred_rf_randomized)}')\n",
    "print(f'AUC : {roc_auc_score(y_test, y_pred_rf_randomized)}')\n",
    "print(f'\\n\\nClassification report : \\n{classification_report(y_test, y_pred_rf_randomized)}')\n",
    "print(f'Matrice de confusion : \\n{confusion_matrix(y_test, y_pred_rf_randomized)}')\n",
    "\n",
    "print(f'Matrice de confusion')\n",
    "confusion_matrix_graph = confusion_matrix(y_test, y_pred_rf_randomized)\n",
    "sns.heatmap(confusion_matrix_graph, annot=True, fmt='d', cmap=\"Blues\")\n",
    "plt.xlabel(\"Prédictions\")\n",
    "plt.ylabel(\"Vraies valeurs\")\n",
    "plt.title(\"Matrice de confusion\")\n",
    "plt.show()"
   ]
  },
  {
   "cell_type": "markdown",
   "metadata": {},
   "source": [
    "## Decision Tree"
   ]
  },
  {
   "cell_type": "code",
   "execution_count": 97,
   "metadata": {},
   "outputs": [
    {
     "name": "stdout",
     "output_type": "stream",
     "text": [
      "Score des validations croisées [0.70321352 0.70797875 0.70506371 0.70713245 0.70506371]\n",
      "Score moyen : 0.7056904263786652\n"
     ]
    }
   ],
   "source": [
    "from sklearn.tree import DecisionTreeClassifier\n",
    "\n",
    "model_decision_tree = DecisionTreeClassifier(random_state=42)\n",
    "\n",
    "score = cross_val_score(model_decision_tree, X, y, cv=5)\n",
    "print(f'Score des validations croisées {score}')\n",
    "print(f'Score moyen : {score.mean()}')\n",
    "\n",
    "df_resultats['decision_tree'] = score"
   ]
  },
  {
   "cell_type": "code",
   "execution_count": 98,
   "metadata": {},
   "outputs": [
    {
     "name": "stdout",
     "output_type": "stream",
     "text": [
      "Fitting 5 folds for each of 20 candidates, totalling 100 fits\n",
      "Meilleurs paramètres : {'criterion': 'entropy', 'max_depth': 2}\n",
      "Meilleur score AUC : 0.6992229762040398\n",
      "Meilleur estimateur : DecisionTreeClassifier(criterion='entropy', max_depth=2)\n"
     ]
    }
   ],
   "source": [
    "clf_decision_tree = GridSearchCV(cv=5, estimator=DecisionTreeClassifier(), param_grid={'max_depth' :[1,2,3,4,5,6,7,8,9,10], 'criterion' : ['gini', 'entropy']},scoring='roc_auc', verbose=1, n_jobs=-1)\n",
    "clf_decision_tree.fit(X_train, y_train)\n",
    "\n",
    "print(f'Meilleurs paramètres : {clf_decision_tree.best_params_}')\n",
    "print(f'Meilleur score AUC : {clf_decision_tree.best_score_}')\n",
    "print(f'Meilleur estimateur : {clf_decision_tree.best_estimator_}')"
   ]
  },
  {
   "cell_type": "code",
   "execution_count": 99,
   "metadata": {},
   "outputs": [],
   "source": [
    "# joblib.dump(clf_decision_tree.best_estimator_, 'pred_cancer_decision_tree.joblib')\n",
    "# print(\"Model save sous 'pred_cancer_decision_tree.pkl'\")"
   ]
  },
  {
   "cell_type": "code",
   "execution_count": 100,
   "metadata": {},
   "outputs": [
    {
     "name": "stdout",
     "output_type": "stream",
     "text": [
      "Accuracy : 0.8260838592941914\n",
      "AUC : 0.6947597397505734\n",
      "\n",
      "\n",
      "Classification report : \n",
      "              precision    recall  f1-score   support\n",
      "\n",
      "           0       0.85      0.94      0.89     53887\n",
      "           1       0.69      0.45      0.55     16302\n",
      "\n",
      "    accuracy                           0.83     70189\n",
      "   macro avg       0.77      0.69      0.72     70189\n",
      "weighted avg       0.81      0.83      0.81     70189\n",
      "\n",
      "Matrice de confusion : \n",
      "[[50654  3233]\n",
      " [ 8974  7328]]\n",
      "Matrice de confusion\n"
     ]
    },
    {
     "data": {
      "image/png": "[encoded data removed]",
      "text/plain": [
       "<Figure size 640x480 with 2 Axes>"
      ]
     },
     "metadata": {},
     "output_type": "display_data"
    }
   ],
   "source": [
    "model_decision_tree = clf_decision_tree.best_estimator_\n",
    "\n",
    "y_pred_decision_tree = model_decision_tree.predict(X_test)\n",
    "\n",
    "print(f'Accuracy : {accuracy_score(y_test, y_pred_decision_tree)}')\n",
    "print(f'AUC : {roc_auc_score(y_test, y_pred_decision_tree)}')\n",
    "print(f'\\n\\nClassification report : \\n{classification_report(y_test, y_pred_decision_tree)}')\n",
    "print(f'Matrice de confusion : \\n{confusion_matrix(y_test, y_pred_decision_tree)}')\n",
    "\n",
    "print(f'Matrice de confusion')\n",
    "\n",
    "confusion_matrix_graph = confusion_matrix(y_test, y_pred_decision_tree)\n",
    "\n",
    "sns.heatmap(confusion_matrix_graph, annot=True, fmt='d', cmap=\"Blues\")\n",
    "plt.xlabel(\"Prédictions\")\n",
    "plt.ylabel(\"Vraies valeurs\")\n",
    "plt.title(\"Matrice de confusion\")\n",
    "plt.show()"
   ]
  },
  {
   "cell_type": "markdown",
   "metadata": {},
   "source": [
    "# Avec smote"
   ]
  },
  {
   "cell_type": "markdown",
   "metadata": {},
   "source": [
    "## train test split "
   ]
  },
  {
   "cell_type": "code",
   "execution_count": 89,
   "metadata": {},
   "outputs": [],
   "source": [
    "smote = SMOTE(sampling_strategy=\"auto\", random_state=42)\n",
    "\n",
    "X_train, X_test, y_train, y_test = train_test_split(X, y, test_size=0.33, random_state=42)\n",
    "X_resampled, y_resampled = smote.fit_resample(X_train, y_train)"
   ]
  },
  {
   "cell_type": "markdown",
   "metadata": {},
   "source": [
    "## Decison tree"
   ]
  },
  {
   "cell_type": "code",
   "execution_count": 101,
   "metadata": {},
   "outputs": [
    {
     "name": "stdout",
     "output_type": "stream",
     "text": [
      "Score des validations croisées [0.69183972 0.71949044 0.75441405 0.74907943 0.75184685]\n",
      "Score moyen : 0.7333340999281217\n"
     ]
    }
   ],
   "source": [
    "model_decision_tree_smote = DecisionTreeClassifier(random_state=42)\n",
    "\n",
    "score = cross_val_score(model_decision_tree_smote, X_resampled, y_resampled, cv=5)\n",
    "print(f'Score des validations croisées {score}')\n",
    "print(f'Score moyen : {score.mean()}')\n",
    "\n",
    "df_resultats['decision_tree_smote'] = score"
   ]
  },
  {
   "cell_type": "code",
   "execution_count": 102,
   "metadata": {},
   "outputs": [
    {
     "name": "stdout",
     "output_type": "stream",
     "text": [
      "Fitting 5 folds for each of 20 candidates, totalling 100 fits\n",
      "Meilleurs paramètres : {'criterion': 'gini', 'max_depth': 10}\n",
      "Meilleur score AUC : 0.7640295364287173\n",
      "Meilleur estimateur : DecisionTreeClassifier(max_depth=10)\n"
     ]
    }
   ],
   "source": [
    "clf_decision_tree_smote = GridSearchCV(cv=5, estimator=DecisionTreeClassifier(), param_grid={'max_depth' :[1,2,3,4,5,6,7,8,9,10], 'criterion' : ['gini', 'entropy']},scoring='roc_auc', verbose=1, n_jobs=-1)\n",
    "clf_decision_tree_smote.fit(X_resampled, y_resampled)\n",
    "\n",
    "print(f'Meilleurs paramètres : {clf_decision_tree_smote.best_params_}')\n",
    "print(f'Meilleur score AUC : {clf_decision_tree_smote.best_score_}')\n",
    "print(f'Meilleur estimateur : {clf_decision_tree_smote.best_estimator_}')"
   ]
  },
  {
   "cell_type": "code",
   "execution_count": 103,
   "metadata": {},
   "outputs": [
    {
     "name": "stdout",
     "output_type": "stream",
     "text": [
      "Accuracy : 0.8220518884725527\n",
      "AUC : 0.6908075452456336\n",
      "\n",
      "\n",
      "Classification report : \n",
      "              precision    recall  f1-score   support\n",
      "\n",
      "           0       0.85      0.94      0.89     53887\n",
      "           1       0.68      0.45      0.54     16302\n",
      "\n",
      "    accuracy                           0.82     70189\n",
      "   macro avg       0.76      0.69      0.71     70189\n",
      "weighted avg       0.81      0.82      0.81     70189\n",
      "\n",
      "Matrice de confusion : \n",
      "[[50433  3454]\n",
      " [ 9036  7266]]\n",
      "Matrice de confusion\n"
     ]
    },
    {
     "data": {
      "image/png": "[encoded data removed]",
      "text/plain": [
       "<Figure size 640x480 with 2 Axes>"
      ]
     },
     "metadata": {},
     "output_type": "display_data"
    }
   ],
   "source": [
    "model_decision_tree_smote = clf_decision_tree_smote.best_estimator_\n",
    "y_pred_decision_tree_smote = model_decision_tree_smote.predict(X_test)\n",
    "\n",
    "print(f'Accuracy : {accuracy_score(y_test, y_pred_decision_tree_smote)}')\n",
    "print(f'AUC : {roc_auc_score(y_test, y_pred_decision_tree_smote)}')\n",
    "print(f'\\n\\nClassification report : \\n{classification_report(y_test, y_pred_decision_tree_smote)}')\n",
    "print(f'Matrice de confusion : \\n{confusion_matrix(y_test, y_pred_decision_tree_smote)}')\n",
    "\n",
    "print(f'Matrice de confusion')\n",
    "confusion_matrix_graph = confusion_matrix(y_test, y_pred_decision_tree_smote)\n",
    "sns.heatmap(confusion_matrix_graph, annot=True, fmt='d', cmap=\"Blues\")\n",
    "plt.xlabel(\"Prédictions\")\n",
    "plt.ylabel(\"Vraies valeurs\")\n",
    "plt.title(\"Matrice de confusion\")\n",
    "plt.show()\n"
   ]
  },
  {
   "cell_type": "markdown",
   "metadata": {},
   "source": [
    "## LightGBM"
   ]
  },
  {
   "cell_type": "code",
   "execution_count": null,
   "metadata": {},
   "outputs": [
    {
     "name": "stdout",
     "output_type": "stream",
     "text": [
      "[LightGBM] [Info] Number of positive: 87447, number of negative: 87447\n",
      "[LightGBM] [Info] Auto-choosing row-wise multi-threading, the overhead of testing was 0.007761 seconds.\n",
      "You can set `force_row_wise=true` to remove the overhead.\n",
      "And if memory is not enough, you can set `force_col_wise=true`.\n",
      "[LightGBM] [Info] Total Bins 1417\n",
      "[LightGBM] [Info] Number of data points in the train set: 174894, number of used features: 13\n",
      "[LightGBM] [Info] [binary:BoostFromScore]: pavg=0.500000 -> initscore=0.000000\n",
      "[LightGBM] [Info] Number of positive: 87447, number of negative: 87447\n",
      "[LightGBM] [Info] Auto-choosing row-wise multi-threading, the overhead of testing was 0.012338 seconds.\n",
      "You can set `force_row_wise=true` to remove the overhead.\n",
      "And if memory is not enough, you can set `force_col_wise=true`.\n",
      "[LightGBM] [Info] Total Bins 1399\n",
      "[LightGBM] [Info] Number of data points in the train set: 174894, number of used features: 13\n",
      "[LightGBM] [Info] [binary:BoostFromScore]: pavg=0.500000 -> initscore=0.000000\n",
      "[LightGBM] [Info] Number of positive: 87447, number of negative: 87447\n",
      "[LightGBM] [Info] Auto-choosing row-wise multi-threading, the overhead of testing was 0.009863 seconds.\n",
      "You can set `force_row_wise=true` to remove the overhead.\n",
      "And if memory is not enough, you can set `force_col_wise=true`.\n",
      "[LightGBM] [Info] Total Bins 1379\n",
      "[LightGBM] [Info] Number of data points in the train set: 174894, number of used features: 13\n",
      "[LightGBM] [Info] [binary:BoostFromScore]: pavg=0.500000 -> initscore=0.000000\n",
      "[LightGBM] [Info] Number of positive: 87448, number of negative: 87447\n",
      "[LightGBM] [Info] Auto-choosing col-wise multi-threading, the overhead of testing was 0.027715 seconds.\n",
      "You can set `force_col_wise=true` to remove the overhead.\n",
      "[LightGBM] [Info] Total Bins 1377\n",
      "[LightGBM] [Info] Number of data points in the train set: 174895, number of used features: 13\n",
      "[LightGBM] [Info] [binary:BoostFromScore]: pavg=0.500000 -> initscore=-0.000000\n",
      "[LightGBM] [Info] Start training from score -0.000000\n",
      "[LightGBM] [Info] Number of positive: 87447, number of negative: 87448\n",
      "[LightGBM] [Info] Auto-choosing col-wise multi-threading, the overhead of testing was 0.018058 seconds.\n",
      "You can set `force_col_wise=true` to remove the overhead.\n",
      "[LightGBM] [Info] Total Bins 1385\n",
      "[LightGBM] [Info] Number of data points in the train set: 174895, number of used features: 13\n",
      "[LightGBM] [Info] [binary:BoostFromScore]: pavg=0.500000 -> initscore=0.000000\n",
      "[LightGBM] [Info] Start training from score 0.000000\n",
      "Score des validations croisées [0.69234288 0.71638002 0.73431068 0.73272648 0.73336688]\n",
      "Score moyen : 0.7218253869424593\n"
     ]
    }
   ],
   "source": [
    "model_lgbm = lgb.LGBMClassifier(random_state=42, class_weight='balanced', n_jobs=-1)\n",
    "\n",
    "score = cross_val_score(model_lgbm, X_resampled, y_resampled, cv=5)\n",
    "print(f'Score des validations croisées {score}')\n",
    "print(f'Score moyen : {score.mean()}')\n",
    "df_resultats['lightgbm_smote'] = score"
   ]
  },
  {
   "cell_type": "code",
   "execution_count": 83,
   "metadata": {},
   "outputs": [
    {
     "name": "stdout",
     "output_type": "stream",
     "text": [
      "Fitting 5 folds for each of 20 candidates, totalling 100 fits\n",
      "[LightGBM] [Info] Number of positive: 109309, number of negative: 109309\n",
      "[LightGBM] [Info] Auto-choosing row-wise multi-threading, the overhead of testing was 0.013948 seconds.\n",
      "You can set `force_row_wise=true` to remove the overhead.\n",
      "And if memory is not enough, you can set `force_col_wise=true`.\n",
      "[LightGBM] [Info] Total Bins 1405\n",
      "[LightGBM] [Info] Number of data points in the train set: 218618, number of used features: 13\n",
      "[LightGBM] [Info] [binary:BoostFromScore]: pavg=0.500000 -> initscore=0.000000\n",
      "[LightGBM] [Warning] No further splits with positive gain, best gain: -inf\n",
      "[LightGBM] [Warning] No further splits with positive gain, best gain: -inf\n",
      "[LightGBM] [Warning] No further splits with positive gain, best gain: -inf\n",
      "[LightGBM] [Warning] No further splits with positive gain, best gain: -inf\n",
      "[LightGBM] [Warning] No further splits with positive gain, best gain: -inf\n",
      "Meilleurs paramètres : {'colsample_bytree': np.float64(0.8416317594127292), 'learning_rate': np.float64(0.1929989973347863), 'max_depth': 10, 'min_child_samples': 39, 'n_estimators': 255, 'num_leaves': 100, 'reg_alpha': np.float64(2.587799816000169), 'reg_lambda': np.float64(6.62522284353982), 'subsample': np.float64(0.6558555380447055)}\n",
      "Meilleur score AUC : 0.8144736476842626\n",
      "Meilleur estimateur : LGBMClassifier(colsample_bytree=np.float64(0.8416317594127292),\n",
      "               learning_rate=np.float64(0.1929989973347863), max_depth=10,\n",
      "               min_child_samples=39, n_estimators=255, num_leaves=100,\n",
      "               reg_alpha=np.float64(2.587799816000169),\n",
      "               reg_lambda=np.float64(6.62522284353982),\n",
      "               subsample=np.float64(0.6558555380447055))\n"
     ]
    }
   ],
   "source": [
    "from scipy.stats import randint, uniform\n",
    "from sklearn.model_selection import RandomizedSearchCV\n",
    "\n",
    "param_dist = {\n",
    "    'num_leaves': randint(20, 150),\n",
    "    'max_depth': randint(3, 15),\n",
    "    'learning_rate': uniform(0.01, 0.3),\n",
    "    'n_estimators': randint(50, 500),\n",
    "    'min_child_samples': randint(5, 50),\n",
    "    'subsample': uniform(0.5, 0.5),\n",
    "    'colsample_bytree': uniform(0.5, 0.5),\n",
    "    'reg_lambda': uniform(0, 10),\n",
    "    'reg_alpha': uniform(0, 10)\n",
    "}\n",
    "\n",
    "clf_lgb = RandomizedSearchCV(\n",
    "    lgb.LGBMClassifier(),\n",
    "    param_distributions=param_dist,\n",
    "    n_iter=20, \n",
    "    cv=5, \n",
    "    scoring='roc_auc',\n",
    "    verbose=1,\n",
    "    n_jobs=-1,\n",
    "    random_state=42\n",
    ")\n",
    "\n",
    "clf_lgb.fit(X_resampled, y_resampled)\n",
    "\n",
    "print(f'Meilleurs paramètres : {clf_lgb.best_params_}')\n",
    "print(f'Meilleur score AUC : {clf_lgb.best_score_}')\n",
    "print(f'Meilleur estimateur : {clf_lgb.best_estimator_}')"
   ]
  },
  {
   "cell_type": "code",
   "execution_count": null,
   "metadata": {},
   "outputs": [
    {
     "name": "stdout",
     "output_type": "stream",
     "text": [
      "Accuracy : 0.7827864765134138\n",
      "AUC : 0.6808519724011498\n",
      "\n",
      "\n",
      "Classification report : \n",
      "              precision    recall  f1-score   support\n",
      "\n",
      "           0       0.85      0.87      0.86     53887\n",
      "           1       0.54      0.49      0.51     16302\n",
      "\n",
      "    accuracy                           0.78     70189\n",
      "   macro avg       0.69      0.68      0.69     70189\n",
      "weighted avg       0.78      0.78      0.78     70189\n",
      "\n",
      "Matrice de confusion : \n",
      "[[46947  6940]\n",
      " [ 8306  7996]]\n",
      "Matrice de confusion\n"
     ]
    },
    {
     "data": {
      "image/png": "[encoded data removed]",
      "text/plain": [
       "<Figure size 640x480 with 2 Axes>"
      ]
     },
     "metadata": {},
     "output_type": "display_data"
    }
   ],
   "source": [
    "model_lgbm = clf_lgb.best_estimator_\n",
    "y_pred_lgbm = model_lgbm.predict(X_test)\n",
    "\n",
    "print(f'Accuracy : {accuracy_score(y_test, y_pred_lgbm)}')\n",
    "print(f'AUC : {roc_auc_score(y_test, y_pred_lgbm)}')\n",
    "print(f'\\n\\nClassification report : \\n{classification_report(y_test, y_pred_lgbm)}')\n",
    "print(f'Matrice de confusion : \\n{confusion_matrix(y_test, y_pred_lgbm)}')\n",
    "\n",
    "print(f'Matrice de confusion')\n",
    "confusion_matrix_graph = confusion_matrix(y_test, y_pred_lgbm)\n",
    "sns.heatmap(confusion_matrix_graph, annot=True, fmt='d', cmap=\"Blues\")\n",
    "plt.xlabel(\"Prédictions\")\n",
    "plt.ylabel(\"Vraies valeurs\")\n",
    "plt.title(\"Matrice de confusion\")\n",
    "plt.show()"
   ]
  },
  {
   "cell_type": "code",
   "execution_count": null,
   "metadata": {},
   "outputs": [
    {
     "name": "stdout",
     "output_type": "stream",
     "text": [
      "Model save sous 'pred_cancer_light_gbm.pkl'\n"
     ]
    }
   ],
   "source": [
    "# joblib.dump(clf_lgb.best_estimator_, 'pred_cancer_light_gbm.joblib')\n",
    "# print(\"Model save sous 'pred_cancer_light_gbm.pkl'\")"
   ]
  },
  {
   "cell_type": "markdown",
   "metadata": {},
   "source": [
    "## random forest smote"
   ]
  },
  {
   "cell_type": "code",
   "execution_count": null,
   "metadata": {},
   "outputs": [],
   "source": [
    "model_rf_smote = RandomForestClassifier(random_state=42, class_weight='balanced', n_jobs=-1)\n",
    "score = cross_val_score(model_rf_smote, X_resampled, y_resampled, cv=5)\n",
    "print(f'Score des validations croisées {score}')\n",
    "print(f'Score moyen : {score.mean()}')\n",
    "df_resultats['random_forest_smote'] = score"
   ]
  },
  {
   "cell_type": "code",
   "execution_count": null,
   "metadata": {},
   "outputs": [],
   "source": [
    "from sklearn.model_selection import RandomizedSearchCV\n",
    "from scipy.stats import randint\n",
    "\n",
    "param_dist = {\n",
    "    'n_estimators': randint(50, 500),\n",
    "    'max_depth': [10, 20, None],\n",
    "    'min_samples_split': randint(2, 20),\n",
    "    'min_samples_leaf': randint(1, 10),\n",
    "    'max_features': ['sqrt', 'log2', None],\n",
    "    'bootstrap': [True, False]\n",
    "}\n",
    "\n",
    "clf_rf_smote = RandomizedSearchCV(\n",
    "    RandomForestClassifier(random_state=42, class_weight='balanced'),\n",
    "    param_distributions=param_dist,\n",
    "    n_iter=20, \n",
    "    cv=5, \n",
    "    scoring='roc_auc',\n",
    "    verbose=1,\n",
    "    n_jobs=-1,\n",
    "    random_state=42\n",
    ")\n",
    "\n",
    "clf_rf_smote.fit(X_train, y_train)\n",
    "print(f'Meilleurs paramètres : {clf_rf_smote.best_params_}')\n",
    "print(f'Meilleur score AUC : {clf_rf_smote.best_score_}')\n",
    "print(f'Meilleur estimateur : {clf_rf_smote.best_estimator_}')"
   ]
  },
  {
   "cell_type": "code",
   "execution_count": null,
   "metadata": {},
   "outputs": [],
   "source": [
    "model_rf_smote = clf_rf_smote.best_estimator_\n",
    "\n",
    "y_pred_rf_smote = model_rf_smote.predict(X_test)\n",
    "\n",
    "print(f'Accuracy : {accuracy_score(y_test, y_pred_rf_smote)}')\n",
    "print(f'AUC : {roc_auc_score(y_test, y_pred_rf_smote)}')\n",
    "print(f'\\n\\nClassification report : \\n{classification_report(y_test, y_pred_rf_smote)}')\n",
    "print(f'Matrice de confusion : \\n{confusion_matrix(y_test, y_pred_rf_smote)}')\n",
    "\n",
    "print(f'Matrice de confusion')\n",
    "confusion_matrix_graph = confusion_matrix(y_test, y_pred_rf_smote)\n",
    "sns.heatmap(confusion_matrix_graph, annot=True, fmt='d', cmap=\"Blues\")\n",
    "plt.xlabel(\"Prédictions\")\n",
    "plt.ylabel(\"Vraies valeurs\")\n",
    "plt.title(\"Matrice de confusion\")\n",
    "plt.show()"
   ]
  },
  {
   "cell_type": "markdown",
   "metadata": {},
   "source": [
    "## XGBoost"
   ]
  },
  {
   "cell_type": "code",
   "execution_count": 115,
   "metadata": {},
   "outputs": [
    {
     "name": "stdout",
     "output_type": "stream",
     "text": [
      "Score des validations croisées [0.62377642 0.65867716 0.68827189 0.68661803 0.69064337]\n",
      "Score moyen : 0.6695973710611819\n"
     ]
    }
   ],
   "source": [
    "model_xgb_smote = xgb.XGBClassifier(random_state=42, scale_pos_weight=2, n_jobs=-1)\n",
    "\n",
    "score = cross_val_score(model_xgb_smote, X_resampled, y_resampled, cv=5)\n",
    "print(f'Score des validations croisées {score}')\n",
    "print(f'Score moyen : {score.mean()}')\n",
    "df_resultats['xgboost_smote'] = score"
   ]
  },
  {
   "cell_type": "code",
   "execution_count": 116,
   "metadata": {},
   "outputs": [
    {
     "ename": "KeyboardInterrupt",
     "evalue": "",
     "output_type": "error",
     "traceback": [
      "\u001b[31m---------------------------------------------------------------------------\u001b[39m",
      "\u001b[31mKeyboardInterrupt\u001b[39m                         Traceback (most recent call last)",
      "\u001b[36mCell\u001b[39m\u001b[36m \u001b[39m\u001b[32mIn[116]\u001b[39m\u001b[32m, line 20\u001b[39m\n\u001b[32m      1\u001b[39m params = {\n\u001b[32m      2\u001b[39m     \u001b[33m\"\u001b[39m\u001b[33mn_estimators\u001b[39m\u001b[33m\"\u001b[39m: [\u001b[32m200\u001b[39m, \u001b[32m300\u001b[39m, \u001b[32m500\u001b[39m],  \u001b[38;5;66;03m# Plus d'arbres\u001b[39;00m\n\u001b[32m      3\u001b[39m     \u001b[33m\"\u001b[39m\u001b[33mlearning_rate\u001b[39m\u001b[33m\"\u001b[39m: [\u001b[32m0.01\u001b[39m, \u001b[32m0.05\u001b[39m, \u001b[32m0.1\u001b[39m, \u001b[32m0.2\u001b[39m],  \u001b[38;5;66;03m# Taux d'apprentissage plus précis\u001b[39;00m\n\u001b[32m   (...)\u001b[39m\u001b[32m      9\u001b[39m     \u001b[33m\"\u001b[39m\u001b[33mgamma\u001b[39m\u001b[33m\"\u001b[39m: [\u001b[32m0\u001b[39m, \u001b[32m0.1\u001b[39m, \u001b[32m0.5\u001b[39m, \u001b[32m1\u001b[39m]  \u001b[38;5;66;03m# Réduction des splits inutiles\u001b[39;00m\n\u001b[32m     10\u001b[39m }\n\u001b[32m     12\u001b[39m clf_xgboost_smote = GridSearchCV(\n\u001b[32m     13\u001b[39m     xgb.XGBClassifier(use_label_encoder=\u001b[38;5;28;01mFalse\u001b[39;00m, eval_metric=\u001b[33m\"\u001b[39m\u001b[33mlogloss\u001b[39m\u001b[33m\"\u001b[39m),\n\u001b[32m     14\u001b[39m     param_grid=params,\n\u001b[32m   (...)\u001b[39m\u001b[32m     17\u001b[39m     n_jobs=-\u001b[32m1\u001b[39m\n\u001b[32m     18\u001b[39m )\n\u001b[32m---> \u001b[39m\u001b[32m20\u001b[39m \u001b[43mclf_xgboost_smote\u001b[49m\u001b[43m.\u001b[49m\u001b[43mfit\u001b[49m\u001b[43m(\u001b[49m\u001b[43mX_resampled\u001b[49m\u001b[43m,\u001b[49m\u001b[43m \u001b[49m\u001b[43my_resampled\u001b[49m\u001b[43m)\u001b[49m\n\u001b[32m     22\u001b[39m \u001b[38;5;28mprint\u001b[39m(\u001b[33mf\u001b[39m\u001b[33m'\u001b[39m\u001b[33mMeilleurs paramètres : \u001b[39m\u001b[38;5;132;01m{\u001b[39;00mclf_xgboost_smote.best_params_\u001b[38;5;132;01m}\u001b[39;00m\u001b[33m'\u001b[39m)\n\u001b[32m     23\u001b[39m \u001b[38;5;28mprint\u001b[39m(\u001b[33mf\u001b[39m\u001b[33m'\u001b[39m\u001b[33mMeilleur score AUC : \u001b[39m\u001b[38;5;132;01m{\u001b[39;00mclf_xgboost_smote.best_score_\u001b[38;5;132;01m}\u001b[39;00m\u001b[33m'\u001b[39m)\n",
      "\u001b[36mFile \u001b[39m\u001b[32mc:\\Users\\bopat\\Desktop\\ML_Cancer_Risk_Project\\ml_cancer_venv\\Lib\\site-packages\\sklearn\\base.py:1389\u001b[39m, in \u001b[36m_fit_context.<locals>.decorator.<locals>.wrapper\u001b[39m\u001b[34m(estimator, *args, **kwargs)\u001b[39m\n\u001b[32m   1382\u001b[39m     estimator._validate_params()\n\u001b[32m   1384\u001b[39m \u001b[38;5;28;01mwith\u001b[39;00m config_context(\n\u001b[32m   1385\u001b[39m     skip_parameter_validation=(\n\u001b[32m   1386\u001b[39m         prefer_skip_nested_validation \u001b[38;5;129;01mor\u001b[39;00m global_skip_validation\n\u001b[32m   1387\u001b[39m     )\n\u001b[32m   1388\u001b[39m ):\n\u001b[32m-> \u001b[39m\u001b[32m1389\u001b[39m     \u001b[38;5;28;01mreturn\u001b[39;00m \u001b[43mfit_method\u001b[49m\u001b[43m(\u001b[49m\u001b[43mestimator\u001b[49m\u001b[43m,\u001b[49m\u001b[43m \u001b[49m\u001b[43m*\u001b[49m\u001b[43margs\u001b[49m\u001b[43m,\u001b[49m\u001b[43m \u001b[49m\u001b[43m*\u001b[49m\u001b[43m*\u001b[49m\u001b[43mkwargs\u001b[49m\u001b[43m)\u001b[49m\n",
      "\u001b[36mFile \u001b[39m\u001b[32mc:\\Users\\bopat\\Desktop\\ML_Cancer_Risk_Project\\ml_cancer_venv\\Lib\\site-packages\\sklearn\\model_selection\\_search.py:1024\u001b[39m, in \u001b[36mBaseSearchCV.fit\u001b[39m\u001b[34m(self, X, y, **params)\u001b[39m\n\u001b[32m   1018\u001b[39m     results = \u001b[38;5;28mself\u001b[39m._format_results(\n\u001b[32m   1019\u001b[39m         all_candidate_params, n_splits, all_out, all_more_results\n\u001b[32m   1020\u001b[39m     )\n\u001b[32m   1022\u001b[39m     \u001b[38;5;28;01mreturn\u001b[39;00m results\n\u001b[32m-> \u001b[39m\u001b[32m1024\u001b[39m \u001b[38;5;28;43mself\u001b[39;49m\u001b[43m.\u001b[49m\u001b[43m_run_search\u001b[49m\u001b[43m(\u001b[49m\u001b[43mevaluate_candidates\u001b[49m\u001b[43m)\u001b[49m\n\u001b[32m   1026\u001b[39m \u001b[38;5;66;03m# multimetric is determined here because in the case of a callable\u001b[39;00m\n\u001b[32m   1027\u001b[39m \u001b[38;5;66;03m# self.scoring the return type is only known after calling\u001b[39;00m\n\u001b[32m   1028\u001b[39m first_test_score = all_out[\u001b[32m0\u001b[39m][\u001b[33m\"\u001b[39m\u001b[33mtest_scores\u001b[39m\u001b[33m\"\u001b[39m]\n",
      "\u001b[36mFile \u001b[39m\u001b[32mc:\\Users\\bopat\\Desktop\\ML_Cancer_Risk_Project\\ml_cancer_venv\\Lib\\site-packages\\sklearn\\model_selection\\_search.py:1571\u001b[39m, in \u001b[36mGridSearchCV._run_search\u001b[39m\u001b[34m(self, evaluate_candidates)\u001b[39m\n\u001b[32m   1569\u001b[39m \u001b[38;5;28;01mdef\u001b[39;00m\u001b[38;5;250m \u001b[39m\u001b[34m_run_search\u001b[39m(\u001b[38;5;28mself\u001b[39m, evaluate_candidates):\n\u001b[32m   1570\u001b[39m \u001b[38;5;250m    \u001b[39m\u001b[33;03m\"\"\"Search all candidates in param_grid\"\"\"\u001b[39;00m\n\u001b[32m-> \u001b[39m\u001b[32m1571\u001b[39m     \u001b[43mevaluate_candidates\u001b[49m\u001b[43m(\u001b[49m\u001b[43mParameterGrid\u001b[49m\u001b[43m(\u001b[49m\u001b[38;5;28;43mself\u001b[39;49m\u001b[43m.\u001b[49m\u001b[43mparam_grid\u001b[49m\u001b[43m)\u001b[49m\u001b[43m)\u001b[49m\n",
      "\u001b[36mFile \u001b[39m\u001b[32mc:\\Users\\bopat\\Desktop\\ML_Cancer_Risk_Project\\ml_cancer_venv\\Lib\\site-packages\\sklearn\\model_selection\\_search.py:970\u001b[39m, in \u001b[36mBaseSearchCV.fit.<locals>.evaluate_candidates\u001b[39m\u001b[34m(candidate_params, cv, more_results)\u001b[39m\n\u001b[32m    962\u001b[39m \u001b[38;5;28;01mif\u001b[39;00m \u001b[38;5;28mself\u001b[39m.verbose > \u001b[32m0\u001b[39m:\n\u001b[32m    963\u001b[39m     \u001b[38;5;28mprint\u001b[39m(\n\u001b[32m    964\u001b[39m         \u001b[33m\"\u001b[39m\u001b[33mFitting \u001b[39m\u001b[38;5;132;01m{0}\u001b[39;00m\u001b[33m folds for each of \u001b[39m\u001b[38;5;132;01m{1}\u001b[39;00m\u001b[33m candidates,\u001b[39m\u001b[33m\"\u001b[39m\n\u001b[32m    965\u001b[39m         \u001b[33m\"\u001b[39m\u001b[33m totalling \u001b[39m\u001b[38;5;132;01m{2}\u001b[39;00m\u001b[33m fits\u001b[39m\u001b[33m\"\u001b[39m.format(\n\u001b[32m    966\u001b[39m             n_splits, n_candidates, n_candidates * n_splits\n\u001b[32m    967\u001b[39m         )\n\u001b[32m    968\u001b[39m     )\n\u001b[32m--> \u001b[39m\u001b[32m970\u001b[39m out = \u001b[43mparallel\u001b[49m\u001b[43m(\u001b[49m\n\u001b[32m    971\u001b[39m \u001b[43m    \u001b[49m\u001b[43mdelayed\u001b[49m\u001b[43m(\u001b[49m\u001b[43m_fit_and_score\u001b[49m\u001b[43m)\u001b[49m\u001b[43m(\u001b[49m\n\u001b[32m    972\u001b[39m \u001b[43m        \u001b[49m\u001b[43mclone\u001b[49m\u001b[43m(\u001b[49m\u001b[43mbase_estimator\u001b[49m\u001b[43m)\u001b[49m\u001b[43m,\u001b[49m\n\u001b[32m    973\u001b[39m \u001b[43m        \u001b[49m\u001b[43mX\u001b[49m\u001b[43m,\u001b[49m\n\u001b[32m    974\u001b[39m \u001b[43m        \u001b[49m\u001b[43my\u001b[49m\u001b[43m,\u001b[49m\n\u001b[32m    975\u001b[39m \u001b[43m        \u001b[49m\u001b[43mtrain\u001b[49m\u001b[43m=\u001b[49m\u001b[43mtrain\u001b[49m\u001b[43m,\u001b[49m\n\u001b[32m    976\u001b[39m \u001b[43m        \u001b[49m\u001b[43mtest\u001b[49m\u001b[43m=\u001b[49m\u001b[43mtest\u001b[49m\u001b[43m,\u001b[49m\n\u001b[32m    977\u001b[39m \u001b[43m        \u001b[49m\u001b[43mparameters\u001b[49m\u001b[43m=\u001b[49m\u001b[43mparameters\u001b[49m\u001b[43m,\u001b[49m\n\u001b[32m    978\u001b[39m \u001b[43m        \u001b[49m\u001b[43msplit_progress\u001b[49m\u001b[43m=\u001b[49m\u001b[43m(\u001b[49m\u001b[43msplit_idx\u001b[49m\u001b[43m,\u001b[49m\u001b[43m \u001b[49m\u001b[43mn_splits\u001b[49m\u001b[43m)\u001b[49m\u001b[43m,\u001b[49m\n\u001b[32m    979\u001b[39m \u001b[43m        \u001b[49m\u001b[43mcandidate_progress\u001b[49m\u001b[43m=\u001b[49m\u001b[43m(\u001b[49m\u001b[43mcand_idx\u001b[49m\u001b[43m,\u001b[49m\u001b[43m \u001b[49m\u001b[43mn_candidates\u001b[49m\u001b[43m)\u001b[49m\u001b[43m,\u001b[49m\n\u001b[32m    980\u001b[39m \u001b[43m        \u001b[49m\u001b[43m*\u001b[49m\u001b[43m*\u001b[49m\u001b[43mfit_and_score_kwargs\u001b[49m\u001b[43m,\u001b[49m\n\u001b[32m    981\u001b[39m \u001b[43m    \u001b[49m\u001b[43m)\u001b[49m\n\u001b[32m    982\u001b[39m \u001b[43m    \u001b[49m\u001b[38;5;28;43;01mfor\u001b[39;49;00m\u001b[43m \u001b[49m\u001b[43m(\u001b[49m\u001b[43mcand_idx\u001b[49m\u001b[43m,\u001b[49m\u001b[43m \u001b[49m\u001b[43mparameters\u001b[49m\u001b[43m)\u001b[49m\u001b[43m,\u001b[49m\u001b[43m \u001b[49m\u001b[43m(\u001b[49m\u001b[43msplit_idx\u001b[49m\u001b[43m,\u001b[49m\u001b[43m \u001b[49m\u001b[43m(\u001b[49m\u001b[43mtrain\u001b[49m\u001b[43m,\u001b[49m\u001b[43m \u001b[49m\u001b[43mtest\u001b[49m\u001b[43m)\u001b[49m\u001b[43m)\u001b[49m\u001b[43m \u001b[49m\u001b[38;5;129;43;01min\u001b[39;49;00m\u001b[43m \u001b[49m\u001b[43mproduct\u001b[49m\u001b[43m(\u001b[49m\n\u001b[32m    983\u001b[39m \u001b[43m        \u001b[49m\u001b[38;5;28;43menumerate\u001b[39;49m\u001b[43m(\u001b[49m\u001b[43mcandidate_params\u001b[49m\u001b[43m)\u001b[49m\u001b[43m,\u001b[49m\n\u001b[32m    984\u001b[39m \u001b[43m        \u001b[49m\u001b[38;5;28;43menumerate\u001b[39;49m\u001b[43m(\u001b[49m\u001b[43mcv\u001b[49m\u001b[43m.\u001b[49m\u001b[43msplit\u001b[49m\u001b[43m(\u001b[49m\u001b[43mX\u001b[49m\u001b[43m,\u001b[49m\u001b[43m \u001b[49m\u001b[43my\u001b[49m\u001b[43m,\u001b[49m\u001b[43m \u001b[49m\u001b[43m*\u001b[49m\u001b[43m*\u001b[49m\u001b[43mrouted_params\u001b[49m\u001b[43m.\u001b[49m\u001b[43msplitter\u001b[49m\u001b[43m.\u001b[49m\u001b[43msplit\u001b[49m\u001b[43m)\u001b[49m\u001b[43m)\u001b[49m\u001b[43m,\u001b[49m\n\u001b[32m    985\u001b[39m \u001b[43m    \u001b[49m\u001b[43m)\u001b[49m\n\u001b[32m    986\u001b[39m \u001b[43m\u001b[49m\u001b[43m)\u001b[49m\n\u001b[32m    988\u001b[39m \u001b[38;5;28;01mif\u001b[39;00m \u001b[38;5;28mlen\u001b[39m(out) < \u001b[32m1\u001b[39m:\n\u001b[32m    989\u001b[39m     \u001b[38;5;28;01mraise\u001b[39;00m \u001b[38;5;167;01mValueError\u001b[39;00m(\n\u001b[32m    990\u001b[39m         \u001b[33m\"\u001b[39m\u001b[33mNo fits were performed. \u001b[39m\u001b[33m\"\u001b[39m\n\u001b[32m    991\u001b[39m         \u001b[33m\"\u001b[39m\u001b[33mWas the CV iterator empty? \u001b[39m\u001b[33m\"\u001b[39m\n\u001b[32m    992\u001b[39m         \u001b[33m\"\u001b[39m\u001b[33mWere there no candidates?\u001b[39m\u001b[33m\"\u001b[39m\n\u001b[32m    993\u001b[39m     )\n",
      "\u001b[36mFile \u001b[39m\u001b[32mc:\\Users\\bopat\\Desktop\\ML_Cancer_Risk_Project\\ml_cancer_venv\\Lib\\site-packages\\sklearn\\utils\\parallel.py:77\u001b[39m, in \u001b[36mParallel.__call__\u001b[39m\u001b[34m(self, iterable)\u001b[39m\n\u001b[32m     72\u001b[39m config = get_config()\n\u001b[32m     73\u001b[39m iterable_with_config = (\n\u001b[32m     74\u001b[39m     (_with_config(delayed_func, config), args, kwargs)\n\u001b[32m     75\u001b[39m     \u001b[38;5;28;01mfor\u001b[39;00m delayed_func, args, kwargs \u001b[38;5;129;01min\u001b[39;00m iterable\n\u001b[32m     76\u001b[39m )\n\u001b[32m---> \u001b[39m\u001b[32m77\u001b[39m \u001b[38;5;28;01mreturn\u001b[39;00m \u001b[38;5;28;43msuper\u001b[39;49m\u001b[43m(\u001b[49m\u001b[43m)\u001b[49m\u001b[43m.\u001b[49m\u001b[34;43m__call__\u001b[39;49m\u001b[43m(\u001b[49m\u001b[43miterable_with_config\u001b[49m\u001b[43m)\u001b[49m\n",
      "\u001b[36mFile \u001b[39m\u001b[32mc:\\Users\\bopat\\Desktop\\ML_Cancer_Risk_Project\\ml_cancer_venv\\Lib\\site-packages\\joblib\\parallel.py:2007\u001b[39m, in \u001b[36mParallel.__call__\u001b[39m\u001b[34m(self, iterable)\u001b[39m\n\u001b[32m   2001\u001b[39m \u001b[38;5;66;03m# The first item from the output is blank, but it makes the interpreter\u001b[39;00m\n\u001b[32m   2002\u001b[39m \u001b[38;5;66;03m# progress until it enters the Try/Except block of the generator and\u001b[39;00m\n\u001b[32m   2003\u001b[39m \u001b[38;5;66;03m# reaches the first `yield` statement. This starts the asynchronous\u001b[39;00m\n\u001b[32m   2004\u001b[39m \u001b[38;5;66;03m# dispatch of the tasks to the workers.\u001b[39;00m\n\u001b[32m   2005\u001b[39m \u001b[38;5;28mnext\u001b[39m(output)\n\u001b[32m-> \u001b[39m\u001b[32m2007\u001b[39m \u001b[38;5;28;01mreturn\u001b[39;00m output \u001b[38;5;28;01mif\u001b[39;00m \u001b[38;5;28mself\u001b[39m.return_generator \u001b[38;5;28;01melse\u001b[39;00m \u001b[38;5;28mlist\u001b[39m(output)\n",
      "\u001b[36mFile \u001b[39m\u001b[32mc:\\Users\\bopat\\Desktop\\ML_Cancer_Risk_Project\\ml_cancer_venv\\Lib\\site-packages\\joblib\\parallel.py:1650\u001b[39m, in \u001b[36mParallel._get_outputs\u001b[39m\u001b[34m(self, iterator, pre_dispatch)\u001b[39m\n\u001b[32m   1647\u001b[39m     \u001b[38;5;28;01myield\u001b[39;00m\n\u001b[32m   1649\u001b[39m     \u001b[38;5;28;01mwith\u001b[39;00m \u001b[38;5;28mself\u001b[39m._backend.retrieval_context():\n\u001b[32m-> \u001b[39m\u001b[32m1650\u001b[39m         \u001b[38;5;28;01myield from\u001b[39;00m \u001b[38;5;28mself\u001b[39m._retrieve()\n\u001b[32m   1652\u001b[39m \u001b[38;5;28;01mexcept\u001b[39;00m \u001b[38;5;167;01mGeneratorExit\u001b[39;00m:\n\u001b[32m   1653\u001b[39m     \u001b[38;5;66;03m# The generator has been garbage collected before being fully\u001b[39;00m\n\u001b[32m   1654\u001b[39m     \u001b[38;5;66;03m# consumed. This aborts the remaining tasks if possible and warn\u001b[39;00m\n\u001b[32m   1655\u001b[39m     \u001b[38;5;66;03m# the user if necessary.\u001b[39;00m\n\u001b[32m   1656\u001b[39m     \u001b[38;5;28mself\u001b[39m._exception = \u001b[38;5;28;01mTrue\u001b[39;00m\n",
      "\u001b[36mFile \u001b[39m\u001b[32mc:\\Users\\bopat\\Desktop\\ML_Cancer_Risk_Project\\ml_cancer_venv\\Lib\\site-packages\\joblib\\parallel.py:1762\u001b[39m, in \u001b[36mParallel._retrieve\u001b[39m\u001b[34m(self)\u001b[39m\n\u001b[32m   1757\u001b[39m \u001b[38;5;66;03m# If the next job is not ready for retrieval yet, we just wait for\u001b[39;00m\n\u001b[32m   1758\u001b[39m \u001b[38;5;66;03m# async callbacks to progress.\u001b[39;00m\n\u001b[32m   1759\u001b[39m \u001b[38;5;28;01mif\u001b[39;00m ((\u001b[38;5;28mlen\u001b[39m(\u001b[38;5;28mself\u001b[39m._jobs) == \u001b[32m0\u001b[39m) \u001b[38;5;129;01mor\u001b[39;00m\n\u001b[32m   1760\u001b[39m     (\u001b[38;5;28mself\u001b[39m._jobs[\u001b[32m0\u001b[39m].get_status(\n\u001b[32m   1761\u001b[39m         timeout=\u001b[38;5;28mself\u001b[39m.timeout) == TASK_PENDING)):\n\u001b[32m-> \u001b[39m\u001b[32m1762\u001b[39m     time.sleep(\u001b[32m0.01\u001b[39m)\n\u001b[32m   1763\u001b[39m     \u001b[38;5;28;01mcontinue\u001b[39;00m\n\u001b[32m   1765\u001b[39m \u001b[38;5;66;03m# We need to be careful: the job list can be filling up as\u001b[39;00m\n\u001b[32m   1766\u001b[39m \u001b[38;5;66;03m# we empty it and Python list are not thread-safe by\u001b[39;00m\n\u001b[32m   1767\u001b[39m \u001b[38;5;66;03m# default hence the use of the lock\u001b[39;00m\n",
      "\u001b[31mKeyboardInterrupt\u001b[39m: "
     ]
    }
   ],
   "source": [
    "params = {\n",
    "    \"n_estimators\": [200, 300, 500],  # Plus d'arbres\n",
    "    \"learning_rate\": [0.01, 0.05, 0.1, 0.2],  # Taux d'apprentissage plus précis\n",
    "    \"max_depth\": [3, 4, 5, 6],  # Contrôle de la complexité\n",
    "    \"subsample\": [0.7, 0.8, 1],  # Évite le sur-apprentissage\n",
    "    \"colsample_bytree\": [0.6, 0.8, 1],  # Sélection des features\n",
    "    \"lambda\": [0, 1, 10],  # Régularisation L2\n",
    "    \"alpha\": [0, 1, 10],  # Régularisation L1\n",
    "    \"gamma\": [0, 0.1, 0.5, 1]  # Réduction des splits inutiles\n",
    "}\n",
    "\n",
    "clf_xgboost_smote = GridSearchCV(\n",
    "    xgb.XGBClassifier(use_label_encoder=False, eval_metric=\"logloss\"),\n",
    "    param_grid=params,\n",
    "    cv=5,\n",
    "    scoring=\"accuracy\",\n",
    "    n_jobs=-1\n",
    ")\n",
    "\n",
    "clf_xgboost_smote.fit(X_resampled, y_resampled)\n",
    "\n",
    "print(f'Meilleurs paramètres : {clf_xgboost_smote.best_params_}')\n",
    "print(f'Meilleur score AUC : {clf_xgboost_smote.best_score_}')\n",
    "print(f'Meilleur estimateur : {clf_xgboost_smote.best_estimator_}')\n"
   ]
  },
  {
   "cell_type": "code",
   "execution_count": null,
   "metadata": {},
   "outputs": [
    {
     "name": "stdout",
     "output_type": "stream",
     "text": [
      "Accuracy : 0.762598127911781\n",
      "AUC : 0.6709129500003777\n",
      "\n",
      "\n",
      "Classification report : \n",
      "              precision    recall  f1-score   support\n",
      "\n",
      "           0       0.85      0.84      0.84     53887\n",
      "           1       0.49      0.50      0.49     16302\n",
      "\n",
      "    accuracy                           0.76     70189\n",
      "   macro avg       0.67      0.67      0.67     70189\n",
      "weighted avg       0.76      0.76      0.76     70189\n",
      "\n",
      "Matrice de confusion : \n",
      "[[45380  8507]\n",
      " [ 8156  8146]]\n"
     ]
    }
   ],
   "source": [
    "model_xgb_smote = clf_xgboost_smote.best_estimator_\n",
    "y_pred_xgb_smote = model_xgb_smote.predict(X_test)\n",
    "\n",
    "print(f'Accuracy : {accuracy_score(y_test, y_pred_xgb_smote)}')\n",
    "print(f'AUC : {roc_auc_score(y_test, y_pred_xgb_smote)}')\n",
    "print(f'\\n\\nClassification report : \\n{classification_report(y_test, y_pred_xgb_smote)}')\n",
    "print(f'Matrice de confusion : \\n{confusion_matrix(y_test, y_pred_xgb_smote)}')"
   ]
  },
  {
   "cell_type": "markdown",
   "metadata": {},
   "source": [
    "# Print des différents test sous forme de graph"
   ]
  },
  {
   "cell_type": "code",
   "execution_count": null,
   "metadata": {},
   "outputs": [],
   "source": [
    "# Calcul de la moyenne des performances pour chaque modèle\n",
    "mean_results = df_resultats.mean()\n",
    "\n",
    "# Affichage des résultats triés par performance décroissante\n",
    "mean_results = mean_results.sort_values(ascending=False)\n",
    "\n",
    "print(\"Moyenne des scores pour chaque modèle :\")\n",
    "print(mean_results)\n",
    "\n",
    "# Optionnel : affichage sous forme de graphique\n",
    "import matplotlib.pyplot as plt\n",
    "\n",
    "plt.figure(figsize=(8, 5))\n",
    "mean_results.plot(kind='bar', color=['blue', 'green', 'red', 'purple'])\n",
    "plt.xlabel(\"Modèles\")\n",
    "plt.ylabel(\"Score moyen\")\n",
    "plt.title(\"Comparaison des modèles\")\n",
    "plt.xticks(rotation=45)\n",
    "plt.grid(axis=\"y\", linestyle=\"--\", alpha=0.7)\n",
    "plt.show()"
   ]
  }
 ],
 "metadata": {
  "kernelspec": {
   "display_name": "ml_cancer_venv",
   "language": "python",
   "name": "python3"
  },
  "language_info": {
   "codemirror_mode": {
    "name": "ipython",
    "version": 3
   },
   "file_extension": ".py",
   "mimetype": "text/x-python",
   "name": "python",
   "nbconvert_exporter": "python",
   "pygments_lexer": "ipython3",
   "version": "3.11.2"
  }
 },
 "nbformat": 4,
 "nbformat_minor": 2
}
